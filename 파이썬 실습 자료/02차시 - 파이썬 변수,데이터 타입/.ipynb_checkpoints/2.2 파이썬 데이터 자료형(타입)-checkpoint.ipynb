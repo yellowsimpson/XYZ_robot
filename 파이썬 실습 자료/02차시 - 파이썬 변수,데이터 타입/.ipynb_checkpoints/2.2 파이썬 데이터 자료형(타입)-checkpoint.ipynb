{
 "cells": [
  {
   "cell_type": "markdown",
   "id": "6e98e55c-d3a7-48de-8270-56acbda812c4",
   "metadata": {},
   "source": [
    "# 2.2 데이터 자료형(타입)"
   ]
  },
  {
   "cell_type": "markdown",
   "id": "d9deadd5-53cc-47d0-8e11-2f37bfd93b75",
   "metadata": {
    "tags": []
   },
   "source": [
    "## 2.2 숫자형"
   ]
  },
  {
   "cell_type": "markdown",
   "id": "f0610f43-9393-4b38-8694-c2a89b5e4a27",
   "metadata": {},
   "source": [
    "숫자형(Number)이란 숫자 형태로 이루어진 자료형입니다.<br>\n",
    "우리가 흔히 사용하는 것을 생각해 봅시다.<br> 123 같은 정수, 12.34 같은 실수 같은 문자와 구분되는 수식을 연산할 수 있습니다."
   ]
  },
  {
   "cell_type": "markdown",
   "id": "4f479e85-d950-4efb-bd36-a7ad1c3b0ae7",
   "metadata": {},
   "source": [
    "### 2.2.1 정수(Integer)"
   ]
  },
  {
   "cell_type": "code",
   "execution_count": null,
   "id": "7e653229-3387-4905-b68d-09d694a9be9d",
   "metadata": {},
   "outputs": [],
   "source": [
    "# 그전에 변수에대한 것을 이해해야하는데 어떤 정보를 담는 그릇, 실질적으로는 메모리에 데이터를 저장하는 주소의 별칭"
   ]
  },
  {
   "cell_type": "code",
   "execution_count": 2,
   "id": "828989c7-72ae-47c7-b98a-f77df640a73a",
   "metadata": {},
   "outputs": [
    {
     "name": "stdout",
     "output_type": "stream",
     "text": [
      "100\n"
     ]
    }
   ],
   "source": [
    "a = 100\n",
    "print(a)"
   ]
  },
  {
   "cell_type": "markdown",
   "id": "286f8356-127d-48f6-8b90-74cf9f766a88",
   "metadata": {},
   "source": [
    "### 2.2.2 실수(Float)"
   ]
  },
  {
   "cell_type": "code",
   "execution_count": 9,
   "id": "1b26aee3-28fb-4d8b-91a2-eb5fd25e07e5",
   "metadata": {},
   "outputs": [
    {
     "name": "stdout",
     "output_type": "stream",
     "text": [
      "1.1\n"
     ]
    }
   ],
   "source": [
    "a = 1.1\n",
    "b = 3.14\n",
    "c = 1.5e-3\n",
    "print(a)"
   ]
  },
  {
   "cell_type": "markdown",
   "id": "a052f0fd-0af7-4aa2-81a3-d7def4e3a7a7",
   "metadata": {},
   "source": [
    "### 2.2.3 불형(Bool)"
   ]
  },
  {
   "cell_type": "markdown",
   "id": "b00ed56b-b110-40e3-b5e0-b80ddc083ff9",
   "metadata": {},
   "source": [
    "참(True)또는 거짓(False) 이 둘만 존재하는 자료형입니다.<br>\n",
    "나중에 배울 제어문에서 이를 기준으로 판단하게 됩니다."
   ]
  },
  {
   "cell_type": "code",
   "execution_count": 5,
   "id": "872c9271-f5a2-4671-b7b7-af30401649c5",
   "metadata": {},
   "outputs": [
    {
     "name": "stdout",
     "output_type": "stream",
     "text": [
      "False\n",
      "<class 'bool'>\n"
     ]
    }
   ],
   "source": [
    "# True와 False는 예약어로 첫글자는 항상 대문자로 사용해야합니다.\n",
    "a = True\n",
    "B = False\n",
    "print(B)\n",
    "# type()함수로 변수의 자료형을 알 수 있습니다.\n",
    "print(type(a))"
   ]
  },
  {
   "cell_type": "code",
   "execution_count": 1,
   "id": "6a5bb013-b7c1-4bdf-ac2d-08d8742ff888",
   "metadata": {},
   "outputs": [
    {
     "name": "stdout",
     "output_type": "stream",
     "text": [
      "<class 'bool'>\n"
     ]
    }
   ],
   "source": [
    "t = true\n",
    "#f = False\n",
    "\n",
    "print(type(t))"
   ]
  },
  {
   "cell_type": "markdown",
   "id": "246b8a5b-8914-4ee2-b1f5-e7b1aaa0cf12",
   "metadata": {},
   "source": [
    "### 돌발 퀴즈\n",
    "\n",
    "#### 나이를 물어보고 , 나이를 입력 받고, 입력받은 나이를 출력하세요."
   ]
  },
  {
   "cell_type": "code",
   "execution_count": 2,
   "id": "664e150a-7fe0-48b7-8b59-ec926743bbf5",
   "metadata": {},
   "outputs": [
    {
     "name": "stdin",
     "output_type": "stream",
     "text": [
      "나이는? 23\n"
     ]
    },
    {
     "name": "stdout",
     "output_type": "stream",
     "text": [
      "당신의 나이는   23\n"
     ]
    }
   ],
   "source": [
    "age = input('나이는?')\n",
    "\n",
    "print('당신의 나이는 ', age)"
   ]
  },
  {
   "cell_type": "code",
   "execution_count": 2,
   "id": "50ce8b49-51b8-484f-bb9c-e94377c59f00",
   "metadata": {
    "tags": []
   },
   "outputs": [
    {
     "name": "stdout",
     "output_type": "stream",
     "text": [
      "2\n",
      "4\n",
      "6\n"
     ]
    }
   ],
   "source": [
    "for a in [1,2,3]:\n",
    "    print(a*2)"
   ]
  },
  {
   "cell_type": "code",
   "execution_count": 3,
   "id": "6098bb18-9ad4-4c78-bfc5-6e00342ba434",
   "metadata": {
    "tags": []
   },
   "outputs": [
    {
     "name": "stdout",
     "output_type": "stream",
     "text": [
      "1\n",
      "2\n",
      "3\n"
     ]
    }
   ],
   "source": [
    "i =0\n",
    "while i < 3:\n",
    "    i = i + 1\n",
    "    print(i)\n",
    "    "
   ]
  },
  {
   "cell_type": "code",
   "execution_count": null,
   "id": "0fabf7e7-5522-4aa6-9654-f899928ab95a",
   "metadata": {},
   "outputs": [],
   "source": []
  }
 ],
 "metadata": {
  "kernelspec": {
   "display_name": "Python 3 (ipykernel)",
   "language": "python",
   "name": "python3"
  },
  "language_info": {
   "codemirror_mode": {
    "name": "ipython",
    "version": 3
   },
   "file_extension": ".py",
   "mimetype": "text/x-python",
   "name": "python",
   "nbconvert_exporter": "python",
   "pygments_lexer": "ipython3",
   "version": "3.11.5"
  }
 },
 "nbformat": 4,
 "nbformat_minor": 5
}
