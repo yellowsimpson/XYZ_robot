{
 "cells": [
  {
   "cell_type": "markdown",
   "id": "a1d447cb-5417-463c-8968-c67f868c45fc",
   "metadata": {},
   "source": [
    "# 7.5 쓰레드"
   ]
  },
  {
   "cell_type": "code",
   "execution_count": null,
   "id": "0c81dcbf-eeeb-4e96-8017-1cbe5dcb8b28",
   "metadata": {},
   "outputs": [],
   "source": []
  },
  {
   "cell_type": "code",
   "execution_count": 2,
   "id": "f88f9f35-db1c-4a6d-8182-42f66bbcc84a",
   "metadata": {
    "tags": []
   },
   "outputs": [
    {
     "name": "stdout",
     "output_type": "stream",
     "text": [
      "1\n",
      "A\n",
      "2\n",
      "B\n",
      "3\n",
      "4\n",
      "C\n",
      "5\n",
      "D\n",
      "E\n",
      "모든 작업 완료\n"
     ]
    }
   ],
   "source": [
    "import threading\n",
    "import time\n",
    "\n",
    "def print_numbers():\n",
    "    for i in range(1, 6):\n",
    "        print(i)\n",
    "        time.sleep(1)  # 1초 대기\n",
    "\n",
    "def print_letters():\n",
    "    letters = ['A', 'B', 'C', 'D', 'E']\n",
    "    for letter in letters:\n",
    "        print(letter)\n",
    "        time.sleep(1.5)  # 1.5초 대기\n",
    "\n",
    "# 쓰레드 생성\n",
    "thread1 = threading.Thread(target=print_numbers)\n",
    "thread2 = threading.Thread(target=print_letters)\n",
    "\n",
    "# 쓰레드 시작\n",
    "thread1.start()\n",
    "thread2.start()\n",
    "\n",
    "# 쓰레드가 종료될 때까지 대기\n",
    "thread1.join()\n",
    "thread2.join()\n",
    "\n",
    "print(\"모든 작업 완료\")\n"
   ]
  },
  {
   "cell_type": "code",
   "execution_count": 3,
   "id": "ed1a172c-7733-472b-9c2d-bc615d17bebb",
   "metadata": {
    "tags": []
   },
   "outputs": [
    {
     "name": "stdout",
     "output_type": "stream",
     "text": [
      "1\n",
      "A\n",
      "2\n",
      "B\n",
      "3\n",
      "4\n",
      "C\n",
      "5\n",
      "D\n",
      "E\n",
      "모든 작업 완료\n"
     ]
    }
   ],
   "source": [
    "import threading\n",
    "import time\n",
    "\n",
    "def print_numbers():\n",
    "    for i in range(1, 6):\n",
    "        print(i)\n",
    "        time.sleep(1)  # 1초 대기\n",
    "\n",
    "def print_letters():\n",
    "    letters = ['A', 'B', 'C', 'D', 'E']\n",
    "    for letter in letters:\n",
    "        print(letter)\n",
    "        time.sleep(1.5)  # 1.5초 대기\n",
    "\n",
    "# 쓰레드 생성\n",
    "thread1 = threading.Thread(target=print_numbers)\n",
    "thread2 = threading.Thread(target=print_letters)\n",
    "\n",
    "# 쓰레드 시작\n",
    "thread1.start()\n",
    "thread2.start()\n",
    "\n",
    "# 쓰레드가 종료될 때까지 대기\n",
    "thread1.join()\n",
    "thread2.join()\n",
    "\n",
    "print(\"모든 작업 완료\")"
   ]
  },
  {
   "cell_type": "code",
   "execution_count": null,
   "id": "b89535e2-16dc-4d10-826e-554b2479f2a1",
   "metadata": {},
   "outputs": [],
   "source": []
  }
 ],
 "metadata": {
  "kernelspec": {
   "display_name": "Python 3 (ipykernel)",
   "language": "python",
   "name": "python3"
  },
  "language_info": {
   "codemirror_mode": {
    "name": "ipython",
    "version": 3
   },
   "file_extension": ".py",
   "mimetype": "text/x-python",
   "name": "python",
   "nbconvert_exporter": "python",
   "pygments_lexer": "ipython3",
   "version": "3.11.5"
  }
 },
 "nbformat": 4,
 "nbformat_minor": 5
}
