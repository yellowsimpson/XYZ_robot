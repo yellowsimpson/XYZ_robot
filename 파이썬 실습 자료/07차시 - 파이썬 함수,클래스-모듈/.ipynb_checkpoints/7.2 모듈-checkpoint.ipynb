{
 "cells": [
  {
   "cell_type": "markdown",
   "metadata": {},
   "source": [
    "# 7.2 모듈"
   ]
  },
  {
   "cell_type": "markdown",
   "metadata": {},
   "source": [
    "### 7.2.1 모듈 시작하기"
   ]
  },
  {
   "cell_type": "markdown",
   "metadata": {},
   "source": [
    "파이썬 모듈은 기능을 가진 코드 조각(집합),함수나 변수 또는 클래스를 모아 놓은 파이썬 파일입니다.\n",
    "\n",
    "파일들의 집합을 파이썬에서는 모듈 또는 패키지라고 합니다.\n"
   ]
  },
  {
   "cell_type": "markdown",
   "metadata": {},
   "source": [
    "\n",
    "\n"
   ]
  },
  {
   "cell_type": "markdown",
   "metadata": {},
   "source": [
    "pip install opencv-python\n",
    "\n",
    "pip uninstall opencv-python\n",
    "\n",
    "pip list"
   ]
  },
  {
   "cell_type": "markdown",
   "metadata": {},
   "source": [
    "- 모듈 관리 프로그램 : pip\n",
    "\n",
    "Python Installs Packages의 약자입니다.\n",
    "Python 패키지를 설치하고 관리하는 패키지 매니저(Package Manneger)입니다.\n",
    "\n",
    "pip install opencv-python해 보면 이를 사용하는 방법을 익하시기 바랍니다.\n",
    "pip list 해보기 \n",
    "pip show opencv-python\n",
    "pip uninstall를 해보시기 바랍니다.\n"
   ]
  },
  {
   "cell_type": "markdown",
   "metadata": {},
   "source": [
    "www.pypi.org"
   ]
  },
  {
   "cell_type": "markdown",
   "metadata": {},
   "source": [
    "### 7.2.3 모듈 만들기  \n",
    "#### 2의 거듭제곱을 구하는 모듈"
   ]
  },
  {
   "cell_type": "markdown",
   "metadata": {},
   "source": [
    "다음 내용을 프로젝트 동일에 폴더 예 (c:\\project)안에 square.py 파일로 저장"
   ]
  },
  {
   "cell_type": "markdown",
   "metadata": {},
   "source": [
    "square2.py를 만들고 저장합니다.\n"
   ]
  },
  {
   "cell_type": "code",
   "execution_count": 2,
   "metadata": {},
   "outputs": [],
   "source": [
    "#square.py 내용\n",
    "\n",
    "base = 2         # 변수  \n",
    "vari = 1\n",
    "\n",
    "def square(n):   # 함수  \n",
    "    return base ** n  \n",
    "\n",
    "def add(a):\n",
    "    print(base+a)\n",
    "    \n",
    "def sub(a, b): \n",
    "    return a-b"
   ]
  },
  {
   "cell_type": "markdown",
   "metadata": {},
   "source": [
    "### 7.2.3 모듈 사용하기"
   ]
  },
  {
   "cell_type": "markdown",
   "metadata": {},
   "source": [
    "다음 내용을 프로젝트 폴더 예(c:\\project)안에 calcu.py, main.py 파일로 저장한 뒤 실행  \n",
    "단 square.py,main.py 파일은 반드시 같은 폴더에 있어야 합니다.\n",
    "\n",
    "그리고 이를 메인함수에서 불러와 실행해보겠습니다.\n",
    "\n",
    "이후 이를 활용하여 몇가지 더해보겠습니다.\n",
    "이를 사용해서 새로운 기능을 만들어보시기 바랍니다."
   ]
  },
  {
   "cell_type": "code",
   "execution_count": 6,
   "metadata": {},
   "outputs": [
    {
     "name": "stdout",
     "output_type": "stream",
     "text": [
      "Defaulting to user installation because normal site-packages is not writeable\n",
      "Requirement already satisfied: django in c:\\users\\a\\appdata\\roaming\\python\\python39\\site-packages (4.1.7)\n",
      "Requirement already satisfied: asgiref<4,>=3.5.2 in c:\\users\\a\\appdata\\roaming\\python\\python39\\site-packages (from django) (3.6.0)\n",
      "Requirement already satisfied: tzdata in c:\\users\\a\\appdata\\roaming\\python\\python39\\site-packages (from django) (2022.7)\n",
      "Requirement already satisfied: sqlparse>=0.2.2 in c:\\users\\a\\appdata\\roaming\\python\\python39\\site-packages (from django) (0.4.3)\n"
     ]
    }
   ],
   "source": [
    "!pip install django"
   ]
  },
  {
   "cell_type": "code",
   "execution_count": 7,
   "metadata": {},
   "outputs": [
    {
     "ename": "ModuleNotFoundError",
     "evalue": "No module named 'django'",
     "output_type": "error",
     "traceback": [
      "\u001b[1;31m---------------------------------------------------------------------------\u001b[0m",
      "\u001b[1;31mModuleNotFoundError\u001b[0m                       Traceback (most recent call last)",
      "\u001b[1;32m~\\AppData\\Local\\Temp\\ipykernel_7456\\1506905076.py\u001b[0m in \u001b[0;36m<module>\u001b[1;34m\u001b[0m\n\u001b[1;32m----> 1\u001b[1;33m \u001b[1;32mfrom\u001b[0m \u001b[0mdjango\u001b[0m\u001b[1;33m.\u001b[0m\u001b[0mdb\u001b[0m \u001b[1;32mimport\u001b[0m \u001b[0mmodels\u001b[0m\u001b[1;33m\u001b[0m\u001b[1;33m\u001b[0m\u001b[0m\n\u001b[0m\u001b[0;32m      2\u001b[0m \u001b[1;33m\u001b[0m\u001b[0m\n\u001b[0;32m      3\u001b[0m \u001b[1;32mclass\u001b[0m \u001b[0mPerson\u001b[0m\u001b[1;33m(\u001b[0m\u001b[0mmodels\u001b[0m\u001b[1;33m.\u001b[0m\u001b[0mModel\u001b[0m\u001b[1;33m)\u001b[0m\u001b[1;33m:\u001b[0m\u001b[1;33m\u001b[0m\u001b[1;33m\u001b[0m\u001b[0m\n\u001b[0;32m      4\u001b[0m     \u001b[0mfirst_name\u001b[0m \u001b[1;33m=\u001b[0m \u001b[0mmodels\u001b[0m\u001b[1;33m.\u001b[0m\u001b[0mCharField\u001b[0m\u001b[1;33m(\u001b[0m\u001b[0mmax_length\u001b[0m\u001b[1;33m=\u001b[0m\u001b[1;36m30\u001b[0m\u001b[1;33m)\u001b[0m\u001b[1;33m\u001b[0m\u001b[1;33m\u001b[0m\u001b[0m\n\u001b[0;32m      5\u001b[0m     \u001b[0mlast_name\u001b[0m \u001b[1;33m=\u001b[0m \u001b[0mmodels\u001b[0m\u001b[1;33m.\u001b[0m\u001b[0mCharField\u001b[0m\u001b[1;33m(\u001b[0m\u001b[0mmax_length\u001b[0m\u001b[1;33m=\u001b[0m\u001b[1;36m30\u001b[0m\u001b[1;33m)\u001b[0m\u001b[1;33m\u001b[0m\u001b[1;33m\u001b[0m\u001b[0m\n",
      "\u001b[1;31mModuleNotFoundError\u001b[0m: No module named 'django'"
     ]
    }
   ],
   "source": [
    "from django.db import models\n",
    "\n",
    "class Person(models.Model):\n",
    "    first_name = models.CharField(max_length=30)\n",
    "    last_name = models.CharField(max_length=30)"
   ]
  },
  {
   "cell_type": "markdown",
   "metadata": {},
   "source": [
    "- 대화형 컴멘드에서"
   ]
  },
  {
   "cell_type": "code",
   "execution_count": 3,
   "metadata": {},
   "outputs": [
    {
     "name": "stdout",
     "output_type": "stream",
     "text": [
      "7\n",
      "None\n",
      "2\n",
      "None\n"
     ]
    }
   ],
   "source": [
    "# 대화형 인터프리터에서 mod1.py 모듈을 실행,cmd 창에서 python으로 실행\n",
    "\n",
    "import calcu\n",
    "\n",
    "print(calcu.add(3, 4))\n",
    "print(calcu.sub(4, 2))"
   ]
  },
  {
   "cell_type": "markdown",
   "metadata": {},
   "source": [
    "- 파일에서 호출해서 사용"
   ]
  },
  {
   "cell_type": "code",
   "execution_count": 1,
   "metadata": {},
   "outputs": [
    {
     "name": "stdout",
     "output_type": "stream",
     "text": [
      "2\n",
      "1024\n"
     ]
    }
   ],
   "source": [
    "#main.py  \n",
    "import square                #import로 square2 모듈을 가져옴  \n",
    "\n",
    "print(square.base)           #모듈,변수 형식으로 모듈의 변수 사용  \n",
    "print(square.square(10))     #모듈,함수() 형식으로 모듈의 함수 사용  "
   ]
  },
  {
   "cell_type": "code",
   "execution_count": 3,
   "metadata": {},
   "outputs": [
    {
     "name": "stdout",
     "output_type": "stream",
     "text": [
      "안녕하세요, 저는 홍길동입니다.\n"
     ]
    }
   ],
   "source": [
    "import person\n",
    "\n",
    "p1 = person.Person(\"홍길동\",22)\n",
    "\n",
    "p1.greeting()"
   ]
  },
  {
   "cell_type": "markdown",
   "metadata": {},
   "source": [
    "### 7.2.4 from import로 변수, 함수 가져오기"
   ]
  },
  {
   "cell_type": "markdown",
   "metadata": {},
   "source": [
    "바로 해당 모듈의 함수를 쓸 수 있다.\n",
    "\n",
    "다음은 from을 사용하는 방법을 해보겠습니다. \n",
    "\n",
    "어떤한 경우에 좋은지 생각해보시기 바랍니다.\n",
    "\n",
    "또 주의할 점을 생각해보시기 바랍니다."
   ]
  },
  {
   "cell_type": "code",
   "execution_count": 6,
   "metadata": {},
   "outputs": [
    {
     "name": "stdout",
     "output_type": "stream",
     "text": [
      "5\n",
      "2\n"
     ]
    },
    {
     "data": {
      "text/plain": [
       "1024"
      ]
     },
     "execution_count": 6,
     "metadata": {},
     "output_type": "execute_result"
    }
   ],
   "source": [
    "#from square import base, square, add  \n",
    "from square import * ### 모듈안에 있는 모든 함수,클래스를 직접사용하고자 할때 *\n",
    "\n",
    "\n",
    "add(3)\n",
    "#from 모듈명을 쓰고, import 함수,클래스\n",
    "\n",
    "print(base)  \n",
    "square(10)  \n"
   ]
  },
  {
   "cell_type": "markdown",
   "metadata": {},
   "source": [
    "### import문을 사용한다.. ..."
   ]
  },
  {
   "cell_type": "code",
   "execution_count": 2,
   "metadata": {},
   "outputs": [
    {
     "name": "stdout",
     "output_type": "stream",
     "text": [
      "5\n"
     ]
    }
   ],
   "source": [
    "import square\n",
    "\n",
    "square.add(3) ## 모듈명을 붙여서 사용해야한다....\n"
   ]
  },
  {
   "cell_type": "markdown",
   "metadata": {},
   "source": [
    "### 7.2.5 패키지 사용하기 "
   ]
  },
  {
   "cell_type": "code",
   "execution_count": 8,
   "metadata": {},
   "outputs": [
    {
     "data": {
      "text/plain": [
       "200"
      ]
     },
     "execution_count": 8,
     "metadata": {},
     "output_type": "execute_result"
    }
   ],
   "source": [
    "import urllib.request\n",
    "response = urllib.request.urlopen('http://www.google.co.kr')\n",
    "response.status"
   ]
  },
  {
   "cell_type": "markdown",
   "metadata": {},
   "source": [
    "urllib.request.urlopen은 URL을 여는 함수인데 URL 열기에 성공하면 response.status의 값이 200이 나옵니다.  \n",
    "이 200은 HTTP 상태 코드이며 웹 서버가 요청을 제대로 처리했다는 뜻입니다.\n",
    "import as로 패키지 모듈 이름 지정하기"
   ]
  },
  {
   "cell_type": "code",
   "execution_count": 8,
   "metadata": {},
   "outputs": [
    {
     "data": {
      "text/plain": [
       "200"
      ]
     },
     "execution_count": 8,
     "metadata": {},
     "output_type": "execute_result"
    }
   ],
   "source": [
    "import urllib.request as r                             # urllib 패키지의 request 모듈을 가져오면서 이름을 r로 지정\n",
    "response = r.urlopen('http://www.google.co.kr')        # r로 urlopen 함수 사용\n",
    "response.status"
   ]
  },
  {
   "cell_type": "markdown",
   "metadata": {},
   "source": [
    "### 7.2.6 from import로 패키지의 모듈에서 일부만 가져오기"
   ]
  },
  {
   "cell_type": "code",
   "execution_count": 9,
   "metadata": {},
   "outputs": [
    {
     "data": {
      "text/plain": [
       "200"
      ]
     },
     "execution_count": 9,
     "metadata": {},
     "output_type": "execute_result"
    }
   ],
   "source": [
    "from urllib.request import Request, urlopen        # urlopen 함수, Request 클래스를 가져옴\n",
    "req = Request('http://www.google.co.kr')           # Request 클래스를 사용하여 req 생성\n",
    "response = urlopen(req)                            # urlopen 함수 사용\n",
    "response.status"
   ]
  },
  {
   "cell_type": "markdown",
   "metadata": {},
   "source": [
    "urlopen 함수에 URL을 바로 넣어도 되고,  \n",
    "Request('http://www.google.co.kr') 와 같이 Request 클래스에 URL을 넣은 뒤에 req를 생성해서 urlopen 함수에 넣어도 가능하다."
   ]
  },
  {
   "cell_type": "markdown",
   "metadata": {},
   "source": [
    "#### urllib의 request 모듈에서 모든 변수, 함수, 클래스를 가져오기"
   ]
  },
  {
   "cell_type": "code",
   "execution_count": 10,
   "metadata": {},
   "outputs": [
    {
     "data": {
      "text/plain": [
       "200"
      ]
     },
     "execution_count": 10,
     "metadata": {},
     "output_type": "execute_result"
    }
   ],
   "source": [
    "from urllib.request import *                    # urllib의 request 모듈에서 모든 변수, 함수, 클래스를 가져옴\n",
    "req = Request('http://www.google.co.kr')        # Request를 사용하여 req 생성\n",
    "response = urlopen(req)                         # urlopen 함수 사용\n",
    "response.status"
   ]
  }
 ],
 "metadata": {
  "kernelspec": {
   "display_name": "Python 3 (ipykernel)",
   "language": "python",
   "name": "python3"
  },
  "language_info": {
   "codemirror_mode": {
    "name": "ipython",
    "version": 3
   },
   "file_extension": ".py",
   "mimetype": "text/x-python",
   "name": "python",
   "nbconvert_exporter": "python",
   "pygments_lexer": "ipython3",
   "version": "3.11.7"
  }
 },
 "nbformat": 4,
 "nbformat_minor": 4
}
