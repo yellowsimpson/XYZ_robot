{
 "cells": [
  {
   "cell_type": "code",
   "execution_count": 1,
   "id": "e8db12e4-469e-45c9-b068-03d5b85ce0f1",
   "metadata": {
    "tags": []
   },
   "outputs": [],
   "source": [
    "import pytesseract\n",
    "import cv2\n",
    "import matplotlib.pyplot as plt"
   ]
  },
  {
   "cell_type": "code",
   "execution_count": null,
   "id": "8620e7b0-14bc-4465-84a1-e0d56efa5e7f",
   "metadata": {},
   "outputs": [],
   "source": [
    "path = 'asset/images/ocr_test.jpg'"
   ]
  },
  {
   "cell_type": "code",
   "execution_count": null,
   "id": "6a0caae8-282b-48d1-ba6e-77d35ccceb6e",
   "metadata": {},
   "outputs": [],
   "source": []
  },
  {
   "cell_type": "code",
   "execution_count": null,
   "id": "1a6cdcfa-0983-48a0-867c-ed22779d90e2",
   "metadata": {},
   "outputs": [],
   "source": []
  }
 ],
 "metadata": {
  "kernelspec": {
   "display_name": "Python 3 (ipykernel)",
   "language": "python",
   "name": "python3"
  },
  "language_info": {
   "codemirror_mode": {
    "name": "ipython",
    "version": 3
   },
   "file_extension": ".py",
   "mimetype": "text/x-python",
   "name": "python",
   "nbconvert_exporter": "python",
   "pygments_lexer": "ipython3",
   "version": "3.11.5"
  }
 },
 "nbformat": 4,
 "nbformat_minor": 5
}
