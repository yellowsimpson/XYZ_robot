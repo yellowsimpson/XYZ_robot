{
 "cells": [
  {
   "cell_type": "markdown",
   "id": "a3bf25e0-7ce0-4a52-8f6d-3777ded70b00",
   "metadata": {},
   "source": [
    "# 6.1 while문"
   ]
  },
  {
   "cell_type": "markdown",
   "id": "09a88bde-9d43-4913-8c84-5d0901c14a71",
   "metadata": {},
   "source": [
    "### 6.1.1 while문 구조"
   ]
  },
  {
   "cell_type": "markdown",
   "id": "7bee9e15-9fa2-464c-a57c-a138e72510a6",
   "metadata": {},
   "source": [
    "while 루프를 사용하면 조건이 참인 한 일련의 명령문을 실행할 수 있습니다.\n",
    "\n",
    "기본 문법: \n",
    "\n",
    "while 조건문:\n",
    "\n",
    "    기능구현    "
   ]
  },
  {
   "cell_type": "code",
   "execution_count": 16,
   "id": "2d8b57f9-8456-4fdb-9fca-c46dccf02ad9",
   "metadata": {},
   "outputs": [
    {
     "name": "stdout",
     "output_type": "stream",
     "text": [
      "반복문 미사용 : 55\n",
      "반복문 사용 : 55\n"
     ]
    }
   ],
   "source": [
    "# 반복문이 없었다면 하나하나 작성해야겠죠.\n",
    "result1 = 1 + 2 + 3 + 4 + 5 + 6 + 7 + 8 + 9 + 10\n",
    " \n",
    "print('반복문 미사용 : {0}'.format(result1))\n",
    " \n",
    " \n",
    "# while 반복문을 사용하면\n",
    "i = 0\n",
    "result2 = 0\n",
    "while i < 10:\n",
    "    i = i + 1\n",
    "    result2 += i\n",
    " \n",
    " \n",
    "print('반복문 사용 : {0}'.format(result2))"
   ]
  },
  {
   "cell_type": "markdown",
   "id": "4797be29-eb69-454f-a7a2-25543996ac16",
   "metadata": {},
   "source": [
    "### 돌발 문제\n",
    "#### 1부터 100까지 수 중에서 홀수만 더한 값을 출력하라.\n",
    "1. while문을 사용하라\n",
    "2. %연산자를 사용하라"
   ]
  },
  {
   "cell_type": "code",
   "execution_count": 3,
   "id": "cfc5ea05-77fa-4cc4-a2ee-4bf104c65d3c",
   "metadata": {},
   "outputs": [
    {
     "name": "stdout",
     "output_type": "stream",
     "text": [
      "2500\n"
     ]
    }
   ],
   "source": [
    "x = 1\n",
    "sum = 0\n",
    "\n",
    "while x <= 100:\n",
    "    if x % 2 == 1: #     if x % 2 != 0:\n",
    "        sum += x\n",
    "    else:\n",
    "        pass\n",
    "    \n",
    "    x += 1  \n",
    "    \n",
    "    \n",
    "print(sum)    "
   ]
  },
  {
   "cell_type": "markdown",
   "id": "53199ca3-b85c-4186-a4ae-a4a1840c5e06",
   "metadata": {},
   "source": [
    "### 어떤 수를 입력받아서 입력받은 수를 그 수만큼 출력하세요.\n",
    "#### WHILE문을 사용하세요.\n",
    "#### 입력받은 수를 함수(function)의 인자로 받아서 프린트하도록 수정하세요."
   ]
  },
  {
   "cell_type": "code",
   "execution_count": 4,
   "id": "3bd0ee8c-9af9-40ab-8357-b33c8919de5c",
   "metadata": {},
   "outputs": [
    {
     "name": "stdin",
     "output_type": "stream",
     "text": [
      "숫자를 입력하세요. 3\n"
     ]
    },
    {
     "name": "stdout",
     "output_type": "stream",
     "text": [
      "3\n",
      "3\n",
      "3\n"
     ]
    }
   ],
   "source": [
    "i = 1\n",
    "x = int(input(\"숫자를 입력하세요.\")) ## int() 입력받은 문자열을 정수로 바꾼다,casting....\n",
    "\n",
    "while i <= x:\n",
    "    print(x)\n",
    "    i += 1"
   ]
  },
  {
   "cell_type": "code",
   "execution_count": 16,
   "id": "97b458c9-8771-40d0-ba54-16898cbf0079",
   "metadata": {},
   "outputs": [
    {
     "name": "stdin",
     "output_type": "stream",
     "text": [
      "숫자를 입력하세요. 6\n"
     ]
    },
    {
     "name": "stdout",
     "output_type": "stream",
     "text": [
      "6\n",
      "6\n",
      "6\n",
      "6\n",
      "6\n",
      "6\n",
      "6\n"
     ]
    }
   ],
   "source": [
    "\n",
    "def print_num(num,j=0): #함수의 인자(파라미터)의 변수는 독립적인 함수 내에서 쓰는 변수\n",
    "    i = 1\n",
    "    while i <= num:\n",
    "        print(x)\n",
    "        i += 1\n",
    "    \n",
    "    print(num)\n",
    "\n",
    "x = int(input(\"숫자를 입력하세요.\"))\n",
    "\n",
    "print_num(x) ## 함수를 호출(CALL)하기 전에 함수의 정의는 미리 선언되어야한다."
   ]
  },
  {
   "cell_type": "code",
   "execution_count": 2,
   "id": "e3f6d4e0-1001-4e7a-9a74-8b6508b17c0d",
   "metadata": {},
   "outputs": [
    {
     "name": "stdout",
     "output_type": "stream",
     "text": [
      "1\n",
      "2\n",
      "3\n",
      "4\n",
      "5\n",
      "6\n",
      "7\n",
      "8\n",
      "9\n",
      "10번 반복\n"
     ]
    }
   ],
   "source": [
    "#i가 10보다 작을 때까지 i를 인쇄합니다.\n",
    "\n",
    "i = 1\n",
    "while i < 10:\n",
    "  print(i)\n",
    "  i += 1\n",
    "    \n",
    "print(\"10번 반복\")"
   ]
  },
  {
   "cell_type": "markdown",
   "id": "83b46d9e-17c2-4a38-bb38-3d398fada120",
   "metadata": {},
   "source": [
    "### 6.1.2 while문 활용"
   ]
  },
  {
   "cell_type": "markdown",
   "id": "26dc5731-0fbe-483d-8add-0aae0c9c543c",
   "metadata": {},
   "source": [
    "특별한 조건이 허락하는 한 반복하는 프로세스에서 사용됩니다.\n",
    "물론 무한 반복문에 빠지면 안되기때문에 반복 중에 어떠한 조건이 맞으면 탈출할 수 있습니다."
   ]
  },
  {
   "cell_type": "code",
   "execution_count": 19,
   "id": "221a44c7-1cb7-409d-a7c6-507b95272fe0",
   "metadata": {},
   "outputs": [
    {
     "name": "stdout",
     "output_type": "stream",
     "text": [
      "hi 1\n",
      "hi 2\n",
      "hi 3\n",
      "hi 4\n",
      "hi 5\n"
     ]
    }
   ],
   "source": [
    "#while 무한루프에 빠지지 않게 한다.\n",
    "hi = 0\n",
    "while True:\n",
    "    hi += 1\n",
    "    print('hi', hi)\n",
    "    if(hi == 5):\n",
    "        break"
   ]
  },
  {
   "cell_type": "markdown",
   "id": "7e15f8c2-fd59-44bd-ba5c-8f53a88f7c68",
   "metadata": {},
   "source": [
    "while 빠저 나올 때 조건과 조건의 영역이 미치는 부분을 잘 구현하세요."
   ]
  },
  {
   "cell_type": "code",
   "execution_count": 4,
   "id": "a2582441-546d-495c-a228-c388903ac56b",
   "metadata": {},
   "outputs": [
    {
     "name": "stdout",
     "output_type": "stream",
     "text": [
      "num =  1\n",
      "num =  2\n",
      "num =  3\n",
      "num =  4\n",
      "num =  5\n"
     ]
    }
   ],
   "source": [
    "num =0\n",
    "while num < 5:\n",
    "    num = num + 1\n",
    "    print('num = ', num)"
   ]
  },
  {
   "cell_type": "code",
   "execution_count": 25,
   "id": "848bb13c-6ec7-495b-93d0-499086dcccaa",
   "metadata": {},
   "outputs": [
    {
     "name": "stdout",
     "output_type": "stream",
     "text": [
      "116\n"
     ]
    }
   ],
   "source": [
    "#리스의 숫자의 합을 구하고자 합니다.\n",
    "myList = [23,45,12,10,25] ###시퀀스\n",
    "i = 0 \n",
    "sum = 0\n",
    "\n",
    "while i < len(myList): #built-in function len(): 파이썬에서 자체적으로 제공하는 함수\n",
    "    \n",
    "    sum += myList[i]\n",
    "    \n",
    "    i += 1\n",
    "\n",
    "print(sum)\n",
    "\n",
    "### len 함수는 매개변수(파라미터)로 들어온 문자열의 길이 를 반환합니다.\n",
    "### 즉, 내부에 있는 문자의 개수(공백포함)을 계산해서 그 길이를 반환해주는 함수입니다.\n"
   ]
  },
  {
   "cell_type": "code",
   "execution_count": 23,
   "id": "a301986c-8d99-4584-8fcc-93dd9ae46dcb",
   "metadata": {},
   "outputs": [],
   "source": [
    "a = 2\n",
    "\n",
    "a = a + 1\n",
    "\n",
    "a = 3"
   ]
  },
  {
   "cell_type": "code",
   "execution_count": 22,
   "id": "bca656a8-2603-4942-84ba-a0ff5f73ea03",
   "metadata": {},
   "outputs": [
    {
     "name": "stdout",
     "output_type": "stream",
     "text": [
      "5\n"
     ]
    }
   ],
   "source": [
    "print(len(\"안녕하세요\")) #실행 컨트롤키 + 엔터"
   ]
  },
  {
   "cell_type": "markdown",
   "id": "fae425be-dada-4ae0-96e8-a907a0a46815",
   "metadata": {},
   "source": [
    "### 6.1.3 while문 제어 - break"
   ]
  },
  {
   "cell_type": "code",
   "execution_count": 6,
   "id": "d6bfadb3-c3ba-408e-87a7-a39313595f4a",
   "metadata": {},
   "outputs": [
    {
     "name": "stdout",
     "output_type": "stream",
     "text": [
      "1\n",
      "3\n",
      "6\n",
      "10\n",
      "15\n",
      "21\n",
      "28\n",
      "36\n",
      "45\n"
     ]
    }
   ],
   "source": [
    "i = 0\n",
    "i_sum = 0\n",
    "while i < 100:        \n",
    "    i += 1           \n",
    "    i_sum += i\n",
    "    if i_sum > 50:    \n",
    "        break      \n",
    "    print(i_sum)"
   ]
  },
  {
   "cell_type": "code",
   "execution_count": 7,
   "id": "0898b6d7-1e9b-49ae-a51b-e247946fdb09",
   "metadata": {},
   "outputs": [
    {
     "name": "stdout",
     "output_type": "stream",
     "text": [
      "50 50\n"
     ]
    }
   ],
   "source": [
    "j = 100\n",
    "k = 0\n",
    "while j >= 0 :\n",
    "    j -= 5\n",
    "    k += 5\n",
    "    if(j == k) :\n",
    "        print(j, k)\n",
    "        break"
   ]
  },
  {
   "cell_type": "markdown",
   "id": "f7635b68-684c-48ab-ac5b-dfd1da80ec75",
   "metadata": {},
   "source": [
    "반복문과 조건문이 혼합되있는 경우가 많이 있습니다."
   ]
  },
  {
   "cell_type": "markdown",
   "id": "8042e4ee-3b67-467b-ba6c-a4397e0f7799",
   "metadata": {},
   "source": [
    "### 6.1.4 while문 제어 - continue"
   ]
  },
  {
   "cell_type": "code",
   "execution_count": 8,
   "id": "e791c573-9f53-4713-a0cf-8d8a65c93fdf",
   "metadata": {},
   "outputs": [
    {
     "name": "stdout",
     "output_type": "stream",
     "text": [
      "1\n",
      "3\n",
      "5\n",
      "7\n",
      "9\n",
      "11\n",
      "13\n",
      "15\n",
      "17\n",
      "19\n",
      "21\n",
      "23\n",
      "25\n",
      "27\n",
      "29\n"
     ]
    }
   ],
   "source": [
    "i = 0\n",
    "while i < 30:        \n",
    "    i += 1                 \n",
    "    if i % 2 == 0:    \n",
    "        continue      \n",
    "    print(i)"
   ]
  },
  {
   "cell_type": "code",
   "execution_count": 9,
   "id": "f4668440-b51c-440e-bca2-d4b20e414ea9",
   "metadata": {},
   "outputs": [
    {
     "name": "stdout",
     "output_type": "stream",
     "text": [
      "Hello Pythonista\n",
      "Hello Pythonista\n",
      "Hello Pythonista\n"
     ]
    }
   ],
   "source": [
    "n = 1\n",
    "while n < 5:\n",
    "    if n == 2:\n",
    "        n = n+1\n",
    "        continue\n",
    "    print(\"Hello Pythonista\")\n",
    "    n = n+1"
   ]
  },
  {
   "cell_type": "markdown",
   "id": "b92f3367-5f63-4f82-b7ba-e72ace472109",
   "metadata": {},
   "source": [
    "### 6.1.5 예제"
   ]
  },
  {
   "cell_type": "code",
   "execution_count": 10,
   "id": "0a0d4203-4d82-44ad-a2bf-8815ab4d3656",
   "metadata": {},
   "outputs": [
    {
     "name": "stdout",
     "output_type": "stream",
     "text": [
      "j:0 j:1 j:2 j:3 j:4 i:0\\n\n",
      "j:0 j:1 j:2 j:3 j:4 i:1\\n\n",
      "j:0 j:1 j:2 j:3 j:4 i:2\\n\n",
      "j:0 j:1 j:2 j:3 j:4 i:3\\n\n",
      "j:0 j:1 j:2 j:3 j:4 i:4\\n\n"
     ]
    }
   ],
   "source": [
    "for i in range(5):          # 5번 반복. 바깥쪽 루프는 세로 방향\n",
    "    for j in range(5):      # 5번 반복. 안쪽 루프는 가로 방향\n",
    "        print('j:', j, sep='', end=' ')    # j값 출력. end에 ' '를 지정하여 줄바꿈 대신 한 칸 띄움\n",
    "    print('i:', i, '\\\\n', sep='')    # i값 출력, 개행 문자 모양도 출력\n",
    "                                     # 가로 방향으로 숫자를 모두 출력한 뒤 다음 줄로 넘어감\n",
    "                                     # (print는 기본적으로 출력 후 다음 줄로 넘어감)"
   ]
  },
  {
   "cell_type": "markdown",
   "id": "f05f2ad9-e718-4225-a5a0-263612483b21",
   "metadata": {},
   "source": [
    "### 6.1.6 예제"
   ]
  },
  {
   "cell_type": "code",
   "execution_count": 11,
   "id": "12d56561-f1b8-40fc-a850-a1512f27dacc",
   "metadata": {},
   "outputs": [
    {
     "name": "stdout",
     "output_type": "stream",
     "text": [
      "1 2 3 4 5 7 8 9 10 "
     ]
    }
   ],
   "source": [
    "# loop from 1 to 10\n",
    "for i in range(1, 11):\n",
    " \n",
    "    # If i is equals to 6,\n",
    "    # continue to next iteration\n",
    "    # without printing\n",
    "    if i == 6:\n",
    "        continue\n",
    "    else:\n",
    "        # otherwise print the value\n",
    "        # of i\n",
    "        print(i, end=\" \")"
   ]
  },
  {
   "cell_type": "markdown",
   "id": "fca64fcd-2101-4b11-bccd-82c6b3d5e848",
   "metadata": {},
   "source": [
    "### 6.1.7 예제"
   ]
  },
  {
   "cell_type": "code",
   "execution_count": 13,
   "id": "483a20f0-3029-4a44-8f9f-56d6bafaefb6",
   "metadata": {},
   "outputs": [
    {
     "name": "stdin",
     "output_type": "stream",
     "text": [
      "반복할 횟수를 입력하세요:  4\n"
     ]
    },
    {
     "name": "stdout",
     "output_type": "stream",
     "text": [
      "Hello, world! 0\n",
      "Hello, world! 1\n",
      "Hello, world! 2\n",
      "Hello, world! 3\n"
     ]
    }
   ],
   "source": [
    "count = int(input('반복할 횟수를 입력하세요: '))\n",
    " \n",
    "i = 0\n",
    "while i < count:     # i가 count보다 작을 때 반복\n",
    "    print('Hello, world!', i)\n",
    "    i += 1"
   ]
  },
  {
   "cell_type": "markdown",
   "id": "1a809363-c958-4b8e-b1cc-380c9a481a7b",
   "metadata": {},
   "source": [
    "### 돌발퀴즈\n",
    "커피머신기가 있는데 돈을 입력하면 그 돈이 떨어질때까지 커피를 뽑아준다(출력한다). \n",
    "나머지 잔돈을 출력하라.\n",
    "\n",
    "0. 커피 한잔의 값은 300원이다.\n",
    "\n",
    "1. 돈을 입력받는다.(돈은 얼마를 넣는가요?) 1000원 이상 5000이하...\n",
    "\n",
    "2. 커피를 뽑아줄 수 있는 동안 커피를 뽑아준다.\n",
    "(1000원을 입력받으면...)\n",
    "커피 1잔\n",
    "커피 2잔\n",
    "커피 3잔\n",
    "잔돈 100원....\n",
    "\n",
    "3. while문을 이용하세요...."
   ]
  },
  {
   "cell_type": "code",
   "execution_count": 6,
   "id": "ec7b5a70-62f1-4f25-b943-fdffb3a20505",
   "metadata": {},
   "outputs": [
    {
     "name": "stdin",
     "output_type": "stream",
     "text": [
      "돈을 넣으세요 1000\n"
     ]
    },
    {
     "name": "stdout",
     "output_type": "stream",
     "text": [
      "커피  1 잔\n",
      "커피  2 잔\n",
      "커피  3 잔\n",
      "잔돈  100 원\n"
     ]
    }
   ],
   "source": [
    "coffee_price=300\n",
    "\n",
    "money = input('돈을 넣으세요')\n",
    "\n",
    "money = int(money) ## 케시팅(형변환)한다. 즉 문자열을 => 정수값으로 변경한다..\n",
    "\n",
    "count=1\n",
    "\n",
    "while money >= coffee_price: ### 참인동안 True인동안 반복....\n",
    "    \n",
    "    print('커피 ',count,'잔')\n",
    "    \n",
    "    money -= coffee_price ### 입력한 돈에서 계속 커피값을 빼나간다....\n",
    "    \n",
    "    count +=1\n",
    "\n",
    "print('잔돈 ',money,'원')\n",
    "\n"
   ]
  },
  {
   "cell_type": "code",
   "execution_count": 12,
   "id": "7e17f282-2056-4a05-83b2-e33850e0ebf8",
   "metadata": {},
   "outputs": [
    {
     "name": "stdout",
     "output_type": "stream",
     "text": [
      "돈을 받았으니 커피를 줍니다.\n",
      "남은 커피의 양은 9개입니다.\n",
      "돈을 받았으니 커피를 줍니다.\n",
      "남은 커피의 양은 8개입니다.\n",
      "돈을 받았으니 커피를 줍니다.\n",
      "남은 커피의 양은 7개입니다.\n",
      "돈을 받았으니 커피를 줍니다.\n",
      "남은 커피의 양은 6개입니다.\n",
      "돈을 받았으니 커피를 줍니다.\n",
      "남은 커피의 양은 5개입니다.\n",
      "돈을 받았으니 커피를 줍니다.\n",
      "남은 커피의 양은 4개입니다.\n",
      "돈을 받았으니 커피를 줍니다.\n",
      "남은 커피의 양은 3개입니다.\n",
      "돈을 받았으니 커피를 줍니다.\n",
      "남은 커피의 양은 2개입니다.\n",
      "돈을 받았으니 커피를 줍니다.\n",
      "남은 커피의 양은 1개입니다.\n",
      "돈을 받았으니 커피를 줍니다.\n",
      "남은 커피의 양은 0개입니다.\n",
      "커피가 다 떨어졌습니다. 판매를 중지합니다.\n"
     ]
    }
   ],
   "source": [
    "coffee = 10\n",
    "money = 300\n",
    "\n",
    "while money:\n",
    "    print(\"돈을 받았으니 커피를 줍니다.\")\n",
    "    coffee = coffee - 1\n",
    "    print(\"남은 커피의 양은 %d개입니다.\" % coffee)\n",
    "    \n",
    "    if coffee == 0:\n",
    "        print(\"커피가 다 떨어졌습니다. 판매를 중지합니다.\")\n",
    "        break"
   ]
  },
  {
   "cell_type": "markdown",
   "id": "2bf9d4f2-8ba6-4097-b023-910c9c87283d",
   "metadata": {},
   "source": [
    "### 6.1.8 예제"
   ]
  },
  {
   "cell_type": "code",
   "execution_count": 15,
   "id": "d42d4da3-4771-4de7-a9a9-d1b2027f1e11",
   "metadata": {},
   "outputs": [
    {
     "name": "stdin",
     "output_type": "stream",
     "text": [
      "영어 문장을 입력하세요 :  asdfas aedfa\n"
     ]
    },
    {
     "name": "stdout",
     "output_type": "stream",
     "text": [
      "모음 : aaaea\n",
      "모음의 개수 : 5\n"
     ]
    }
   ],
   "source": [
    "# ex3. 영어 모음과 개수 구하기\n",
    "s = input('영어 문장을 입력하세요 : ')\n",
    "\n",
    "i = 0\n",
    "count = 0\n",
    "\n",
    "print('모음 : ', end='')\n",
    "\n",
    "while i <= len(s)-1:\n",
    "    if (s[i]=='a' or s[i]=='A' or s[i]=='e' or s[i]=='E' \\\n",
    "        or s[i]=='i' or s[i]=='I' or s[i]=='o' or s[i]=='O' \\\n",
    "        or s[i]=='u' or s[i]=='U'):\n",
    "        \n",
    "            count += 1\n",
    "            print(s[i], end='')\n",
    "    \n",
    "    i += 1\n",
    "    \n",
    "print('\\n모음의 개수 : %d' % count)"
   ]
  },
  {
   "cell_type": "markdown",
   "id": "3b2a6385-4a14-4510-bda2-28a3d534e8f6",
   "metadata": {},
   "source": [
    "### 돌발 문제\n",
    "\n",
    "134페이지에 있는 자판기, while 문을 바꿔서... while문 안에 coffee변수가\n",
    "사용되어서 같은 기능을 하는 프로그램을 완성하세요...\n",
    "\n",
    "whil coffee :\n",
    "\n"
   ]
  }
 ],
 "metadata": {
  "kernelspec": {
   "display_name": "Python 3 (ipykernel)",
   "language": "python",
   "name": "python3"
  },
  "language_info": {
   "codemirror_mode": {
    "name": "ipython",
    "version": 3
   },
   "file_extension": ".py",
   "mimetype": "text/x-python",
   "name": "python",
   "nbconvert_exporter": "python",
   "pygments_lexer": "ipython3",
   "version": "3.9.13"
  }
 },
 "nbformat": 4,
 "nbformat_minor": 5
}
