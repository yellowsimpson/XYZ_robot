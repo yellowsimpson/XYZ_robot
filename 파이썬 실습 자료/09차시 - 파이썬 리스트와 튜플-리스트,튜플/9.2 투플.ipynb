{
 "cells": [
  {
   "cell_type": "markdown",
   "id": "cd9f660c-31d8-4537-8317-62dfd074752e",
   "metadata": {},
   "source": [
    "## 9.2 투플"
   ]
  },
  {
   "cell_type": "markdown",
   "id": "b7a1ce6a-391b-4bf9-a211-49b7668bc25d",
   "metadata": {},
   "source": [
    "### 9.2.1 투플시작하기"
   ]
  },
  {
   "cell_type": "markdown",
   "id": "508ce10f-4781-4650-9150-5dc77a907003",
   "metadata": {},
   "source": [
    "튜플(tuple)은 몇 가지 점을 제외하곤 리스트와 거의 비슷하며 리스트와 다른 점은 다음과 같다.\n",
    "\n",
    "리스트는 [ ]으로 둘러싸지만 튜플은 ( )으로 내부에 리스트와 같은 요소를 넣을 수 있다. 요소는 특별한 제한의 없다.\n",
    "\n",
    "리스트는 그 값의 생성, 삭제, 수정이 가능하지만 튜플은 그 값을 바꿀 수 없는 것이 튜플의 가장 큰 특징이다.\n",
    "\n",
    "튜플은 그러한 특징으로 대량의 데이터를 처리할 때 유용하면 처리 속도가 빠르다.\n"
   ]
  },
  {
   "cell_type": "code",
   "execution_count": 1,
   "id": "a9b7fea1-cb11-4afd-9ad9-97762dede7ab",
   "metadata": {},
   "outputs": [],
   "source": [
    "t1 = () \n",
    "\n",
    "t2 = (1,)  \n",
    "t3 = (1, 2, 3) \n",
    "\n",
    "t4 = 1, 2, 3 \n",
    "\n",
    "t5 = ('a', 'b', ('ab', 'cd')) "
   ]
  },
  {
   "cell_type": "code",
   "execution_count": 2,
   "id": "04932eab-8492-4fd1-80eb-6404db10b678",
   "metadata": {},
   "outputs": [
    {
     "ename": "TypeError",
     "evalue": "'tuple' object does not support item assignment",
     "output_type": "error",
     "traceback": [
      "\u001b[1;31m---------------------------------------------------------------------------\u001b[0m",
      "\u001b[1;31mTypeError\u001b[0m                                 Traceback (most recent call last)",
      "Input \u001b[1;32mIn [2]\u001b[0m, in \u001b[0;36m<cell line: 1>\u001b[1;34m()\u001b[0m\n\u001b[1;32m----> 1\u001b[0m t4[\u001b[38;5;241m0\u001b[39m] \u001b[38;5;241m=\u001b[39m \u001b[38;5;241m0\u001b[39m\n",
      "\u001b[1;31mTypeError\u001b[0m: 'tuple' object does not support item assignment"
     ]
    }
   ],
   "source": [
    "t4[0] = 0"
   ]
  },
  {
   "cell_type": "code",
   "execution_count": 1,
   "id": "6723511a-afff-4b2c-80f3-bd599073c83a",
   "metadata": {},
   "outputs": [
    {
     "ename": "TypeError",
     "evalue": "'tuple' object does not support item assignment",
     "output_type": "error",
     "traceback": [
      "\u001b[1;31m---------------------------------------------------------------------------\u001b[0m",
      "\u001b[1;31mTypeError\u001b[0m                                 Traceback (most recent call last)",
      "\u001b[1;32m~\\AppData\\Local\\Temp\\ipykernel_8916\\3133737965.py\u001b[0m in \u001b[0;36m<module>\u001b[1;34m\u001b[0m\n\u001b[0;32m      1\u001b[0m \u001b[0ma\u001b[0m \u001b[1;33m=\u001b[0m \u001b[1;33m(\u001b[0m\u001b[1;36m1\u001b[0m\u001b[1;33m,\u001b[0m\u001b[1;36m2\u001b[0m\u001b[1;33m,\u001b[0m\u001b[1;36m3\u001b[0m\u001b[1;33m)\u001b[0m\u001b[1;33m\u001b[0m\u001b[1;33m\u001b[0m\u001b[0m\n\u001b[0;32m      2\u001b[0m \u001b[1;33m\u001b[0m\u001b[0m\n\u001b[1;32m----> 3\u001b[1;33m \u001b[0ma\u001b[0m\u001b[1;33m[\u001b[0m\u001b[1;36m0\u001b[0m\u001b[1;33m]\u001b[0m \u001b[1;33m=\u001b[0m \u001b[1;36m4\u001b[0m\u001b[1;33m\u001b[0m\u001b[1;33m\u001b[0m\u001b[0m\n\u001b[0m",
      "\u001b[1;31mTypeError\u001b[0m: 'tuple' object does not support item assignment"
     ]
    }
   ],
   "source": [
    "a = (1,2,3)\n",
    "\n",
    "a[0] = 4"
   ]
  },
  {
   "cell_type": "markdown",
   "id": "5bb37a3d-a449-4cdd-ad31-0e7ad91e0f87",
   "metadata": {},
   "source": [
    "### 돌발문제\n",
    "a = (1,2,3)\n",
    "각요소에 2을 곱해서 새로운 리스트를 만들어 보세요....\n",
    "1. append를 써라...ex) a.append(4) 맴버함수사용...\n",
    "2. l = []"
   ]
  },
  {
   "cell_type": "code",
   "execution_count": 4,
   "id": "291878d4-3c9d-4faf-8c28-4667be699fd5",
   "metadata": {},
   "outputs": [
    {
     "name": "stdout",
     "output_type": "stream",
     "text": [
      "[2, 4, 6]\n"
     ]
    }
   ],
   "source": [
    "a = (1,2,3) ### 시퀀스....\n",
    "l = []\n",
    "\n",
    "for i in a:\n",
    "    l.append(i*2)\n",
    "    \n",
    "print(l)"
   ]
  },
  {
   "cell_type": "code",
   "execution_count": 2,
   "id": "ce95d8db-579d-4932-8f3c-1d3730b88b07",
   "metadata": {},
   "outputs": [
    {
     "name": "stdout",
     "output_type": "stream",
     "text": [
      "('Kelly', 20, 35.75)\n"
     ]
    },
    {
     "ename": "TypeError",
     "evalue": "'tuple' object does not support item assignment",
     "output_type": "error",
     "traceback": [
      "\u001b[1;31m---------------------------------------------------------------------------\u001b[0m",
      "\u001b[1;31mTypeError\u001b[0m                                 Traceback (most recent call last)",
      "\u001b[1;32m~\\AppData\\Local\\Temp\\ipykernel_12264\\682264802.py\u001b[0m in \u001b[0;36m<module>\u001b[1;34m\u001b[0m\n\u001b[0;32m      2\u001b[0m \u001b[0mprint\u001b[0m\u001b[1;33m(\u001b[0m\u001b[0mmy_list\u001b[0m\u001b[1;33m[\u001b[0m\u001b[1;36m1\u001b[0m\u001b[1;33m:\u001b[0m\u001b[1;36m6\u001b[0m\u001b[1;33m]\u001b[0m\u001b[1;33m)\u001b[0m\u001b[1;33m\u001b[0m\u001b[1;33m\u001b[0m\u001b[0m\n\u001b[0;32m      3\u001b[0m \u001b[1;33m\u001b[0m\u001b[0m\n\u001b[1;32m----> 4\u001b[1;33m \u001b[0mmy_list\u001b[0m\u001b[1;33m[\u001b[0m\u001b[1;36m0\u001b[0m\u001b[1;33m]\u001b[0m \u001b[1;33m=\u001b[0m \u001b[1;34m\"홍길동\"\u001b[0m\u001b[1;33m\u001b[0m\u001b[1;33m\u001b[0m\u001b[0m\n\u001b[0m\u001b[0;32m      5\u001b[0m \u001b[1;33m\u001b[0m\u001b[0m\n\u001b[0;32m      6\u001b[0m \u001b[0mprint\u001b[0m\u001b[1;33m(\u001b[0m\u001b[0mmy_list\u001b[0m\u001b[1;33m)\u001b[0m\u001b[1;33m\u001b[0m\u001b[1;33m\u001b[0m\u001b[0m\n",
      "\u001b[1;31mTypeError\u001b[0m: 'tuple' object does not support item assignment"
     ]
    }
   ],
   "source": [
    "my_list = (\"Jessia\", \"Kelly\", 20, 35.75) \n",
    "print(my_list[1:6])\n",
    "\n",
    "my_list[0] = \"홍길동\"\n",
    "\n",
    "print(my_list)"
   ]
  },
  {
   "cell_type": "markdown",
   "id": "e18e8536-2757-4817-b8bc-8055df960b41",
   "metadata": {},
   "source": [
    "t2 = (1,)처럼 단지 1개의 요소만을 가질 때는 요소 뒤에 콤마(,)를 반드시 붙여야 한다는 것과 t4 = 1, 2, 3처럼 \n",
    "\n",
    "괄호( )를 생략해도 처리가 가능하다는 것이다.\n",
    "\n",
    "우리는 주로 튜플보다 리스트를 주로 사용하는 경우가 많고 거의 비슷하기때문에 많이 다루지는 않겠습니다."
   ]
  },
  {
   "cell_type": "code",
   "execution_count": null,
   "id": "811b49f4-5354-4d40-a992-5c3fe31b425b",
   "metadata": {},
   "outputs": [],
   "source": [
    "또한 문자열, 리스트와 마찬가지로 t1[0], t1[3]처럼 인덱싱이 가능하고 슬라이싱도 가능합니다.\n",
    "\n",
    "튜플 더하고, 곱하기도 가능합니다."
   ]
  },
  {
   "cell_type": "code",
   "execution_count": null,
   "id": "1af1ccd4-e2ef-4aa1-b3d0-bc09a8d6bb54",
   "metadata": {},
   "outputs": [],
   "source": []
  }
 ],
 "metadata": {
  "kernelspec": {
   "display_name": "Python 3 (ipykernel)",
   "language": "python",
   "name": "python3"
  },
  "language_info": {
   "codemirror_mode": {
    "name": "ipython",
    "version": 3
   },
   "file_extension": ".py",
   "mimetype": "text/x-python",
   "name": "python",
   "nbconvert_exporter": "python",
   "pygments_lexer": "ipython3",
   "version": "3.11.7"
  }
 },
 "nbformat": 4,
 "nbformat_minor": 5
}
