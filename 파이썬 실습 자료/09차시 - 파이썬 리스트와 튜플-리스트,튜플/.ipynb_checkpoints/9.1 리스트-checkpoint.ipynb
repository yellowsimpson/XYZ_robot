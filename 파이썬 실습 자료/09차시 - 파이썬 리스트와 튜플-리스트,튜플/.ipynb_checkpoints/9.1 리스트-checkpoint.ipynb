{
 "cells": [
  {
   "cell_type": "markdown",
   "id": "d23a85b4-2daa-48b0-96cb-d60d884791f8",
   "metadata": {},
   "source": [
    "# 9.1 리스트"
   ]
  },
  {
   "cell_type": "markdown",
   "id": "f5e5c4cf-03f9-4612-8c8d-99fe0df7baec",
   "metadata": {},
   "source": [
    "### 9.1.1 리스트 시작하기"
   ]
  },
  {
   "cell_type": "markdown",
   "id": "b51e9d81-6b7c-4c5f-a593-4d312a98c179",
   "metadata": {},
   "source": [
    "리스트는 단일 변수에 여러 항목을 저장하는 데 사용됩니다.\n",
    "리스트는 데이터 모음을 저장하는 데 사용되는 Python의 4가지 기본 제공 데이터 유형 중 하나이 가장 많이 사용하고 있습니다.\n",
    "리스트는 대괄호를 사용하여 생성됩니다."
   ]
  },
  {
   "cell_type": "code",
   "execution_count": 4,
   "id": "78724c4e-ada9-4503-999d-0ae2cf87b7df",
   "metadata": {},
   "outputs": [
    {
     "name": "stdout",
     "output_type": "stream",
     "text": [
      "[1, 2, ['Life', 'is'], ['Life', 'is', 'too', 'short', 'Life', 'is', 'too', 1, 3, 4, 'a']]\n"
     ]
    }
   ],
   "source": [
    "#리스트를 만들 때는 위에서 보는 것과 같이 대괄호([ ])로 감싸 주고 각 요솟값은 쉼표(,)로 구분해 준다.\n",
    "#리스트명 = [요소1, 요소2, 요소3, ...] \n",
    "#여러 가지 리스트의 생김새를 살펴보면 다음과 같다.\n",
    "\n",
    "a = [] \n",
    "b = [1, 2, 3] \n",
    "c = ['Life', 'is', 'too', 'short','Life', 'is', 'too',1,3,4,'a']\n",
    "\n",
    "#print(c)\n",
    "\n",
    "d = [1, 2, 'Life', 'is'] \n",
    "f = ['Naver',5000]\n",
    "e = [1, 2, ['Life', 'is'],c] \n",
    "\n",
    "print(e)\n",
    "\n",
    "#각자 만들어 보시기 바랍니다."
   ]
  },
  {
   "cell_type": "code",
   "execution_count": null,
   "id": "43c5892f-246a-4943-ba45-b985ddccde9d",
   "metadata": {},
   "outputs": [],
   "source": [
    "f = ['Egg',5000]\n",
    "e = [1, 2, ['Life', 'is'],c] "
   ]
  },
  {
   "cell_type": "code",
   "execution_count": 4,
   "id": "59a17b0a-72e8-4280-9833-bad6a20efdd1",
   "metadata": {},
   "outputs": [
    {
     "name": "stdout",
     "output_type": "stream",
     "text": [
      "[1, 2, 3]\n",
      "3\n"
     ]
    }
   ],
   "source": [
    "d = [1, 2, 'Life', 'is',[1,2,3]] \n",
    "print(d[4])\n",
    "print(d[4][2])"
   ]
  },
  {
   "cell_type": "code",
   "execution_count": 3,
   "id": "0fa32b31-a986-4703-b304-cc4b38be410c",
   "metadata": {
    "tags": []
   },
   "outputs": [
    {
     "name": "stdout",
     "output_type": "stream",
     "text": [
      "[1, 2, 5, 4, 6, 7, 8]\n",
      "[1, 5, 4, 6, 7, 8]\n",
      "[1, 5, 4, 8]\n"
     ]
    }
   ],
   "source": [
    "a = [1,2,3,4,6,7,8]\n",
    "a[2] = 5\n",
    "print(a)\n",
    "\n",
    "del a[1]\n",
    "print(a)\n",
    "\n",
    "del a[3:5]\n",
    "print(a)\n"
   ]
  },
  {
   "cell_type": "code",
   "execution_count": null,
   "id": "28e0ddbd-b192-4209-8c07-aeba8390cb09",
   "metadata": {},
   "outputs": [],
   "source": [
    "# 기본값 (오름차순)\n",
    "a.sort()\n",
    "print(\"a.sort()\")\n",
    "print(a)\n",
    "\n",
    "# 오름차순\n",
    "b.sort(reverse=False)\n",
    "print(\"\\nb.sort(reverse=False)\")\n",
    "print(b)\n",
    "\n",
    "# 내림차순\n",
    "c.sort(reverse=True)\n",
    "print(\"\\nc.sort(reverse=True)\")\n",
    "print(c)\n"
   ]
  },
  {
   "cell_type": "code",
   "execution_count": 13,
   "id": "97e4a4de-3abc-49ed-98c9-3f5af4405342",
   "metadata": {},
   "outputs": [
    {
     "name": "stdout",
     "output_type": "stream",
     "text": [
      "[5, 6, 7, 8, 9, 10, 11]\n"
     ]
    }
   ],
   "source": [
    "L = list(range(5, 12, 1)) #미만을 좋아해.....\n",
    "print(L)"
   ]
  },
  {
   "cell_type": "code",
   "execution_count": 14,
   "id": "00d804cc-5a4c-49eb-8a76-160ee195ff24",
   "metadata": {},
   "outputs": [
    {
     "name": "stdout",
     "output_type": "stream",
     "text": [
      "11\n",
      "[5, 6, 7, 8, 9, 10]\n"
     ]
    }
   ],
   "source": [
    "x = L.pop()\n",
    "\n",
    "print(x)\n",
    "print(L)"
   ]
  },
  {
   "cell_type": "code",
   "execution_count": 12,
   "id": "fe2c8795-cf9d-49ea-8ca6-76ce9e608aea",
   "metadata": {},
   "outputs": [
    {
     "name": "stdout",
     "output_type": "stream",
     "text": [
      "[5, 6, 7, 8, 9, 10, 11, 100, 200, 200, 100, 100, 100, 100, 100, 100, 100, 100]\n"
     ]
    }
   ],
   "source": [
    "L.append(100)\n",
    "print(L)"
   ]
  },
  {
   "cell_type": "code",
   "execution_count": 4,
   "id": "14b1140a-9cbd-418c-a9b5-ccd5d3431079",
   "metadata": {},
   "outputs": [
    {
     "name": "stdout",
     "output_type": "stream",
     "text": [
      "9\n",
      "[5, 6, 7, 8, 9, 10, 11, 100, 200, 200]\n"
     ]
    }
   ],
   "source": [
    "print(len(L))\n",
    "L[len(L):]=[200]\n",
    "print(L)"
   ]
  },
  {
   "cell_type": "code",
   "execution_count": 2,
   "id": "ab12d333-3474-49c7-b97e-600be41000e8",
   "metadata": {},
   "outputs": [
    {
     "name": "stdout",
     "output_type": "stream",
     "text": [
      "['홍길도', '김홍도', 20, 35.75]\n",
      "<class 'list'>\n"
     ]
    }
   ],
   "source": [
    "my_list = [\"홍길도\", \"김홍도\", 20, 35.75]\n",
    "# display list\n",
    "print(my_list)  \n",
    "print(type(my_list))  # class 'list'\n",
    "\n"
   ]
  },
  {
   "cell_type": "markdown",
   "id": "d5032ab4-beb8-4340-be39-df04d7655976",
   "metadata": {},
   "source": [
    "### 9.1.2 리스트 특징\n",
    "1. 목록은 변경 가능합니다. \n",
    "2. 중복허용"
   ]
  },
  {
   "cell_type": "code",
   "execution_count": 19,
   "id": "e24530fc-37be-4949-8694-e46a10b06045",
   "metadata": {},
   "outputs": [],
   "source": [
    "#리스트 항목은 순서가 지정되고 변경 가능하며 중복 값을 허용합니다.\n",
    "#리스트 항목은 인덱싱되고 첫 번째 항목에는 index [0]가 있고 두 번째 항목에는 index [1]등 이 있습니다."
   ]
  },
  {
   "cell_type": "code",
   "execution_count": 5,
   "id": "ba533948-f6a5-4ca9-8789-ca63f08d3ead",
   "metadata": {},
   "outputs": [
    {
     "data": {
      "text/plain": [
       "[1, 0, 3]"
      ]
     },
     "execution_count": 5,
     "metadata": {},
     "output_type": "execute_result"
    }
   ],
   "source": [
    "b = [1, 2, 3] \n",
    "\n",
    "b[1] = 0\n",
    "\n",
    "b"
   ]
  },
  {
   "cell_type": "code",
   "execution_count": 9,
   "id": "e3841349-fca7-46ea-95b6-416e55bda5b4",
   "metadata": {},
   "outputs": [
    {
     "data": {
      "text/plain": [
       "[1, 2, 3, 3, 4, 4, 'a', 'a']"
      ]
     },
     "execution_count": 9,
     "metadata": {},
     "output_type": "execute_result"
    }
   ],
   "source": [
    "c = [1, 2, 3, 3,4,4,'a','a'] \n",
    "c"
   ]
  },
  {
   "cell_type": "code",
   "execution_count": 3,
   "id": "45675345-dca2-4cac-bb87-b021cd917eae",
   "metadata": {},
   "outputs": [
    {
     "name": "stdout",
     "output_type": "stream",
     "text": [
      "홍길도\n",
      "['김홍도', 20, 35.75]\n",
      "신윤복\n",
      "['Jessa', 'Kelly', 20, 35.75]\n"
     ]
    }
   ],
   "source": [
    "# 첫번째 리스트에 접급합니다.\n",
    "print(my_list[0])  \n",
    "\n",
    "# \n",
    "print(my_list[1:5]) \n",
    "\n",
    "# 리스트 항목 수정\n",
    "my_list[1] = \"신윤복\"\n",
    "print(my_list[1])  \n",
    "\n",
    "# list 기본 함수를 사용해서 만들수도 있습니다.\n",
    "my_list2 = list([\"Jessa\", \"Kelly\", 20, 35.75])\n",
    "print(my_list2)  # ['리스트', '항목', 20, 35.75]"
   ]
  },
  {
   "cell_type": "code",
   "execution_count": null,
   "id": "c8285a1d-fdc9-4729-9435-0cba2197b689",
   "metadata": {},
   "outputs": [],
   "source": [
    "#리스트는 입력된 순서에따라 정렬되며 각 항목에 정의된 순서가 있으며 해당 순서는 변경되지 않음을 의미합니다.\n",
    "#리스트에 새 항목을 추가하면 새 항목이 목록 끝에 배치됩니다."
   ]
  },
  {
   "cell_type": "markdown",
   "id": "d2a49403-ac62-4bf5-bf19-3df14255f12b",
   "metadata": {},
   "source": [
    "### 9.1.3 리스트 접근"
   ]
  },
  {
   "cell_type": "code",
   "execution_count": null,
   "id": "69de155e-50b5-4347-84b5-f41c8980ef71",
   "metadata": {},
   "outputs": [],
   "source": [
    "#파이썬의 리스트는 시퀀스 데이터 타입이기 때문에 인덱스를 이용해서 접근을 할 수 있습니다."
   ]
  },
  {
   "cell_type": "code",
   "execution_count": 10,
   "id": "0ee30096-8f78-4d79-aeae-a55fcb129c8a",
   "metadata": {},
   "outputs": [
    {
     "name": "stdout",
     "output_type": "stream",
     "text": [
      "30\n"
     ]
    }
   ],
   "source": [
    "gfg = [ 10, 20, 30, 40, 50, 60]\n",
    "\n",
    "print(gfg[2])"
   ]
  },
  {
   "cell_type": "code",
   "execution_count": null,
   "id": "07047501-5ac5-4181-b786-6ba564e4afb2",
   "metadata": {},
   "outputs": [],
   "source": [
    "list = [10, 20, 30, 40, 50, 60]\n",
    "print(list)\n",
    "\n",
    "for i in range( len(list)):\n",
    "    list[i] = list[i] + 10\n",
    "\n",
    "print(list)"
   ]
  },
  {
   "cell_type": "markdown",
   "id": "10ef8749-49e9-493f-be48-9d194bcf32c5",
   "metadata": {},
   "source": [
    "### 9.1.4 리스트 변경"
   ]
  },
  {
   "cell_type": "code",
   "execution_count": null,
   "id": "6880b5b0-4dee-4ba5-83fc-28afe8a06cd2",
   "metadata": {},
   "outputs": [],
   "source": [
    "List=[ 10, 20, 30, 40, 50, 60]\n",
    "print(List)\n",
    "\n",
    "List[0] = 11\n",
    "List[1] = 21\n",
    "List[-1] = 61\n",
    "\n",
    "print(\"\\nNew list\")\n",
    "print(List)"
   ]
  },
  {
   "cell_type": "markdown",
   "id": "42b7fe84-5783-4223-982f-509a7e5c8420",
   "metadata": {},
   "source": [
    "### 9.1.5 리스트 인덱스"
   ]
  },
  {
   "cell_type": "code",
   "execution_count": null,
   "id": "ff4ddca7-0b61-40cd-8855-ad3149aa0341",
   "metadata": {},
   "outputs": [],
   "source": [
    "# 인덱스란 무엇인가?\n",
    "# 리스트 역시 문자열처럼 인덱싱을 적용할 수 있다. 먼저 a 변수에 [1, 2, 3] 값을 설정한다.\n",
    "a = [1, 2, 3] \n",
    "a[0] \n",
    "#다음 예는 리스트의 첫 번째 요소인 a[0]과 세 번째 요소인 a[2]의 값을 더한 것이다.\n",
    "a[0] + a[2] \n",
    "#이것은 1 + 3으로 해석되어 값 4를 출력한다."
   ]
  },
  {
   "cell_type": "markdown",
   "id": "6435405c-0cb1-4b1c-82aa-7a495371ba54",
   "metadata": {},
   "source": [
    "### 9.1.6 리버스 인덱스"
   ]
  },
  {
   "cell_type": "code",
   "execution_count": 11,
   "id": "dc5dd73e-fc4c-4c3d-b8b4-782396145e49",
   "metadata": {},
   "outputs": [
    {
     "name": "stdout",
     "output_type": "stream",
     "text": [
      "d\n"
     ]
    }
   ],
   "source": [
    "# 이번에는 다음 예처럼 리스트 a를 숫자 1, 2, 3과 또 다른 리스트인 ['a', 'b', 'c']를 포함하도록 만들어 보자.\n",
    "a = [1, 2, 3, ['a', 'b', 'c'],['d','e','f']]\n",
    "print(a[-1][0])"
   ]
  },
  {
   "cell_type": "code",
   "execution_count": null,
   "id": "ec327c26-69d4-4a74-9c73-e5272e1cb98d",
   "metadata": {},
   "outputs": [],
   "source": [
    "                               \n",
    "#다음을 각각 수행해보자\n",
    "a[-1]\n",
    "a[0] \n",
    "a[-2] \n",
    "a[3] \n",
    "\n",
    "# 그렇다면 여기에서 리스트 a에 포함된 ['a', 'b', 'c'] 리스트에서 'a' 값을 인덱싱을 사용해 끄집어낼 수 있는 방법은 없을까? \n",
    "\n",
    "a[-1][0] \n",
    "\n",
    "#바로 이 리스트에서 첫 번째 요소를 불러오기 위해 [0]을 붙여 준 것이다.\n",
    "\n",
    "a[-1][1]\n",
    "a[-1][2]"
   ]
  },
  {
   "cell_type": "markdown",
   "id": "6219a849-3726-48fb-924d-9bf227911cbf",
   "metadata": {},
   "source": [
    "### 9.1.7 콜렉션 모듈"
   ]
  },
  {
   "cell_type": "markdown",
   "id": "db3d9695-9f27-478c-be93-8d2cd20f4aaf",
   "metadata": {},
   "source": [
    "파이썬에는 기본적으로 네 가지 데이터 유형의 단점을 다루는 특수 데이터 구조가 있는 컬렉션이라는 내장 모듈도 함께 제공\n",
    "\n",
    "collections 모듈은 파이썬의 자료형(list, tuple, dict)들에게 확장된 기능을 주기 위해 제작된 파이썬의 내장 모듈"
   ]
  },
  {
   "attachments": {
    "bc01fb77-61ec-456b-9c5d-e16f1bff4e6b.png": {
     "image/png": "[encoded data removed]"
    }
   },
   "cell_type": "markdown",
   "id": "2123f819-2018-4bac-950f-6ed6b6ec4712",
   "metadata": {},
   "source": [
    "![image.png](attachment:bc01fb77-61ec-456b-9c5d-e16f1bff4e6b.png)"
   ]
  },
  {
   "cell_type": "markdown",
   "id": "24278448-680f-411c-8a3e-64f19ca9138a",
   "metadata": {},
   "source": []
  },
  {
   "cell_type": "code",
   "execution_count": 7,
   "id": "f6e972b3-6553-494d-acc3-5a843a22847b",
   "metadata": {},
   "outputs": [
    {
     "name": "stdout",
     "output_type": "stream",
     "text": [
      "Counter({1: 1, 2: 1, 3: 1})\n"
     ]
    }
   ],
   "source": [
    "import collections\n",
    "\n",
    "def cnts(num_list):\n",
    "    return collections.Counter(num_list)\n",
    "\n",
    "a = [1,2,3]\n",
    "print(cnts(a))"
   ]
  },
  {
   "cell_type": "code",
   "execution_count": 8,
   "id": "5ffe6bab-7a9f-4bd9-a7d6-98571480a318",
   "metadata": {},
   "outputs": [
    {
     "name": "stdout",
     "output_type": "stream",
     "text": [
      "<class 'list'>\n"
     ]
    }
   ],
   "source": [
    "my_list = [\"Jessa\", \"Kelly\", 20, 35.75]\n",
    "print(type(my_list))"
   ]
  },
  {
   "cell_type": "code",
   "execution_count": 9,
   "id": "ee4ba0bc-bdbb-479c-82cd-f40f32804cf9",
   "metadata": {},
   "outputs": [
    {
     "data": {
      "text/plain": [
       "2"
      ]
     },
     "execution_count": 9,
     "metadata": {},
     "output_type": "execute_result"
    }
   ],
   "source": [
    "a = [1,2,3,1] \n",
    "a.count(1) "
   ]
  },
  {
   "cell_type": "code",
   "execution_count": 24,
   "id": "4735e7fa-6bb8-4db7-801e-dfefcf4a9e15",
   "metadata": {
    "tags": []
   },
   "outputs": [
    {
     "name": "stdout",
     "output_type": "stream",
     "text": [
      "[2, 6, 10, 14, 18]\n"
     ]
    }
   ],
   "source": [
    "a = [10,1,2,3,4,5,6,7,8,9] \n",
    "b = []\n",
    "\n",
    "for i in a:\n",
    "    if i%2 == 1:\n",
    "        b.append(i*2)\n",
    "    #print(i)\n",
    "    \n",
    "print(b)    "
   ]
  },
  {
   "cell_type": "code",
   "execution_count": 14,
   "id": "90fe307f-051c-4ca4-bb0b-545e752fdb4c",
   "metadata": {
    "tags": []
   },
   "outputs": [
    {
     "name": "stdout",
     "output_type": "stream",
     "text": [
      "[10, 14, 38]\n"
     ]
    }
   ],
   "source": [
    "a = [0,0,0,0,4,5,6,7,8,19] \n",
    "b = []\n",
    "\n",
    "for i in a:\n",
    "    if i%2 == 1:\n",
    "        b.append(i*2)\n",
    "    #print(i)\n",
    "    \n",
    "print(b)"
   ]
  },
  {
   "cell_type": "code",
   "execution_count": 18,
   "id": "5e806a19-c7fb-421d-ba45-9a790769df6c",
   "metadata": {
    "tags": []
   },
   "outputs": [
    {
     "name": "stdout",
     "output_type": "stream",
     "text": [
      "홀수\n"
     ]
    },
    {
     "ename": "IndexError",
     "evalue": "list index out of range",
     "output_type": "error",
     "traceback": [
      "\u001b[1;31m---------------------------------------------------------------------------\u001b[0m",
      "\u001b[1;31mIndexError\u001b[0m                                Traceback (most recent call last)",
      "Cell \u001b[1;32mIn[18], line 6\u001b[0m\n\u001b[0;32m      4\u001b[0m \u001b[38;5;28mprint\u001b[39m(\u001b[38;5;124m\"\u001b[39m\u001b[38;5;124m홀수\u001b[39m\u001b[38;5;124m\"\u001b[39m)\n\u001b[0;32m      5\u001b[0m \u001b[38;5;28;01mfor\u001b[39;00m i \u001b[38;5;129;01min\u001b[39;00m a:\n\u001b[1;32m----> 6\u001b[0m     \u001b[38;5;28;01mif\u001b[39;00m a[i]\u001b[38;5;241m%\u001b[39m\u001b[38;5;241m2\u001b[39m \u001b[38;5;241m==\u001b[39m \u001b[38;5;241m1\u001b[39m:\n\u001b[0;32m      7\u001b[0m         \u001b[38;5;28mprint\u001b[39m(a[i])\n\u001b[0;32m      8\u001b[0m         b\u001b[38;5;241m.\u001b[39mextend([a[i]\u001b[38;5;241m*\u001b[39m\u001b[38;5;241m2\u001b[39m])\n",
      "\u001b[1;31mIndexError\u001b[0m: list index out of range"
     ]
    }
   ],
   "source": [
    "a=[11,1, 2, 3, 4, 5, 6, 7, 8, 9]\n",
    "b=[]\n",
    "# 홀수만 2를 곱해서\n",
    "print(\"홀수\")\n",
    "for i in a:\n",
    "    if a[i]%2 == 1:\n",
    "        print(a[i])\n",
    "        b.extend([a[i]*2])\n",
    "        \n",
    "print('b리스트: ',b)"
   ]
  },
  {
   "cell_type": "code",
   "execution_count": 23,
   "id": "a8f7ec87-837f-452d-bb43-3999c3d9bd66",
   "metadata": {
    "tags": []
   },
   "outputs": [
    {
     "name": "stdout",
     "output_type": "stream",
     "text": [
      "[2, 6, 10, 14, 18]\n"
     ]
    }
   ],
   "source": [
    "a = [0, 1, 2, 3, 4, 5, 6, 7, 8, 9]\n",
    "b=[]\n",
    "odd_number = []\n",
    "#odd_number = [i for i in a if i % 2 == 1]\n",
    "\n",
    "for i in a:\n",
    "    if i%2 ==1:\n",
    "        odd_number.append(i)\n",
    "\n",
    "        \n",
    "#b = [2 * x for x in odd_number]\n",
    "\n",
    "for i in odd_number:\n",
    "    b.append(i*2)\n",
    "print(b)\n",
    "#print(list(b))"
   ]
  },
  {
   "cell_type": "code",
   "execution_count": 13,
   "id": "594e40fa-0131-46a1-a221-6b5565d9312a",
   "metadata": {
    "tags": []
   },
   "outputs": [
    {
     "name": "stdout",
     "output_type": "stream",
     "text": [
      "0   9   1\n",
      "2   7   2\n",
      "4   5   3\n",
      "6   3   4\n",
      "8   1   5\n",
      "[2, 6, 10, 14, 18] len: 5\n"
     ]
    }
   ],
   "source": [
    "\n",
    "\n",
    "a=[0, 1, 2, 3, 4, 5, 6, 7, 8, 9]\n",
    "b=[]\n",
    "\n",
    "for i in range(len(a)):\n",
    "    p=a.pop()\n",
    "    if p%2 == 1:\n",
    "        b.insert(i,p*2)\n",
    "        print(i,' ',p,' ',len(b))\n",
    "        \n",
    "        \n",
    "b.reverse()\n",
    "print(b,'len:',len(b))\n"
   ]
  },
  {
   "cell_type": "code",
   "execution_count": 13,
   "id": "ae107267-3286-4522-ac2d-2d528376acb7",
   "metadata": {},
   "outputs": [
    {
     "name": "stdout",
     "output_type": "stream",
     "text": [
      "['Kelly', 20, 35.75]\n",
      "['홍길동', 'Kelly', 20, 35.75]\n"
     ]
    }
   ],
   "source": [
    "my_list = [\"Jessia\", \"Kelly\", 20, 35.75] \n",
    "print(my_list[1:6])\n",
    "\n",
    "my_list[0] = \"홍길동\"\n",
    "\n",
    "print(my_list)"
   ]
  },
  {
   "cell_type": "markdown",
   "id": "87d6bd8c-9752-4ced-a30d-4774984c76ae",
   "metadata": {},
   "source": [
    "## 돌발문제\n",
    "##### a = ['alpha', 'bravo', 'charlie', 'delta', 'echo', 'foxtrot', 'golf', 'hotel', 'india']에서\n",
    "단어의 길이가 5인 것만 출력하라...\n",
    "\n",
    "단어는 체팅창에 쓰겠습니다.\n",
    "\n",
    "1. for 문 사용\n",
    "2. len() 문자열 길이를 구하는 내장함수를 사용하세요."
   ]
  },
  {
   "cell_type": "code",
   "execution_count": 19,
   "id": "7c0568ea-1169-45f4-8479-b0cb2849bbde",
   "metadata": {},
   "outputs": [
    {
     "name": "stdout",
     "output_type": "stream",
     "text": [
      "alpha\n",
      "bravo\n",
      "delta\n",
      "hotel\n",
      "india\n"
     ]
    }
   ],
   "source": [
    "a = ['alpha', 'bravo', 'charlie', 'delta', 'echo', 'foxtrot', 'golf', 'hotel', 'india']\n",
    "\n",
    "for x in a:\n",
    "    if len(x)==5:\n",
    "        print(x)"
   ]
  },
  {
   "cell_type": "code",
   "execution_count": 21,
   "id": "757f11a6-8400-4987-a850-96f0275953f8",
   "metadata": {},
   "outputs": [
    {
     "name": "stdout",
     "output_type": "stream",
     "text": [
      "['a', 'b', 'c', 'd']\n"
     ]
    }
   ],
   "source": [
    "li = ['a','b','c']\n",
    "\n",
    "li.append('d')\n",
    "\n",
    "print(li)"
   ]
  },
  {
   "cell_type": "code",
   "execution_count": 24,
   "id": "550a955f-ddb9-435c-9deb-2599f4b0f393",
   "metadata": {},
   "outputs": [
    {
     "name": "stdout",
     "output_type": "stream",
     "text": [
      "['a', 'e', 'b', 'c']\n"
     ]
    }
   ],
   "source": [
    "li = ['a','b','c']\n",
    "li.insert(1,'e')\n",
    "print(li)"
   ]
  },
  {
   "cell_type": "code",
   "execution_count": 25,
   "id": "90fb42d1-639a-4709-ac2b-73ae9ed3468f",
   "metadata": {},
   "outputs": [
    {
     "name": "stdout",
     "output_type": "stream",
     "text": [
      "['a', 'c']\n"
     ]
    }
   ],
   "source": [
    "li = ['a','b','c']\n",
    "\n",
    "del li[1]\n",
    "print(li)"
   ]
  },
  {
   "cell_type": "code",
   "execution_count": 27,
   "id": "be390a8a-e23e-46d6-86c6-bf364266724f",
   "metadata": {},
   "outputs": [
    {
     "name": "stdout",
     "output_type": "stream",
     "text": [
      "['a', 'b', 'c', 'd', 'e', 'f']\n"
     ]
    }
   ],
   "source": [
    "li_a = ['a','b','c']\n",
    "li_b = ['d','e','f']\n",
    "\n",
    "li_c = li_a + li_b\n",
    "\n",
    "print(li_c)"
   ]
  },
  {
   "cell_type": "code",
   "execution_count": 29,
   "id": "64564aa6-81e5-4324-a7f6-8b0445ff23f5",
   "metadata": {},
   "outputs": [
    {
     "name": "stdout",
     "output_type": "stream",
     "text": [
      "alpha\n",
      "bravo\n",
      "delta\n",
      "hotel\n",
      "india\n"
     ]
    }
   ],
   "source": [
    "a = ['alpha', 'bravo', 'charlie', 'delta', 'echo', 'foxtrot', 'golf', 'hotel', 'india']\n",
    "\n",
    "i = 0\n",
    "\n",
    "while i<len(a):\n",
    "    if len(a[i])==5:\n",
    "        print(a[i])\n",
    "    i+=1"
   ]
  },
  {
   "cell_type": "markdown",
   "id": "0420e62d-f2be-42da-ba32-1807fea54869",
   "metadata": {},
   "source": [
    "### 돌발문제 1\n",
    "\n",
    "nums = [1, 2, 9, 10, 5, 6, 7]\n",
    "\n",
    "1. 최소값, 최대값을 찾아서 프린트 하세요..."
   ]
  },
  {
   "cell_type": "markdown",
   "id": "6fb6aee1-a1f6-44de-b74f-2635866eee74",
   "metadata": {},
   "source": [
    "### 돌발문제 2\n",
    "\n",
    "회사 이름이 슬래시 ('/')로 구분되어 하나의 문자열로 저장되어 있다.\n",
    "\n",
    "string = \"삼성전자/LG전자/Naver\"\n",
    "이를 interest 이름의 리스트로 분리 저장하라.\n",
    "\n",
    "실행 예시\n",
    "\n",
    "print(interest)\n",
    "\n",
    "['삼성전자', 'LG전자', 'Naver']\n",
    "\n"
   ]
  },
  {
   "attachments": {
    "06ea47df-e122-427c-a867-d64d51a1bc2f.png": {
     "image/png": "[encoded data removed]"
    }
   },
   "cell_type": "markdown",
   "id": "1bfc5d12-4f30-4fe7-b3aa-4b1f6e8999c0",
   "metadata": {},
   "source": [
    "### 돌발문제 3\n",
    "\n",
    "![image.png](attachment:06ea47df-e122-427c-a867-d64d51a1bc2f.png)\n",
    "\n",
    "이정보를 사전(딕셔너리)로 나타내고 가격의 평균을 내라\n"
   ]
  },
  {
   "attachments": {
    "158bc8f2-25f9-46dd-be64-37895cd12b6a.png": {
     "image/png": "[encoded data removed]"
    },
    "f63c4afb-8a81-4864-bc73-58300489f6f0.png": {
     "image/png": "[encoded data removed]"
    }
   },
   "cell_type": "markdown",
   "id": "c67940fc-ad9a-4a01-a6cc-35be50426178",
   "metadata": {},
   "source": [
    "### 돌발문제 4\n",
    "\n",
    "![image.png](attachment:158bc8f2-25f9-46dd-be64-37895cd12b6a.png)\n",
    "\n",
    "이것을 사전(딕셔너리)로 나타내고 전체 아이스크림 가치를 내라\n",
    "![image.png](attachment:f63c4afb-8a81-4864-bc73-58300489f6f0.png)"
   ]
  },
  {
   "cell_type": "code",
   "execution_count": 6,
   "id": "21660c33-c9bc-4cc8-b4df-6be7dcceeeb3",
   "metadata": {},
   "outputs": [
    {
     "name": "stdout",
     "output_type": "stream",
     "text": [
      "메로나 300 3\n",
      "비빅스 400 3\n",
      "죠스바 250 100\n",
      "****************************************************************************************************\n",
      "가치는 27100\n"
     ]
    }
   ],
   "source": [
    "icecream = {\"메로나\":[300,3],\"비빅스\":[400,3],\"죠스바\":[250,100]}\n",
    "\n",
    "money = 0\n",
    "\n",
    "for k,v in icecream.items():\n",
    "    money += (v[0]*v[1])\n",
    "    print(k,v[0],v[1])\n",
    "    \n",
    "print(\"*\"*100)    \n",
    "print(\"가치는 {0}\".format(money))    "
   ]
  },
  {
   "cell_type": "markdown",
   "id": "bcae9727-e9fc-48b5-9e0d-2311c5dd8fb8",
   "metadata": {},
   "source": [
    "### 돌발문제\n",
    "\n",
    "단어 암기 프로그램 만들기\n",
    "\n",
    "1. 암기하려는 단어 갯수를 입력한다.\n",
    "   예) 암기하려는 단어 갯수를 입력하세요... 5를 입력받음.\n",
    "2. 암기한 단어를 갯수만큼 입력 받는다.\n",
    "   예) 1: 단어를 입력하세요.\n",
    "       2: 단어를 입력하세요.\n",
    "       \n",
    "       \n",
    "   암기하려는 단어를 모두 입력받았습니다. \n",
    "   자 지금부터 암기하시기 바랍니다.\n",
    "3. 옵션) 단어를 암기후 예를 들어 30초후에 무작위로 단어 갯수만큼 입력받는다.\n",
    "   예) 30초가 지나면 암기한 단어를 입력하세요라고하고 5개를 입력을 받는다.\n",
    "   \n",
    "4. 만일 다 외우지 못하면 Q를 입력하고 종료한다.\n",
    "   예) 다 암기하면 끝,..또는 중간에 못외무면 Q로 끝낸다.\n",
    "5. 암기한 단어 갯수를 출력한다.\n",
    "   예) 3개 암기하셨습니다."
   ]
  },
  {
   "cell_type": "code",
   "execution_count": null,
   "id": "7525c824-9813-4bc3-af56-18afe8bb8d2b",
   "metadata": {},
   "outputs": [],
   "source": [
    "# prompt the user to enter five words\n",
    "print(\"Please enter five words:\")\n",
    "words = []\n",
    "answers = []\n",
    "\n",
    "memory = int(input('몇개를 암기하실까요?'))\n",
    "\n",
    "# loop through and collect input from user\n",
    "for i in range(memory):\n",
    "    word = input(f\"Word {i+1}: \")\n",
    "    words.append(word)\n",
    "\n",
    "# display the list of words back to the user\n",
    "print(\"The words you entered are:\")\n",
    "for word in words:\n",
    "    print(word)\n",
    "    \n",
    "    \n",
    "import time\n",
    "\n",
    "print (\"Sleep 5 seconds from now on...\")\n",
    "\n",
    "time.sleep(5)\n",
    "\n",
    "print(\"wake up!\")\n",
    "\n",
    "\n",
    "# loop through and collect input from user\n",
    "for i in range(5):\n",
    "    answer = input(f\"Word {i+1}: \")\n",
    "    if answer=='Q':\n",
    "        break:\n",
    "    answers.append(answer)\n",
    "    \n",
    "    \n",
    "count = 0    \n",
    "for w in words:   \n",
    "    for a in answers:\n",
    "        if w == a:\n",
    "            count+=1\n",
    "            break\n",
    "        \n",
    "print(f'you remembered {count} words')\n",
    "\n"
   ]
  },
  {
   "cell_type": "code",
   "execution_count": 2,
   "id": "160993ad-3a59-4e18-9676-4cc447442df3",
   "metadata": {},
   "outputs": [
    {
     "name": "stdout",
     "output_type": "stream",
     "text": [
      "0\n",
      "1\n",
      "2\n",
      "3\n",
      "4\n"
     ]
    }
   ],
   "source": [
    "# print first 5 integers\n",
    "# using python range() function\n",
    "money = 5\n",
    "for i in range(money):\n",
    "    print(i)\n"
   ]
  },
  {
   "cell_type": "code",
   "execution_count": 3,
   "id": "d04c7a2f-4a4f-436c-8667-b6a09a1c5a1a",
   "metadata": {},
   "outputs": [
    {
     "name": "stdout",
     "output_type": "stream",
     "text": [
      "4\n",
      "3\n",
      "2\n",
      "1\n"
     ]
    }
   ],
   "source": [
    "a = [1,2,3,4]\n",
    "\n",
    "while a:\n",
    "    print(a.pop())"
   ]
  },
  {
   "cell_type": "code",
   "execution_count": null,
   "id": "f812927e-f2f5-4dc5-89a1-145f5ad2a1e7",
   "metadata": {},
   "outputs": [],
   "source": [
    "bool('python')"
   ]
  },
  {
   "cell_type": "markdown",
   "id": "a4924fad-db5a-47d2-8beb-0a4d08c6d7a6",
   "metadata": {},
   "source": [
    "### 미션"
   ]
  },
  {
   "cell_type": "code",
   "execution_count": 25,
   "id": "af603b98-12ee-43ff-b1ed-074dfeabf822",
   "metadata": {
    "tags": []
   },
   "outputs": [
    {
     "name": "stdin",
     "output_type": "stream",
     "text": [
      "input integer: 1\n",
      "input integer: 2\n",
      "input integer: 3\n",
      "input integer: 4\n",
      "input integer: 5\n"
     ]
    },
    {
     "name": "stdout",
     "output_type": "stream",
     "text": [
      "sum is 15\n"
     ]
    }
   ],
   "source": [
    "numbers = []\n",
    "\n",
    "for i in range(5):\n",
    "    x = input('input integer:')\n",
    "    numbers.append(int(x))\n",
    "    \n",
    "def sum_function(numbers):\n",
    "    s = 0\n",
    "    for x in numbers:\n",
    "        s += x\n",
    "    return s\n",
    "\n",
    "s = sum_function(numbers)\n",
    "\n",
    "print('sum is',s)"
   ]
  },
  {
   "cell_type": "code",
   "execution_count": 26,
   "id": "30df4d49-322d-4dc2-bd2b-3432e3cfc569",
   "metadata": {
    "tags": []
   },
   "outputs": [
    {
     "name": "stdout",
     "output_type": "stream",
     "text": [
      "hello world\n"
     ]
    }
   ],
   "source": [
    "w = 'world'\n",
    "print('hello',w,'!')\n"
   ]
  },
  {
   "cell_type": "code",
   "execution_count": 32,
   "id": "720478d6-bf16-413e-8fff-389b5102735c",
   "metadata": {
    "tags": []
   },
   "outputs": [
    {
     "name": "stdout",
     "output_type": "stream",
     "text": [
      "내 이름은 홍길동입니다.\n"
     ]
    }
   ],
   "source": [
    "w = \"내 이름은 %s입니다.\" %\"홍길동\"\n",
    "\n",
    "print(w)"
   ]
  },
  {
   "cell_type": "code",
   "execution_count": 33,
   "id": "86a57aff-d2be-434a-b15b-6371cd0cb912",
   "metadata": {
    "tags": []
   },
   "outputs": [
    {
     "name": "stdout",
     "output_type": "stream",
     "text": [
      "The price is 49 dollars\n"
     ]
    }
   ],
   "source": [
    "price = 49\n",
    "txt = \"The price is {} dollars\"\n",
    "print(txt.format(price))\n"
   ]
  },
  {
   "cell_type": "code",
   "execution_count": 34,
   "id": "6fbb19b0-bf92-43f3-a3cc-ee1c555b6673",
   "metadata": {
    "tags": []
   },
   "outputs": [
    {
     "name": "stdout",
     "output_type": "stream",
     "text": [
      "홍길동의 나이는 32살이다.\n"
     ]
    }
   ],
   "source": [
    "name = \"홍길동\"\n",
    "age = 32\n",
    "print(f\"{name}의 나이는 {age}살이다.\")\n"
   ]
  },
  {
   "cell_type": "code",
   "execution_count": 40,
   "id": "1f120fd3-ded1-4f07-8fb1-60922b43211b",
   "metadata": {
    "tags": []
   },
   "outputs": [
    {
     "name": "stdout",
     "output_type": "stream",
     "text": [
      "[0, 1, 2, 3, 4]\n"
     ]
    }
   ],
   "source": [
    "numbers = []\n",
    "\n",
    "for i in range(5):\n",
    "    #print(type(i))\n",
    "    x = input('input digit:')\n",
    "    numbers.append(x)\n",
    "    \n",
    "print(numbers)"
   ]
  },
  {
   "cell_type": "code",
   "execution_count": 46,
   "id": "a470b81f-9e71-4b73-bc6b-b36bbf0f9cee",
   "metadata": {
    "tags": []
   },
   "outputs": [
    {
     "name": "stdout",
     "output_type": "stream",
     "text": [
      "45 4.5\n"
     ]
    }
   ],
   "source": [
    "numbers = list(range(10))\n",
    "\n",
    "def sum_avg(n):\n",
    "    hap = pyung = 0\n",
    "    for i in n:\n",
    "        hap +=i\n",
    "    return hap,hap/len(n)\n",
    "\n",
    "hap,pyung = sum_avg(numbers)\n",
    "print(hap,pyung)"
   ]
  },
  {
   "cell_type": "raw",
   "id": "56507a89-942c-433b-8178-685252540b51",
   "metadata": {
    "tags": []
   },
   "source": [
    "for i in range(11):\n",
    "    if i >= 5:\n",
    "        print(i)\n",
    "    \n",
    "    if i==7:\n",
    "    ls\n",
    "    break"
   ]
  }
 ],
 "metadata": {
  "kernelspec": {
   "display_name": "Python 3 (ipykernel)",
   "language": "python",
   "name": "python3"
  },
  "language_info": {
   "codemirror_mode": {
    "name": "ipython",
    "version": 3
   },
   "file_extension": ".py",
   "mimetype": "text/x-python",
   "name": "python",
   "nbconvert_exporter": "python",
   "pygments_lexer": "ipython3",
   "version": "3.11.7"
  }
 },
 "nbformat": 4,
 "nbformat_minor": 5
}
