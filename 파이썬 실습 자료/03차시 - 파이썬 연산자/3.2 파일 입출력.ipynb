{
 "cells": [
  {
   "cell_type": "markdown",
   "id": "cd49fcce-1e11-4cd8-90cb-75ec1a5a9ddd",
   "metadata": {},
   "source": [
    "### 3.2 파일 입출력"
   ]
  },
  {
   "cell_type": "markdown",
   "id": "b8c080af-e70d-4a97-bab4-970d1c9ad98d",
   "metadata": {},
   "source": [
    "#### 3.2.1 파일 생성"
   ]
  },
  {
   "cell_type": "code",
   "execution_count": 2,
   "id": "2f63a675-54dd-47bf-b7f6-0e3e849f23d8",
   "metadata": {},
   "outputs": [],
   "source": [
    "\n",
    "f = open(\"./새파일6.txt\", 'w') #상대패스....\n",
    "\n",
    "f.write('다시 새로 파일에다 글을 쓴다....')\n",
    "\n",
    "f.close()"
   ]
  },
  {
   "cell_type": "code",
   "execution_count": 9,
   "id": "973c1a5e-5b2b-4615-a368-8a06f87e6fe5",
   "metadata": {},
   "outputs": [],
   "source": [
    "import os  ### import 어떤 모듈을 사용하고자할 때 import\n",
    "\n",
    "os.remove('새파일2.txt')"
   ]
  },
  {
   "attachments": {
    "96f52932-af01-4cb2-a644-ca847fd36d12.png": {
     "image/png": "[encoded data removed]"
    },
    "b25de1b9-49fb-4bb6-9d25-54ef17d33280.png": {
     "image/png": "[encoded data removed]"
    }
   },
   "cell_type": "markdown",
   "id": "0a07eae7-ac77-43e4-b942-6e0d93140d45",
   "metadata": {},
   "source": [
    "open 함수는 다음과 같이 \"파일 이름\"과 \"파일 열기 모드\"를 입력값으로 받고 결괏값으로 파일 객체를 리턴한다.     \n",
    "파일 객체 = open(파일 이름, 파일 열기 모드)\n",
    "\n",
    "열기 모드: 파일을 열어서 쓰는 방법, 목적에 부합해야한다.\n",
    "![download.png](attachment:b25de1b9-49fb-4bb6-9d25-54ef17d33280.png)\n",
    "![image.png](attachment:96f52932-af01-4cb2-a644-ca847fd36d12.png)"
   ]
  },
  {
   "cell_type": "code",
   "execution_count": 3,
   "id": "df9cbd3f-073c-4998-8b19-be269ea049fd",
   "metadata": {},
   "outputs": [],
   "source": [
    "f = open(\"C:/python/새파일.txt\", 'w')  #절대패스를 사용한다.  /  <= 키보드 ? 밑에 있는것...\n",
    "\n",
    "f.close() ### 인스턴의 메소드를 실행하는 방법... .method()"
   ]
  },
  {
   "cell_type": "code",
   "execution_count": 17,
   "id": "e3b93c4a-a83a-41d0-9568-f32332c37ea9",
   "metadata": {},
   "outputs": [],
   "source": [
    "f = open(\"./file.txt\", 'w')  ## 파일에 글을 쓰는 용도로 연다... w\n",
    "#f는 변수... 파일을 처리할 수 있는 객체의 인스턴스....\n",
    "\n",
    "for i in range(1, 11):\n",
    "    #data = \"%d lines.\\n\"%i   #%d 숫자를 나타낼때,,, %s는 문자열을 나타낼 때\n",
    "    data = f\"{i} lines.\\n\"   #%d 숫자를 나타낼때,,, %s는 문자열을 나타낼 때    \n",
    "    f.write(data)\n",
    "    \n",
    "f.close()"
   ]
  },
  {
   "cell_type": "markdown",
   "id": "d2f06221-c52d-42b1-a867-059aed67d1fd",
   "metadata": {},
   "source": [
    "### 파일 읽기"
   ]
  },
  {
   "cell_type": "code",
   "execution_count": 19,
   "id": "423b728d-3db7-4494-9acd-5b07d9e5a4a0",
   "metadata": {},
   "outputs": [
    {
     "name": "stdout",
     "output_type": "stream",
     "text": [
      "1 lines.\n",
      "\n",
      "2 lines.\n",
      "\n",
      "3 lines.\n",
      "\n",
      "4 lines.\n",
      "\n",
      "5 lines.\n",
      "\n",
      "6 lines.\n",
      "\n",
      "7 lines.\n",
      "\n",
      "8 lines.\n",
      "\n",
      "9 lines.\n",
      "\n",
      "10 lines.\n",
      "\n",
      "1 lines.\n",
      "\n",
      "2 lines.\n",
      "\n",
      "3 lines.\n",
      "\n",
      "4 lines.\n",
      "\n",
      "5 lines.\n",
      "\n",
      "6 lines.\n",
      "\n",
      "7 lines.\n",
      "\n",
      "8 lines.\n",
      "\n",
      "9 lines.\n",
      "\n",
      "10 lines.\n",
      "\n"
     ]
    }
   ],
   "source": [
    "f = open(\"file.txt\", 'r')  #절대패스를 사용한다.  /  <= 키보드 ? 밑에 있는것...\n",
    "\n",
    "while True:  ### 문한루프....\n",
    "    line = f.readline()  ## 파일에서 한줄 한줄씩 읽어 들인다... , 더 이상 읽을 줄이 없으면 break를 수행한다.\n",
    "    \n",
    "    if not line: \n",
    "        break\n",
    "    \n",
    "    print(line)\n",
    "\n",
    "\n",
    "f.close()"
   ]
  },
  {
   "cell_type": "code",
   "execution_count": 18,
   "id": "45ac361c-7627-435c-8392-d2c9a6accc9b",
   "metadata": {},
   "outputs": [],
   "source": [
    "f = open(\"./file.txt\", 'a')  ## 파일에 글을 쓰는 용도로 연다... w\n",
    "#f는 변수... 파일을 처리할 수 있는 객체의 인스턴스....\n",
    "\n",
    "for i in range(1, 11):\n",
    "    #data = \"%d lines.\\n\"%i   #%d 숫자를 나타낼때,,, %s는 문자열을 나타낼 때\n",
    "    data = f\"{i} lines.\\n\"   #%d 숫자를 나타낼때,,, %s는 문자열을 나타낼 때    \n",
    "    f.write(data)\n",
    "    \n",
    "f.close()"
   ]
  },
  {
   "cell_type": "markdown",
   "id": "e72acd6e-83d2-4e98-a569-ba60cd9b4786",
   "metadata": {},
   "source": [
    "#### with문과 함께. *** 외울필요는 없다.."
   ]
  },
  {
   "cell_type": "code",
   "execution_count": null,
   "id": "50d3e48a-822a-4e95-8329-bf79ad2c207e",
   "metadata": {},
   "outputs": [],
   "source": [
    "with open(\"foo.txt\", \"w\") as f:\n",
    "    f.write(\"Life is too short, you need python\")\n",
    "    \n",
    "    "
   ]
  },
  {
   "cell_type": "markdown",
   "id": "4050b6f5-c0e2-4a51-a5a6-43356b9a4bf1",
   "metadata": {},
   "source": [
    "객체지향 프로그램은 객체들의 집합으로 프로그램을 구성하는 프로그래밍 패러다임입니다. \n",
    "객체는 데이터와 해당 데이터(프러퍼티)를 조작할 수 있는 함수(메서드)를 포함하는 캡슐화된 단위로 구성됩니다.\n",
    "\n",
    "객체지향 프로그래밍의 핵심 개념은 클래스(class)입니다. \n",
    "클래스는 객체를 생성하기 위한 설계도 역할을 하며, 객체를 생성하면 클래스에서 정의된 속성과 메서드를 가지는 실체가 됩니다.\n",
    "객체는 다른 객체와 상호작용하며, 이를 통해 프로그램이 실행됩니다."
   ]
  }
 ],
 "metadata": {
  "kernelspec": {
   "display_name": "Python 3 (ipykernel)",
   "language": "python",
   "name": "python3"
  },
  "language_info": {
   "codemirror_mode": {
    "name": "ipython",
    "version": 3
   },
   "file_extension": ".py",
   "mimetype": "text/x-python",
   "name": "python",
   "nbconvert_exporter": "python",
   "pygments_lexer": "ipython3",
   "version": "3.9.13"
  }
 },
 "nbformat": 4,
 "nbformat_minor": 5
}
