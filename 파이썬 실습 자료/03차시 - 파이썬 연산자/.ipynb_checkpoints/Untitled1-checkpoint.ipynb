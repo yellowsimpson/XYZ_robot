{
 "cells": [
  {
   "cell_type": "markdown",
   "id": "469a416f-8525-45f4-9b15-f8f2a2794799",
   "metadata": {},
   "source": []
  },
  {
   "cell_type": "markdown",
   "id": "ccfa88d1-1f5d-4ed0-8838-e742a11170d2",
   "metadata": {},
   "source": []
  },
  {
   "cell_type": "markdown",
   "id": "1b946a8b-d790-426b-be3a-9bb628a3db79",
   "metadata": {},
   "source": []
  },
  {
   "cell_type": "markdown",
   "id": "24c41f77-270e-4773-b7f4-de1e69c1878d",
   "metadata": {},
   "source": []
  },
  {
   "cell_type": "markdown",
   "id": "02525450-955b-42ff-941c-d40de79ddebe",
   "metadata": {},
   "source": []
  },
  {
   "cell_type": "markdown",
   "id": "40017826-85e9-48d6-9842-406f6b59e293",
   "metadata": {},
   "source": []
  },
  {
   "cell_type": "markdown",
   "id": "2bf3d6da-839c-4d60-992b-1061fd81c29d",
   "metadata": {},
   "source": []
  },
  {
   "cell_type": "markdown",
   "id": "c83911bd-24d9-4ff9-a3a8-a01627426253",
   "metadata": {},
   "source": []
  },
  {
   "cell_type": "markdown",
   "id": "e91ddd4d-bddd-4f02-b53f-f6ea5734b674",
   "metadata": {},
   "source": []
  },
  {
   "cell_type": "markdown",
   "id": "f00f63aa-6ac5-4886-82e7-cb7997a17a43",
   "metadata": {},
   "source": []
  },
  {
   "cell_type": "markdown",
   "id": "2d2b29c3-f385-46e5-a055-e9d38d8e65c7",
   "metadata": {},
   "source": []
  },
  {
   "cell_type": "markdown",
   "id": "e72c0b0b-7437-4728-a6b1-00a8c4984630",
   "metadata": {},
   "source": []
  },
  {
   "cell_type": "markdown",
   "id": "3025b817-7310-48d7-a831-fea09019670a",
   "metadata": {},
   "source": []
  },
  {
   "cell_type": "markdown",
   "id": "c546ca71-1263-4b2b-935f-ec4ab54ad5a3",
   "metadata": {},
   "source": []
  }
 ],
 "metadata": {
  "kernelspec": {
   "display_name": "Python 3 (ipykernel)",
   "language": "python",
   "name": "python3"
  },
  "language_info": {
   "codemirror_mode": {
    "name": "ipython",
    "version": 3
   },
   "file_extension": ".py",
   "mimetype": "text/x-python",
   "name": "python",
   "nbconvert_exporter": "python",
   "pygments_lexer": "ipython3",
   "version": "3.9.12"
  }
 },
 "nbformat": 4,
 "nbformat_minor": 5
}
