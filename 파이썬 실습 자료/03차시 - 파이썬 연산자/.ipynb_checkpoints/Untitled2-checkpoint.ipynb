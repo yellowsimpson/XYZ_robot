{
 "cells": [
  {
   "cell_type": "markdown",
   "id": "7ba4d8c3-7628-40a9-8f66-31a65ac46266",
   "metadata": {},
   "source": []
  },
  {
   "cell_type": "markdown",
   "id": "979bf3d0-8caf-49d7-a585-2b772763c712",
   "metadata": {},
   "source": []
  },
  {
   "cell_type": "markdown",
   "id": "e3fec9b9-df23-423e-9fbe-f5cfcaf00e56",
   "metadata": {},
   "source": []
  },
  {
   "cell_type": "markdown",
   "id": "98dd67c6-b405-4daf-83cf-8547005357af",
   "metadata": {},
   "source": []
  },
  {
   "cell_type": "markdown",
   "id": "556477a2-8ba7-432b-b2b7-ab21675bf743",
   "metadata": {},
   "source": []
  },
  {
   "cell_type": "markdown",
   "id": "10aec70f-fa06-4e77-bf36-1983ac1d706f",
   "metadata": {},
   "source": []
  },
  {
   "cell_type": "markdown",
   "id": "74a02968-2c7b-4d99-b8a9-fc82fafeb27c",
   "metadata": {},
   "source": []
  },
  {
   "cell_type": "markdown",
   "id": "f40272b9-95e5-4f5a-bfd7-15ea07256740",
   "metadata": {},
   "source": []
  },
  {
   "cell_type": "markdown",
   "id": "149548ed-4f17-4aa8-a818-7868c7523294",
   "metadata": {},
   "source": []
  },
  {
   "cell_type": "markdown",
   "id": "5c7b5658-3cad-482c-a6ea-c48151c0b304",
   "metadata": {},
   "source": []
  },
  {
   "cell_type": "markdown",
   "id": "2caebfc2-432b-4c5d-bd33-335da2e7a44f",
   "metadata": {},
   "source": []
  },
  {
   "cell_type": "markdown",
   "id": "dc9805fa-e5f5-4a6f-9105-c47b949d1c65",
   "metadata": {},
   "source": []
  }
 ],
 "metadata": {
  "kernelspec": {
   "display_name": "Python 3 (ipykernel)",
   "language": "python",
   "name": "python3"
  },
  "language_info": {
   "codemirror_mode": {
    "name": "ipython",
    "version": 3
   },
   "file_extension": ".py",
   "mimetype": "text/x-python",
   "name": "python",
   "nbconvert_exporter": "python",
   "pygments_lexer": "ipython3",
   "version": "3.9.12"
  }
 },
 "nbformat": 4,
 "nbformat_minor": 5
}
