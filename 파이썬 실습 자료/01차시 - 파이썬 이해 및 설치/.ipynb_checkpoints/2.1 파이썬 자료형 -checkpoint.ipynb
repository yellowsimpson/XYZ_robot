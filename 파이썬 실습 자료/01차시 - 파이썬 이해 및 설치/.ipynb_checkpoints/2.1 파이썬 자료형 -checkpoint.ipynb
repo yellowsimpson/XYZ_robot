{
 "cells": [
  {
   "cell_type": "markdown",
   "id": "6e98e55c-d3a7-48de-8270-56acbda812c4",
   "metadata": {},
   "source": [
    "# 1.1. 데이터 자료형(타입)"
   ]
  },
  {
   "cell_type": "markdown",
   "id": "d9deadd5-53cc-47d0-8e11-2f37bfd93b75",
   "metadata": {},
   "source": [
    "## 1.1 숫자형"
   ]
  },
  {
   "cell_type": "markdown",
   "id": "4f479e85-d950-4efb-bd36-a7ad1c3b0ae7",
   "metadata": {},
   "source": [
    "### 1.1.1 정수(Integer)"
   ]
  },
  {
   "cell_type": "markdown",
   "id": "f0610f43-9393-4b38-8694-c2a89b5e4a27",
   "metadata": {},
   "source": [
    "숫자형(Number)이란 숫자 형태로 이루어진 자료형입니다.<br>\n",
    "우리가 흔히 사용하는 것을 생각해 봅시다.<br> 123 같은 정수, 12.34 같은 실수 같은 문자와 구분되는 수식을 연산할 수 있습니다."
   ]
  },
  {
   "cell_type": "code",
   "execution_count": null,
   "id": "7e653229-3387-4905-b68d-09d694a9be9d",
   "metadata": {},
   "outputs": [],
   "source": [
    "# 그전에 변수에대한 것을 이해해야하는데 어떤 정보를 담는 그릇, 실질적으로는 메모리에 데이터를 저장하는 주소의 별칭"
   ]
  },
  {
   "cell_type": "code",
   "execution_count": 9,
   "id": "828989c7-72ae-47c7-b98a-f77df640a73a",
   "metadata": {},
   "outputs": [
    {
     "name": "stdout",
     "output_type": "stream",
     "text": [
      "2\n"
     ]
    }
   ],
   "source": [
    "a = 2\n",
    "print(a)"
   ]
  },
  {
   "cell_type": "markdown",
   "id": "286f8356-127d-48f6-8b90-74cf9f766a88",
   "metadata": {},
   "source": [
    "### 1.1.2 실수(Float)"
   ]
  },
  {
   "cell_type": "code",
   "execution_count": 4,
   "id": "1b26aee3-28fb-4d8b-91a2-eb5fd25e07e5",
   "metadata": {},
   "outputs": [],
   "source": [
    "a = 1.1\n",
    "b = 3.14"
   ]
  },
  {
   "cell_type": "markdown",
   "id": "5b8cc437-d8ea-481f-8927-cc243d7738db",
   "metadata": {},
   "source": [
    "### 1.1.3 문자열(String)"
   ]
  },
  {
   "cell_type": "markdown",
   "id": "3a3f54f2-0ed5-49b0-8acd-79a3a46aac95",
   "metadata": {},
   "source": [
    "#### 사용방법 2가지\n",
    "\n",
    "1. 큰따옴표(\")로 양쪽 둘러싸기\n",
    "\"Hello World\"\n",
    "2. 작은따옴표(')로 양쪽 둘러싸기\n",
    "'Python is fun'"
   ]
  },
  {
   "cell_type": "code",
   "execution_count": 11,
   "id": "4343bc57-a085-43bc-8779-517bbc3ecb9f",
   "metadata": {},
   "outputs": [
    {
     "name": "stdout",
     "output_type": "stream",
     "text": [
      "안녕 시작 파이썬\n"
     ]
    }
   ],
   "source": [
    "# 문자열(String)이란 문자, 단어 등으로 구성된 문자들의 집합을 의미한다. \n",
    "\n",
    "l = '안녕 시작 파이썬'\n",
    "a = \"a\"\n",
    "n = \"123\"\n",
    "\n",
    "print(l)\n",
    "#숫자와 문자/문자열의 표현의 다른점을 찾아보자, 프린트 해보기"
   ]
  },
  {
   "cell_type": "code",
   "execution_count": 12,
   "id": "db356cb8-008f-4b6f-a53a-0746234d846b",
   "metadata": {},
   "outputs": [
    {
     "name": "stdout",
     "output_type": "stream",
     "text": [
      "파이썬 데이터분석입문  PlaywithData 데이터수집 1 3 4.5\n"
     ]
    }
   ],
   "source": [
    "print('파이썬', '데이터분석입문',' PlaywithData','데이터수집',1,3,4.5)"
   ]
  },
  {
   "cell_type": "markdown",
   "id": "a052f0fd-0af7-4aa2-81a3-d7def4e3a7a7",
   "metadata": {},
   "source": [
    "### 1.1.4 불형(Bool)"
   ]
  },
  {
   "cell_type": "markdown",
   "id": "b00ed56b-b110-40e3-b5e0-b80ddc083ff9",
   "metadata": {},
   "source": [
    "논리형, 참(True)또는 거짓(False) 이 둘만 존재하는 자료형입니다.<br>\n",
    "나중에 배울 제어문에서 이를 기준으로 판단하게 됩니다."
   ]
  },
  {
   "cell_type": "code",
   "execution_count": 8,
   "id": "872c9271-f5a2-4671-b7b7-af30401649c5",
   "metadata": {},
   "outputs": [
    {
     "name": "stdout",
     "output_type": "stream",
     "text": [
      "True\n",
      "<class 'bool'>\n"
     ]
    }
   ],
   "source": [
    "# True와 False는 예약어로 첫글자는 항상 대문자로 사용해야합니다.\n",
    "a = True\n",
    "B = False\n",
    "print(a)\n",
    "# type()함수로 변수의 자료형을 알 수 있습니다.\n",
    "print(type(a))"
   ]
  }
 ],
 "metadata": {
  "kernelspec": {
   "display_name": "Python 3 (ipykernel)",
   "language": "python",
   "name": "python3"
  },
  "language_info": {
   "codemirror_mode": {
    "name": "ipython",
    "version": 3
   },
   "file_extension": ".py",
   "mimetype": "text/x-python",
   "name": "python",
   "nbconvert_exporter": "python",
   "pygments_lexer": "ipython3",
   "version": "3.9.13"
  }
 },
 "nbformat": 4,
 "nbformat_minor": 5
}
