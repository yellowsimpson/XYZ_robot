{
 "cells": [
  {
   "cell_type": "markdown",
   "id": "292f98e8-6693-4c5f-ae4a-d7efeb4977c9",
   "metadata": {},
   "source": [
    "## 4.4 입출력"
   ]
  },
  {
   "cell_type": "markdown",
   "id": "d23491a2-28d2-46ef-804a-f406c89936af",
   "metadata": {},
   "source": [
    "### 4.4.1 입력 시작"
   ]
  },
  {
   "cell_type": "markdown",
   "id": "1ac15afd-de71-47d1-a162-d9809a9cf286",
   "metadata": {},
   "source": [
    "다음을 입력하고 엔터를 누르면 사용자가 값을 입력하기를 기다립니다."
   ]
  },
  {
   "cell_type": "code",
   "execution_count": 4,
   "id": "8492df0d-bba4-44e9-a391-1187500f6b1b",
   "metadata": {},
   "outputs": [
    {
     "name": "stdin",
     "output_type": "stream",
     "text": [
      "입력하고 엔터 3\n"
     ]
    }
   ],
   "source": [
    " x = input('입력하고 엔터')"
   ]
  },
  {
   "cell_type": "markdown",
   "id": "a0811d14-7fc0-48ee-bbeb-c5c9b4fbd48f",
   "metadata": {},
   "source": [
    "결과는 x에 받아서 다음 처리를 한다. 입력값 데이터 타입을 확인해보자"
   ]
  },
  {
   "cell_type": "code",
   "execution_count": 5,
   "id": "9fabb6d7-33ee-40db-a7bc-781e0cdb3704",
   "metadata": {},
   "outputs": [
    {
     "name": "stdout",
     "output_type": "stream",
     "text": [
      "3\n",
      "<class 'str'>\n"
     ]
    }
   ],
   "source": [
    "print(x)\n",
    "print(type(x))"
   ]
  },
  {
   "cell_type": "markdown",
   "id": "f1d3fc02-182b-4462-b2b2-efdf513cd712",
   "metadata": {},
   "source": [
    "입력 값을 정수,실수로 변환하기"
   ]
  },
  {
   "cell_type": "code",
   "execution_count": 13,
   "id": "48a501bf-e374-433f-92e0-e25c062081dc",
   "metadata": {},
   "outputs": [
    {
     "name": "stdin",
     "output_type": "stream",
     "text": [
      "정수 :  2\n",
      "실수 :  3.4\n"
     ]
    },
    {
     "data": {
      "text/plain": [
       "3.4"
      ]
     },
     "execution_count": 13,
     "metadata": {},
     "output_type": "execute_result"
    }
   ],
   "source": [
    "x = int(input('정수 : '))\n",
    "\n",
    "x\n",
    "\n",
    "x = float(input('실수 : '))\n",
    "\n",
    "x"
   ]
  },
  {
   "cell_type": "code",
   "execution_count": null,
   "id": "8dfd5753-9ec8-4cb7-8ce2-a249fc4887fb",
   "metadata": {},
   "outputs": [
    {
     "name": "stdin",
     "output_type": "stream",
     "text": [
      "사용자 입력 :  1\n"
     ]
    },
    {
     "name": "stdout",
     "output_type": "stream",
     "text": [
      "1번째 입력 : 1\n"
     ]
    },
    {
     "name": "stdin",
     "output_type": "stream",
     "text": [
      "사용자 입력 :  1\n"
     ]
    },
    {
     "name": "stdout",
     "output_type": "stream",
     "text": [
      "2번째 입력 : 1\n"
     ]
    },
    {
     "name": "stdin",
     "output_type": "stream",
     "text": [
      "사용자 입력 :  1\n"
     ]
    },
    {
     "name": "stdout",
     "output_type": "stream",
     "text": [
      "3번째 입력 : 1\n"
     ]
    }
   ],
   "source": [
    "i = 0\n",
    " \n",
    "while i < 3:\n",
    "    a = input(\"사용자 입력 : \")\n",
    "    print(f'{i + 1}번째 입력 : {a}')\n",
    "    i += 1\n"
   ]
  },
  {
   "cell_type": "markdown",
   "id": "56ea3e21-feb0-4d6a-b3ad-ce23ed43e3bf",
   "metadata": {},
   "source": [
    "### 4.4.2 input 함수의 활용"
   ]
  },
  {
   "cell_type": "markdown",
   "id": "a6ffe125-3302-4138-9b15-f2fdc31e4d90",
   "metadata": {},
   "source": [
    "input().split()\n",
    "\n",
    "split() 내장함수는 문자열을 특정 구분자로 나누고 싶을 때 사용합니다.\n",
    "\n",
    "가령 split(',')은 쉼표로 구분된 문자열을 나눌 때 사용하면 됩니다다.\n",
    "\n",
    "split()은 공백으로 되어있으니 띄어쓰기를 구분할 때 사용됩니다."
   ]
  },
  {
   "cell_type": "code",
   "execution_count": 8,
   "id": "1fa01a49-489e-47d8-8dc5-d43d652c3080",
   "metadata": {},
   "outputs": [
    {
     "name": "stdin",
     "output_type": "stream",
     "text": [
      " ㅁㄴㅇㄹ ㅁㄴㅇㄹ\n"
     ]
    }
   ],
   "source": [
    "str = input().split()"
   ]
  },
  {
   "cell_type": "markdown",
   "id": "c6557d81-8f33-4237-b338-c1928b4c97a0",
   "metadata": {},
   "source": [
    "10 + 20의 결과가 30이 나오게 하려면 input에서 입력받은 문자열을 숫자(정수)로 만들어주어야 합니다.\n",
    "방법은 int()라는 함수를 사용합니다\n",
    "\n",
    "변수 = int(input())\n",
    "변수 = int(input('숫자를 입력하세요.'))\n",
    "\n",
    "점수를 입력해서 평균을 내보고 결과를 볼까요?"
   ]
  },
  {
   "cell_type": "code",
   "execution_count": null,
   "id": "f9f68583-38cb-444e-bd95-5a59e0a23034",
   "metadata": {},
   "outputs": [
    {
     "name": "stdin",
     "output_type": "stream",
     "text": [
      "성적 입력 :  1\n",
      "성적 입력 :  2\n",
      "성적 입력 :  3\n",
      "성적 입력 :  4\n",
      "성적 입력 :  5\n"
     ]
    },
    {
     "name": "stdout",
     "output_type": "stream",
     "text": [
      "평균 : 3.0\n"
     ]
    }
   ],
   "source": [
    "i = 0\n",
    "result = 0\n",
    "while i < 5:\n",
    "    a = input(\"성적 입력 : \")\n",
    "    result += int(a)\n",
    "    i += 1\n",
    " \n",
    " \n",
    "print(f'평균 : {result / 5}')\n",
    " \n"
   ]
  },
  {
   "cell_type": "markdown",
   "id": "4cb5dd0a-503f-4955-8347-8be9db32f4b3",
   "metadata": {},
   "source": [
    "### 4.4.3 출력함수 print()"
   ]
  },
  {
   "cell_type": "markdown",
   "id": "4943ed7f-eb49-452b-99a1-abd8cd7ee6ee",
   "metadata": {},
   "source": [
    "print() 함수 는 메시지를 화면이나 다른 표준 출력 장치에 인쇄합니다.\n",
    "\n",
    "- %포매팅 \n",
    "- str.format\n",
    "- f-string"
   ]
  },
  {
   "cell_type": "markdown",
   "id": "9605049b-99cc-46f3-9f54-4262fd577534",
   "metadata": {},
   "source": [
    "- %포멧"
   ]
  },
  {
   "cell_type": "markdown",
   "id": "dab3a5b2-edc2-4146-b755-3107ea40b3e7",
   "metadata": {},
   "source": [
    "문법은 아래와 같습니다.\n",
    "\n",
    "print(value(s), sep= ' ', end = '\\n', file=file, flush=flush)"
   ]
  },
  {
   "cell_type": "code",
   "execution_count": 1,
   "id": "603be566-04a0-4221-904e-9231b590186f",
   "metadata": {},
   "outputs": [
    {
     "name": "stdout",
     "output_type": "stream",
     "text": [
      "my age 50\n"
     ]
    }
   ],
   "source": [
    "num = 50\n",
    "s = 'my age %d' % num\n",
    " \n",
    "print(s)"
   ]
  },
  {
   "cell_type": "markdown",
   "id": "13427397-518c-49b3-b63d-51960f95d905",
   "metadata": {},
   "source": [
    "- str.format()"
   ]
  },
  {
   "cell_type": "code",
   "execution_count": 14,
   "id": "998588c4-ca13-4265-a332-9152ab2b1290",
   "metadata": {},
   "outputs": [
    {
     "name": "stdout",
     "output_type": "stream",
     "text": [
      "The price is 49 dollars\n"
     ]
    }
   ],
   "source": [
    "price = 49\n",
    "txt = \"The price is {} dollars\"\n",
    "print(txt.format(price))"
   ]
  },
  {
   "cell_type": "code",
   "execution_count": 15,
   "id": "bb3842bb-68f8-45d8-8d3e-18054969959b",
   "metadata": {},
   "outputs": [
    {
     "name": "stdout",
     "output_type": "stream",
     "text": [
      "I want 3 pieces of item number 567 for 49.00 dollars.\n"
     ]
    }
   ],
   "source": [
    "quantity = 3\n",
    "itemno = 567\n",
    "price = 49\n",
    "myorder = \"I want {} pieces of item number {} for {:.2f} dollars.\"\n",
    "print(myorder.format(quantity, itemno, price))"
   ]
  },
  {
   "cell_type": "code",
   "execution_count": 16,
   "id": "e72cb590-660a-4b5e-bcf4-7b83cb7a8c0e",
   "metadata": {},
   "outputs": [
    {
     "name": "stdout",
     "output_type": "stream",
     "text": [
      "I want 3 pieces of item number 567 for 49.00 dollars.\n"
     ]
    }
   ],
   "source": [
    "quantity = 3\n",
    "itemno = 567\n",
    "price = 49\n",
    "myorder = \"I want {0} pieces of item number {1} for {2:.2f} dollars.\"\n",
    "print(myorder.format(quantity, itemno, price))"
   ]
  },
  {
   "cell_type": "markdown",
   "id": "e360007e-70c3-48da-b464-00742c412943",
   "metadata": {},
   "source": [
    "- f'문자열 {변수} 문자열'"
   ]
  },
  {
   "cell_type": "code",
   "execution_count": null,
   "id": "94f0c773-471a-4984-9064-be01956c4c3f",
   "metadata": {},
   "outputs": [],
   "source": [
    "s = 'coffee'\n",
    "n = 5\n",
    "result1 = f'저는 {s}를 좋아합니다. 하루 {n}잔 마셔요.'\n",
    "print(result1)"
   ]
  },
  {
   "cell_type": "code",
   "execution_count": 20,
   "id": "cd219156-1f65-4c7b-a3eb-6068f431dfa1",
   "metadata": {},
   "outputs": [
    {
     "name": "stdout",
     "output_type": "stream",
     "text": [
      "3>>>2>>>1>>>Start\n"
     ]
    }
   ],
   "source": [
    "#카운트다운 응용 프로그램\n",
    "import time\n",
    " \n",
    "count_seconds = 3\n",
    "for i in reversed(range(count_seconds + 1)): #미만\n",
    "    if i > 0:\n",
    "        print(i, end='>>>')\n",
    "        time.sleep(1)\n",
    "    else:\n",
    "        print('Start')"
   ]
  },
  {
   "cell_type": "markdown",
   "id": "c960b42d-8ff5-4438-8046-6d1b1f41536b",
   "metadata": {},
   "source": [
    "### 4.4.5 기본 모듈 사용"
   ]
  },
  {
   "cell_type": "markdown",
   "id": "06bd84b0-d546-42de-a235-7c6222f60cb6",
   "metadata": {},
   "source": [
    "파이썬에는 기본적으로 프로그램에 필요한 기능 모듈(함수)를 제공합니다.\n",
    "\n",
    "아래 예 외에도 수십가지의 모듈이 제공되고 있으며 또 많은 모듈들을 다운받아 설치 할 수 있습니다.\n",
    "\n",
    "PIP를 사용하여 파이썬으로 작성된 패키지를 설치할 수 있습니다. \n",
    "\n",
    "새로운 패키지를 설치하기 위해서는 ‘pip install [패키지명]’을 이용합니다"
   ]
  },
  {
   "cell_type": "code",
   "execution_count": null,
   "id": "a1c6e144-9dd9-4499-8231-7cfb133bc81b",
   "metadata": {},
   "outputs": [],
   "source": [
    "#adb"
   ]
  },
  {
   "cell_type": "code",
   "execution_count": null,
   "id": "8491e475-b1f9-4ded-b5bc-d52680571430",
   "metadata": {},
   "outputs": [],
   "source": [
    "#len"
   ]
  },
  {
   "cell_type": "code",
   "execution_count": 5,
   "id": "ca9efeea-28a9-4750-b20f-3eff31fe1b6f",
   "metadata": {},
   "outputs": [
    {
     "data": {
      "text/plain": [
       "2"
      ]
     },
     "execution_count": 5,
     "metadata": {},
     "output_type": "execute_result"
    }
   ],
   "source": [
    "#min,max\n",
    "\n",
    "min((2,3,4))\n",
    "\n",
    "#max를 해볼까요?"
   ]
  },
  {
   "cell_type": "code",
   "execution_count": 9,
   "id": "0a663ab9-355c-4eed-992d-84914e93d21e",
   "metadata": {},
   "outputs": [
    {
     "data": {
      "text/plain": [
       "[0, 1, 2, 3, 4]"
      ]
     },
     "execution_count": 9,
     "metadata": {},
     "output_type": "execute_result"
    }
   ],
   "source": [
    "#round()\n",
    "\n",
    "# sum()\n",
    "\n",
    "# str()\n",
    "\n",
    "# range()\n",
    "x = list(range(5))\n",
    "x"
   ]
  },
  {
   "cell_type": "code",
   "execution_count": null,
   "id": "0f1bd506-86b0-401b-b320-ca2bf61cf4ce",
   "metadata": {},
   "outputs": [],
   "source": [
    "#pow(x,y)"
   ]
  },
  {
   "cell_type": "code",
   "execution_count": 2,
   "id": "5143e8f9-0bef-4b44-ac1a-0a27989fa1c2",
   "metadata": {},
   "outputs": [
    {
     "data": {
      "text/plain": [
       "9.0"
      ]
     },
     "execution_count": 2,
     "metadata": {},
     "output_type": "execute_result"
    }
   ],
   "source": [
    "import math\n",
    "math.sqrt(81)"
   ]
  },
  {
   "cell_type": "code",
   "execution_count": 3,
   "id": "516c69f9-377d-4445-a0a9-a87f9eb7f166",
   "metadata": {},
   "outputs": [
    {
     "data": {
      "text/plain": [
       "120"
      ]
     },
     "execution_count": 3,
     "metadata": {},
     "output_type": "execute_result"
    }
   ],
   "source": [
    "from math import factorial\n",
    "factorial(5)"
   ]
  }
 ],
 "metadata": {
  "kernelspec": {
   "display_name": "Python 3 (ipykernel)",
   "language": "python",
   "name": "python3"
  },
  "language_info": {
   "codemirror_mode": {
    "name": "ipython",
    "version": 3
   },
   "file_extension": ".py",
   "mimetype": "text/x-python",
   "name": "python",
   "nbconvert_exporter": "python",
   "pygments_lexer": "ipython3",
   "version": "3.9.12"
  }
 },
 "nbformat": 4,
 "nbformat_minor": 5
}
