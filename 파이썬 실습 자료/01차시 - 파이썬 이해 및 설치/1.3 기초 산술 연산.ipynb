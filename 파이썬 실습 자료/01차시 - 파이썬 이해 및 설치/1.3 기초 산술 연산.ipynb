{
 "cells": [
  {
   "cell_type": "markdown",
   "id": "6cae9a09-881a-4a5b-9320-c9ae6ed4a860",
   "metadata": {},
   "source": [
    "### 2월 28일 강의 노트"
   ]
  },
  {
   "cell_type": "markdown",
   "id": "9e34cf8d-e09c-47e1-9a74-3ebdcb05298d",
   "metadata": {},
   "source": [
    "# 첫날 내용...\n",
    "#### 프린트 하기"
   ]
  },
  {
   "cell_type": "code",
   "execution_count": 3,
   "id": "c64771f2-9bfb-4935-80dd-ca4b007056f0",
   "metadata": {},
   "outputs": [
    {
     "data": {
      "text/plain": [
       "2"
      ]
     },
     "execution_count": 3,
     "metadata": {},
     "output_type": "execute_result"
    }
   ],
   "source": [
    "1+1"
   ]
  },
  {
   "cell_type": "code",
   "execution_count": 4,
   "id": "11a3eaf4-d1ee-4df9-b6c9-28d641c123d2",
   "metadata": {},
   "outputs": [
    {
     "data": {
      "text/plain": [
       "3"
      ]
     },
     "execution_count": 4,
     "metadata": {},
     "output_type": "execute_result"
    }
   ],
   "source": [
    "int('3')"
   ]
  },
  {
   "cell_type": "code",
   "execution_count": 5,
   "id": "9ab71e1e-ead6-4591-b0a7-2bebf15b5e44",
   "metadata": {},
   "outputs": [
    {
     "data": {
      "text/plain": [
       "5"
      ]
     },
     "execution_count": 5,
     "metadata": {},
     "output_type": "execute_result"
    }
   ],
   "source": [
    "len('hello')"
   ]
  },
  {
   "cell_type": "code",
   "execution_count": 6,
   "id": "c95a4b9d-27d5-43b9-b3b5-3fdc697a6ae2",
   "metadata": {},
   "outputs": [],
   "source": [
    "from datetime import timedelta"
   ]
  },
  {
   "cell_type": "markdown",
   "id": "497a8723-c4c3-4a1b-83e0-8b03f854f6d5",
   "metadata": {},
   "source": [
    "### 내용 설명..."
   ]
  }
 ],
 "metadata": {
  "kernelspec": {
   "display_name": "Python 3 (ipykernel)",
   "language": "python",
   "name": "python3"
  },
  "language_info": {
   "codemirror_mode": {
    "name": "ipython",
    "version": 3
   },
   "file_extension": ".py",
   "mimetype": "text/x-python",
   "name": "python",
   "nbconvert_exporter": "python",
   "pygments_lexer": "ipython3",
   "version": "3.11.7"
  }
 },
 "nbformat": 4,
 "nbformat_minor": 5
}
