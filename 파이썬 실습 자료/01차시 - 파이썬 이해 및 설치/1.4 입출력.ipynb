{
 "cells": [
  {
   "cell_type": "markdown",
   "id": "292f98e8-6693-4c5f-ae4a-d7efeb4977c9",
   "metadata": {},
   "source": [
    "## 1.2 입출력"
   ]
  },
  {
   "cell_type": "markdown",
   "id": "d23491a2-28d2-46ef-804a-f406c89936af",
   "metadata": {},
   "source": [
    "### 1.2.1 입력 시작"
   ]
  },
  {
   "cell_type": "markdown",
   "id": "1ac15afd-de71-47d1-a162-d9809a9cf286",
   "metadata": {},
   "source": [
    "다음을 입력하고 엔터를 누르면 사용자가 값을 입력하기를 기다립니다."
   ]
  },
  {
   "cell_type": "code",
   "execution_count": 2,
   "id": "8492df0d-bba4-44e9-a391-1187500f6b1b",
   "metadata": {
    "tags": []
   },
   "outputs": [
    {
     "name": "stdin",
     "output_type": "stream",
     "text": [
      "입력하고 엔터: 하이\n"
     ]
    },
    {
     "name": "stdout",
     "output_type": "stream",
     "text": [
      "<class 'str'>\n"
     ]
    }
   ],
   "source": [
    "a = input('입력하고 엔터:')\n",
    "print(type(a))"
   ]
  },
  {
   "cell_type": "code",
   "execution_count": 1,
   "id": "cbb52690-af55-4130-9f61-bde878d81c16",
   "metadata": {},
   "outputs": [
    {
     "name": "stdin",
     "output_type": "stream",
     "text": [
      "무언가를 입력하세요: 하이\n"
     ]
    }
   ],
   "source": [
    "y = input(\"무언가를 입력하세요:\")"
   ]
  },
  {
   "cell_type": "code",
   "execution_count": 6,
   "id": "4362c2fb-c246-40d8-a14e-122f4ba7f5fa",
   "metadata": {},
   "outputs": [
    {
     "name": "stdout",
     "output_type": "stream",
     "text": [
      "5\n"
     ]
    }
   ],
   "source": [
    "l = len('안녕하세요')\n",
    "\n",
    "print(l)"
   ]
  },
  {
   "cell_type": "code",
   "execution_count": 3,
   "id": "a10c3d6d-000c-4ba7-a7f3-d6e80365810c",
   "metadata": {},
   "outputs": [
    {
     "name": "stdout",
     "output_type": "stream",
     "text": [
      "하이\n"
     ]
    }
   ],
   "source": [
    "print('하이')"
   ]
  },
  {
   "cell_type": "markdown",
   "id": "a0811d14-7fc0-48ee-bbeb-c5c9b4fbd48f",
   "metadata": {},
   "source": [
    "결과는 x에 받아서 다음 처리를 합니다. 입력값 데이터 타입을 확인해봅시다."
   ]
  },
  {
   "cell_type": "code",
   "execution_count": 2,
   "id": "9fabb6d7-33ee-40db-a7bc-781e0cdb3704",
   "metadata": {},
   "outputs": [
    {
     "name": "stdout",
     "output_type": "stream",
     "text": [
      "www\n",
      "<class 'str'>\n"
     ]
    }
   ],
   "source": [
    "print(x)\n",
    "print(type(x))"
   ]
  },
  {
   "cell_type": "code",
   "execution_count": 8,
   "id": "33b1cbef-63a9-4b78-8c66-4ddd68c06459",
   "metadata": {},
   "outputs": [
    {
     "name": "stdout",
     "output_type": "stream",
     "text": [
      "<class 'str'>\n"
     ]
    }
   ],
   "source": [
    "print(type('111')) # 정수: int    , 실수: float, 문자열:str"
   ]
  },
  {
   "cell_type": "code",
   "execution_count": 3,
   "id": "0523eae1-57c2-4832-b6bc-8af0a8a04ba6",
   "metadata": {
    "tags": []
   },
   "outputs": [
    {
     "name": "stdin",
     "output_type": "stream",
     "text": [
      "나이를 입력하세요 23\n"
     ]
    },
    {
     "name": "stdout",
     "output_type": "stream",
     "text": [
      "<class 'str'>\n"
     ]
    }
   ],
   "source": [
    "age = input('나이를 입력하세요')\n",
    "\n",
    "print(type(age))"
   ]
  },
  {
   "cell_type": "markdown",
   "id": "f1d3fc02-182b-4462-b2b2-efdf513cd712",
   "metadata": {},
   "source": [
    "input()은 항상 문자열로 값을 받아오기 때문에 필요에 따라 값을 정수,실수로 변환해줘야합니다."
   ]
  },
  {
   "cell_type": "code",
   "execution_count": 4,
   "id": "48a501bf-e374-433f-92e0-e25c062081dc",
   "metadata": {
    "tags": []
   },
   "outputs": [
    {
     "name": "stdin",
     "output_type": "stream",
     "text": [
      "정수 :  33\n"
     ]
    },
    {
     "name": "stdout",
     "output_type": "stream",
     "text": [
      "33 <class 'int'>\n",
      "33 <class 'int'>\n"
     ]
    },
    {
     "name": "stdin",
     "output_type": "stream",
     "text": [
      "실수 :  4.4\n"
     ]
    },
    {
     "name": "stdout",
     "output_type": "stream",
     "text": [
      "4.4 <class 'float'>\n"
     ]
    }
   ],
   "source": [
    "x = int(input('정수 : '))\n",
    "print(x,type(x))\n",
    "x = float(input('실수 : '))\n",
    "print(x,type(x))"
   ]
  },
  {
   "cell_type": "code",
   "execution_count": 4,
   "id": "8dfd5753-9ec8-4cb7-8ce2-a249fc4887fb",
   "metadata": {},
   "outputs": [
    {
     "name": "stdin",
     "output_type": "stream",
     "text": [
      "사용자 입력 :  5\n"
     ]
    },
    {
     "name": "stdout",
     "output_type": "stream",
     "text": [
      "1번째 입력 : 5\n"
     ]
    },
    {
     "name": "stdin",
     "output_type": "stream",
     "text": [
      "사용자 입력 :  1\n"
     ]
    },
    {
     "name": "stdout",
     "output_type": "stream",
     "text": [
      "2번째 입력 : 1\n"
     ]
    },
    {
     "name": "stdin",
     "output_type": "stream",
     "text": [
      "사용자 입력 :  2\n"
     ]
    },
    {
     "name": "stdout",
     "output_type": "stream",
     "text": [
      "3번째 입력 : 2\n"
     ]
    }
   ],
   "source": [
    "i = 0\n",
    " \n",
    "while i < 3:\n",
    "    a = input(\"사용자 입력 : \")\n",
    "    print(f'{i + 1}번째 입력 : {a}')\n",
    "    i += 1\n"
   ]
  },
  {
   "cell_type": "markdown",
   "id": "56ea3e21-feb0-4d6a-b3ad-ce23ed43e3bf",
   "metadata": {},
   "source": [
    "### 1.2.2 input 함수의 활용"
   ]
  },
  {
   "cell_type": "markdown",
   "id": "a6ffe125-3302-4138-9b15-f2fdc31e4d90",
   "metadata": {},
   "source": [
    "input().split()\n",
    "\n",
    "split() 내장함수는 문자열을 특정 구분자로 나누고 싶을 때 사용합니다.\n",
    "\n",
    "가령 split(',')은 쉼표로 구분된 문자열을 나눌 때 사용하면 됩니다.\n",
    "\n",
    "split()은 공백으로 되어있으니 띄어쓰기를 구분할 때 사용됩니다."
   ]
  },
  {
   "cell_type": "code",
   "execution_count": 13,
   "id": "1fa01a49-489e-47d8-8dc5-d43d652c3080",
   "metadata": {},
   "outputs": [
    {
     "name": "stdin",
     "output_type": "stream",
     "text": [
      " asdf asdf\n"
     ]
    },
    {
     "data": {
      "text/plain": [
       "['asdf', 'asdf']"
      ]
     },
     "execution_count": 13,
     "metadata": {},
     "output_type": "execute_result"
    }
   ],
   "source": [
    "str = input().split()\n",
    "str"
   ]
  },
  {
   "cell_type": "code",
   "execution_count": null,
   "id": "32d4d503-d75e-4e30-855a-05f5842299eb",
   "metadata": {},
   "outputs": [],
   "source": []
  },
  {
   "cell_type": "markdown",
   "id": "c6557d81-8f33-4237-b338-c1928b4c97a0",
   "metadata": {},
   "source": [
    "10 + 20의 결과가 30이 나오게 하려면 input에서 입력받은 문자열을 숫자(정수)로 만들어주어야 합니다.\n",
    "방법은 int()라는 함수를 사용합니다\n",
    "\n",
    "변수 = int(input())\n",
    "변수 = int(input('숫자를 입력하세요.'))\n",
    "\n",
    "점수를 입력해서 평균을 내보고 결과를 봅시다."
   ]
  },
  {
   "cell_type": "code",
   "execution_count": 6,
   "id": "f9f68583-38cb-444e-bd95-5a59e0a23034",
   "metadata": {},
   "outputs": [
    {
     "name": "stdin",
     "output_type": "stream",
     "text": [
      "성적 입력 :  3\n",
      "성적 입력 :  3\n",
      "성적 입력 :  3\n",
      "성적 입력 :  3\n",
      "성적 입력 :  3\n"
     ]
    },
    {
     "name": "stdout",
     "output_type": "stream",
     "text": [
      "평균 : 3.0\n"
     ]
    }
   ],
   "source": [
    "i = 0\n",
    "result = 0\n",
    "while i < 5:\n",
    "    a = input(\"성적 입력 : \")\n",
    "    result += int(a)\n",
    "    i += 1\n",
    " \n",
    " \n",
    "print(f'평균 : {result / 5}')"
   ]
  },
  {
   "cell_type": "markdown",
   "id": "4cb5dd0a-503f-4955-8347-8be9db32f4b3",
   "metadata": {},
   "source": [
    "### 1.2.3 출력함수 print()"
   ]
  },
  {
   "cell_type": "markdown",
   "id": "4943ed7f-eb49-452b-99a1-abd8cd7ee6ee",
   "metadata": {},
   "source": [
    "print() 함수 는 메시지를 화면이나 다른 표준 출력 장치에 인쇄합니다.\n",
    "\n",
    "- %포매팅 \n",
    "- str.format\n",
    "- f-string"
   ]
  },
  {
   "cell_type": "markdown",
   "id": "9605049b-99cc-46f3-9f54-4262fd577534",
   "metadata": {},
   "source": [
    "- %포멧"
   ]
  },
  {
   "cell_type": "markdown",
   "id": "dab3a5b2-edc2-4146-b755-3107ea40b3e7",
   "metadata": {},
   "source": [
    "문법은 아래와 같습니다.\n",
    "```python\n",
    "print(value(s), sep= ' ', end = '\\n', file=file, flush=flush)\n",
    "```"
   ]
  },
  {
   "cell_type": "code",
   "execution_count": 9,
   "id": "603be566-04a0-4221-904e-9231b590186f",
   "metadata": {},
   "outputs": [
    {
     "name": "stdout",
     "output_type": "stream",
     "text": [
      "my age 30\n"
     ]
    }
   ],
   "source": [
    "num = 30\n",
    "s = 'my age %d' % num\n",
    " \n",
    "print(s)"
   ]
  },
  {
   "cell_type": "code",
   "execution_count": 10,
   "id": "4c7daa16-ac17-4557-87e3-6d1f889abd01",
   "metadata": {},
   "outputs": [
    {
     "name": "stdout",
     "output_type": "stream",
     "text": [
      "my age  30\n"
     ]
    }
   ],
   "source": [
    "print('my age ',num)"
   ]
  },
  {
   "cell_type": "markdown",
   "id": "13427397-518c-49b3-b63d-51960f95d905",
   "metadata": {},
   "source": [
    "- str.format()"
   ]
  },
  {
   "cell_type": "code",
   "execution_count": 8,
   "id": "998588c4-ca13-4265-a332-9152ab2b1290",
   "metadata": {},
   "outputs": [
    {
     "name": "stdout",
     "output_type": "stream",
     "text": [
      "The price is 55 dollars\n"
     ]
    }
   ],
   "source": [
    "price = 55\n",
    "txt = \"The price is {} dollars\"\n",
    "print(txt.format(price))"
   ]
  },
  {
   "cell_type": "code",
   "execution_count": 9,
   "id": "bb3842bb-68f8-45d8-8d3e-18054969959b",
   "metadata": {},
   "outputs": [
    {
     "name": "stdout",
     "output_type": "stream",
     "text": [
      "I want 3 pieces of item number 567 for 49.00 dollars.\n"
     ]
    }
   ],
   "source": [
    "quantity = 3\n",
    "itemno = 567\n",
    "price = 49\n",
    "myorder = \"I want {} pieces of item number {} for {:.2f} dollars.\"\n",
    "print(myorder.format(quantity, itemno, price))"
   ]
  },
  {
   "cell_type": "code",
   "execution_count": 10,
   "id": "e72cb590-660a-4b5e-bcf4-7b83cb7a8c0e",
   "metadata": {},
   "outputs": [
    {
     "name": "stdout",
     "output_type": "stream",
     "text": [
      "I want 3 pieces of item number 567 for 49.00 dollars.\n"
     ]
    }
   ],
   "source": [
    "quantity = 3\n",
    "itemno = 567\n",
    "price = 49\n",
    "myorder = \"I want {0} pieces of item number {1} for {2:.2f} dollars.\"\n",
    "print(myorder.format(quantity, itemno, price))"
   ]
  },
  {
   "cell_type": "markdown",
   "id": "e360007e-70c3-48da-b464-00742c412943",
   "metadata": {},
   "source": [
    "- f'문자열 {변수} 문자열'"
   ]
  },
  {
   "cell_type": "code",
   "execution_count": 11,
   "id": "94f0c773-471a-4984-9064-be01956c4c3f",
   "metadata": {},
   "outputs": [
    {
     "name": "stdout",
     "output_type": "stream",
     "text": [
      "저는 coffee를 좋아합니다. 하루 5잔 마셔요.\n"
     ]
    }
   ],
   "source": [
    "s = 'coffee'\n",
    "n = 5\n",
    "result1 = f'저는 {s}를 좋아합니다. 하루 {n}잔 마셔요.'\n",
    "print(result1)"
   ]
  },
  {
   "cell_type": "markdown",
   "id": "70bbb51a-12ce-4f99-8d41-f90c2f52708d",
   "metadata": {},
   "source": [
    "### 1.2.4 예제"
   ]
  },
  {
   "cell_type": "code",
   "execution_count": 14,
   "id": "6dc0ce88-a3aa-452f-9895-74ad52758bf6",
   "metadata": {},
   "outputs": [
    {
     "data": {
      "text/plain": [
       "'1 + 2는 3입니다.'"
      ]
     },
     "execution_count": 14,
     "metadata": {},
     "output_type": "execute_result"
    }
   ],
   "source": [
    "x = 1\n",
    "y = 2\n",
    "f\"{x} + {y}는 {x + y}입니다.\""
   ]
  },
  {
   "cell_type": "code",
   "execution_count": 16,
   "id": "38e3e8f0-ff16-414d-be0c-20659a5b72cb",
   "metadata": {},
   "outputs": [
    {
     "data": {
      "text/plain": [
       "'Python의 첫 두 글자는 Py 입니다.'"
      ]
     },
     "execution_count": 16,
     "metadata": {},
     "output_type": "execute_result"
    }
   ],
   "source": [
    "word = \"Python\"\n",
    "f\"{word}의 첫 두 글자는 {word[:2]} 입니다.\""
   ]
  },
  {
   "cell_type": "code",
   "execution_count": 17,
   "id": "92e881f4-0cbd-4406-ae6e-3e72cae6505d",
   "metadata": {},
   "outputs": [
    {
     "data": {
      "text/plain": [
       "'Python를 거꾸로 하면 nohtyP 입니다.'"
      ]
     },
     "execution_count": 17,
     "metadata": {},
     "output_type": "execute_result"
    }
   ],
   "source": [
    "word = \"Python\"\n",
    "f\"{word}를 거꾸로 하면 {word[::-1]} 입니다.\""
   ]
  },
  {
   "cell_type": "code",
   "execution_count": 18,
   "id": "10db82f7-0b2d-4f9c-b7d2-d38b72aa10ba",
   "metadata": {},
   "outputs": [
    {
     "data": {
      "text/plain": [
       "'3회 반복: Python,Python,Python'"
      ]
     },
     "execution_count": 18,
     "metadata": {},
     "output_type": "execute_result"
    }
   ],
   "source": [
    "f\"3회 반복: {','.join([word] * 3)}\""
   ]
  },
  {
   "cell_type": "code",
   "execution_count": 5,
   "id": "7c7d505e-8601-4fc1-87a5-a0ff47e16ee9",
   "metadata": {
    "tags": []
   },
   "outputs": [
    {
     "name": "stdout",
     "output_type": "stream",
     "text": [
      "a는 1보다 크다\n"
     ]
    }
   ],
   "source": [
    "a = 3\n",
    "if a > 1:\n",
    "    print('a는 1보다 크다')"
   ]
  },
  {
   "cell_type": "markdown",
   "id": "b0449eca-720c-4aae-8342-d4b4aa3a05f9",
   "metadata": {},
   "source": [
    "# 미션\n",
    "# 나이를 입력받고 성인이면 성인이니다. 라고 프린트하세요."
   ]
  },
  {
   "cell_type": "code",
   "execution_count": 8,
   "id": "edd8229e-f301-46e1-bd25-33c7a4bba71d",
   "metadata": {
    "tags": []
   },
   "outputs": [
    {
     "name": "stdin",
     "output_type": "stream",
     "text": [
      "나이를 입력 해주세요. 34\n"
     ]
    },
    {
     "name": "stdout",
     "output_type": "stream",
     "text": [
      "34 <class 'str'>\n",
      "성인입니다.\n"
     ]
    }
   ],
   "source": [
    "age = input(\"나이를 입력 해주세요.\")\n",
    "\n",
    "print(age,type(age)) \n",
    "age = int(age)\n",
    "\n",
    "if age > 20:\n",
    "    print(\"성인입니다.\")"
   ]
  },
  {
   "cell_type": "code",
   "execution_count": 15,
   "id": "302ce111-eaa6-4ecd-a48d-64bb4bf8afcb",
   "metadata": {
    "tags": []
   },
   "outputs": [
    {
     "name": "stdout",
     "output_type": "stream",
     "text": [
      "<class 'module'>\n",
      "1 <class 'int'>\n"
     ]
    },
    {
     "name": "stdin",
     "output_type": "stream",
     "text": [
      "1에서 3사이의 숫자를 선택하세요: 1\n"
     ]
    },
    {
     "name": "stdout",
     "output_type": "stream",
     "text": [
      "1 <class 'int'>\n",
      "유 윈\n"
     ]
    }
   ],
   "source": [
    "import random as r\n",
    "\n",
    "#r.random()\n",
    "print(type(r))\n",
    "\n",
    "i = r.randrange(1,4)\n",
    "\n",
    "print(i,type(i))\n",
    "\n",
    "p = input('1에서 3사이의 숫자를 선택하세요:')\n",
    "p = int(p)\n",
    "#p = int(input('1에서 3사이의 숫자를 선택하세요:'))\n",
    "\n",
    "print(p,type(p))\n",
    "\n",
    "if i == p :\n",
    "    print('유 윈')"
   ]
  },
  {
   "cell_type": "code",
   "execution_count": 17,
   "id": "9e54ae7b-1a06-4c8f-945f-e5720e3b3eb5",
   "metadata": {
    "tags": []
   },
   "outputs": [
    {
     "name": "stdin",
     "output_type": "stream",
     "text": [
      "숫자를 입력하세요:  3\n"
     ]
    }
   ],
   "source": [
    "number = int(input(\"숫자를 입력하세요: \")) #숫자 입력\n",
    "\n",
    "eo = number % 2 # = 대입연산자, 오른쪽 정보를 위쪽 변수에 넣는다...\n",
    "\n",
    "if eo == 0: #짝수 판독기 == 같냐... 비교연산자...\n",
    "    print(\"짝수입니다.\")"
   ]
  },
  {
   "cell_type": "code",
   "execution_count": null,
   "id": "5509ea6a-5f96-48fd-a2c1-5dce124e8890",
   "metadata": {},
   "outputs": [],
   "source": [
    "resi_num = input('주민등록번호를 입력하세요.(\\'-\\'는 생략) :')\n",
    "gen = resi_num[6]\n",
    "\n",
    "if gen == '1' or gen == '3':\n",
    "    print('남성입니다.')"
   ]
  },
  {
   "cell_type": "code",
   "execution_count": 22,
   "id": "d041f02e-ce2f-4493-b79e-cc0ed8d70894",
   "metadata": {
    "tags": []
   },
   "outputs": [
    {
     "name": "stdout",
     "output_type": "stream",
     "text": [
      "['800105', '2648812']\n",
      "800105 2648812\n"
     ]
    }
   ],
   "source": [
    "person_number = '800105-2648812'\n",
    "\n",
    "ssn = person_number.split('-') # '-' 기준으로 나눈다.\n",
    "\n",
    "print(ssn)\n",
    "\n",
    "print(ssn[0], ssn[1])  #ssn[0]과 ssn[1] 나누어 진다."
   ]
  },
  {
   "cell_type": "code",
   "execution_count": 6,
   "id": "0c9d2a0b-2efd-4323-a00e-1d76caa3b523",
   "metadata": {
    "tags": []
   },
   "outputs": [
    {
     "name": "stdout",
     "output_type": "stream",
     "text": [
      "2024:01:05\n"
     ]
    }
   ],
   "source": [
    "\n",
    "date = '24/01/05'\n",
    "\n",
    "def change_form(date):\n",
    "    date = '20' + date.replace('/',':')\n",
    "    return date\n",
    "    #print(date)\n",
    "\n",
    "new_date = change_form(date)\n",
    "\n",
    "print(new_date)"
   ]
  },
  {
   "cell_type": "code",
   "execution_count": 10,
   "id": "005dd8ca-7598-4a70-b48f-2f601b6a21c5",
   "metadata": {
    "tags": []
   },
   "outputs": [
    {
     "name": "stdout",
     "output_type": "stream",
     "text": [
      "<class 'str'> 24/01/05\n",
      "2024:01:05\n"
     ]
    }
   ],
   "source": [
    "date = '24/01/05'\n",
    "\n",
    "def change_form(date):\n",
    "    splited_date = date.split('/')\n",
    "    print(type(date),date)\n",
    "    new_form = '20'+ splited_date[0] + ':' + splited_date[1] + ':' + splited_date[2]\n",
    "    return new_form\n",
    "    \n",
    "\n",
    "new_date = change_form(date)\n",
    "\n",
    "print(new_date)"
   ]
  }
 ],
 "metadata": {
  "kernelspec": {
   "display_name": "Python 3 (ipykernel)",
   "language": "python",
   "name": "python3"
  },
  "language_info": {
   "codemirror_mode": {
    "name": "ipython",
    "version": 3
   },
   "file_extension": ".py",
   "mimetype": "text/x-python",
   "name": "python",
   "nbconvert_exporter": "python",
   "pygments_lexer": "ipython3",
   "version": "3.11.7"
  }
 },
 "nbformat": 4,
 "nbformat_minor": 5
}
