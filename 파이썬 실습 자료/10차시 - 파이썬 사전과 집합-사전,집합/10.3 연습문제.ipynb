{
 "cells": [
  {
   "cell_type": "code",
   "execution_count": 1,
   "id": "888d2817-b296-4d90-a7f8-2ada34ff8f8f",
   "metadata": {},
   "outputs": [
    {
     "name": "stdout",
     "output_type": "stream",
     "text": [
      "[0, 2, 4, 6, 8]\n"
     ]
    }
   ],
   "source": [
    "def is_even(x):\n",
    "    return x % 2 == 0\n",
    "\n",
    "result1=list(filter(is_even,range(10)))\n",
    "print(result1)\n"
   ]
  },
  {
   "cell_type": "code",
   "execution_count": null,
   "id": "1c7f7737-2f05-4986-8e8c-03cb2a460bcf",
   "metadata": {},
   "outputs": [],
   "source": []
  },
  {
   "cell_type": "markdown",
   "id": "9a3af8f2-37f2-4771-aac9-a593bfeb29b4",
   "metadata": {},
   "source": [
    "람다버전"
   ]
  },
  {
   "cell_type": "code",
   "execution_count": null,
   "id": "dbd5e2d4-31cc-4bcb-87ee-c0814f41f628",
   "metadata": {},
   "outputs": [],
   "source": [
    "result2=list(filter((lambda x:x%2==0),range(10)))\n",
    "print(result2)\n"
   ]
  },
  {
   "cell_type": "markdown",
   "id": "213d85fd-0556-4bba-bb77-0ba61362e17d",
   "metadata": {},
   "source": [
    "### 돌발 문제"
   ]
  },
  {
   "cell_type": "code",
   "execution_count": 19,
   "id": "273de948-3426-40fa-baf8-bd250ed899aa",
   "metadata": {},
   "outputs": [
    {
     "name": "stdout",
     "output_type": "stream",
     "text": [
      "평균은 92.375\n"
     ]
    }
   ],
   "source": [
    "score = [88, 95, 70, 100, 99,88,100,99]\n",
    "total_sum = 0\n",
    "#for no, s in enumerate(score, 1):\n",
    "for s in score:    \n",
    "    #print(f\"{no}번 학생의 성적 : {s}\")\n",
    "    total_sum +=s\n",
    "    \n",
    "avg = total_sum/len(score)\n",
    "\n",
    "print(f'평균은 {avg}')\n",
    "\n"
   ]
  },
  {
   "cell_type": "code",
   "execution_count": 16,
   "id": "16bd81be-69ee-4c78-a72b-6dc1ad8c6f95",
   "metadata": {},
   "outputs": [
    {
     "name": "stdout",
     "output_type": "stream",
     "text": [
      "1번 학생의 성적 : 88\n",
      "2번 학생의 성적 : 95\n",
      "3번 학생의 성적 : 70\n",
      "4번 학생의 성적 : 100\n",
      "5번 학생의 성적 : 99\n",
      "90.4\n",
      "학생의평균 : 90.4\n"
     ]
    }
   ],
   "source": [
    "score = [88, 95, 70, 100, 99]\n",
    "\n",
    "#for no, s in enumerate(score, 1):\n",
    "#    print(f\"{no}번 학생의 성적 : {s}\")\n",
    "    \n",
    "total = sum(score)\n",
    "average = total/len(score)\n",
    "\n",
    "print(\"학생의평균 :\", average)"
   ]
  },
  {
   "cell_type": "markdown",
   "id": "f0e41d79-c869-4196-a041-c6200f2b3426",
   "metadata": {},
   "source": [
    "sum(iterable)\n",
    "\n",
    "인자(parameter): iterable한 자료형을 받으며 numeric 해야합니다. \n",
    "즉, 리스트나 튜플 처럼 인덱스 순환 접근이 가능한 자료형이고 내부에 숫자로만 이루어져 있어야합니다. \n",
    "여기서 숫자는 정수, 실수 둘다 가능입니다\n",
    "\n",
    "반환형(리턴값) : 인자로 들어온 iterable 내부 모든 요소의 합"
   ]
  },
  {
   "cell_type": "markdown",
   "id": "c685e1b7-a3cb-4f76-b80d-2bb91f20e039",
   "metadata": {},
   "source": [
    "### 문제 1"
   ]
  },
  {
   "cell_type": "code",
   "execution_count": 2,
   "id": "ac7587a4-635c-4ce5-9996-9acac86cd802",
   "metadata": {},
   "outputs": [
    {
     "name": "stdout",
     "output_type": "stream",
     "text": [
      "<class 'dict_values'>\n",
      " 홍길동의 평균 점수는 70.0점 입니다\n"
     ]
    }
   ],
   "source": [
    "score={'국어' : 80, '영어' : 75, '수학' : 55}\n",
    "\n",
    "b=score.values()\n",
    "\n",
    "print(type(b))\n",
    "print(f' 홍길동의 평균 점수는 {sum(b)/len(b)}점 입니다')"
   ]
  },
  {
   "cell_type": "code",
   "execution_count": null,
   "id": "ead4eeaa-4561-488c-82dc-865d641fc9ba",
   "metadata": {},
   "outputs": [],
   "source": [
    "dic = {'국어' : 80, '영어' : 75, '수학' : 55}\n",
    "sum_ = 0\n",
    "\n",
    "for key in dic.keys():\n",
    "    sum_ += dic[key]\n",
    "    \n",
    "print(f\"홍길동 씨의 평균 점수는 : {sum_ / len(dic)}\")"
   ]
  },
  {
   "cell_type": "markdown",
   "id": "42bf0bc8-1457-4ce1-bfbb-4af618fb7915",
   "metadata": {},
   "source": [
    "### 문제 2"
   ]
  },
  {
   "cell_type": "code",
   "execution_count": 3,
   "id": "6ff68310-5a65-4be6-bc75-d086127db25d",
   "metadata": {},
   "outputs": [
    {
     "name": "stdout",
     "output_type": "stream",
     "text": [
      "odd\n"
     ]
    }
   ],
   "source": [
    "if 13%2==1:\n",
    "    print(\"odd\")\n",
    "else:\n",
    "    print(\"evne\")"
   ]
  },
  {
   "cell_type": "markdown",
   "id": "f193c857-6ed3-447c-9329-351b696a8c04",
   "metadata": {},
   "source": [
    "### 문제 3"
   ]
  },
  {
   "cell_type": "code",
   "execution_count": 4,
   "id": "72295100-ce97-427f-aa8f-b3ba79ffff36",
   "metadata": {},
   "outputs": [
    {
     "name": "stdout",
     "output_type": "stream",
     "text": [
      " 생년월일은 19881120 입니다\n",
      " 주민번호 뒷자리는 1068234 입니다\n"
     ]
    }
   ],
   "source": [
    "pin = '881120-1068234'\n",
    "\n",
    "yyyymmdd = '19' + pin[:6]\n",
    "\n",
    "print(f\" 생년월일은 {yyyymmdd} 입니다\") \n",
    "\n",
    "num=pin[-7:]\n",
    "\n",
    "print(f' 주민번호 뒷자리는 {num} 입니다')"
   ]
  },
  {
   "cell_type": "code",
   "execution_count": 5,
   "id": "3a101660-835e-4422-817e-dff8026f2d4b",
   "metadata": {},
   "outputs": [
    {
     "name": "stdout",
     "output_type": "stream",
     "text": [
      "881120\n",
      "1068234\n"
     ]
    }
   ],
   "source": [
    "pin = \"881120-1068234\"\n",
    "yyyymmdd = pin[0:6]\n",
    "num = pin[7:]\n",
    "print(yyyymmdd)\n",
    "print(num)"
   ]
  },
  {
   "cell_type": "code",
   "execution_count": 7,
   "id": "232b1d65-70f4-4eab-92f9-e22536569eb9",
   "metadata": {},
   "outputs": [
    {
     "name": "stdout",
     "output_type": "stream",
     "text": [
      "8811120\n",
      "1068234\n"
     ]
    }
   ],
   "source": [
    "pin = \"8811120-1068234\"\n",
    "\n",
    "birth = pin.split('-')[0]\n",
    "print(birth)\n",
    "#print(pin.split('-'))\n",
    "\n",
    "id = pin.split('-')[1]\n",
    "print(id)\n"
   ]
  },
  {
   "cell_type": "markdown",
   "id": "764067b3-1625-4385-9fc1-279125ce4e2b",
   "metadata": {},
   "source": [
    "### 문제 4"
   ]
  },
  {
   "cell_type": "code",
   "execution_count": 9,
   "id": "8e71bc83-52d4-40f8-94a7-7f87c7508b38",
   "metadata": {},
   "outputs": [
    {
     "name": "stdout",
     "output_type": "stream",
     "text": [
      "male\n"
     ]
    }
   ],
   "source": [
    "\n",
    "if id[0]=='1' or id[0]=='3' :\n",
    "    print('male')\n",
    "else:\n",
    "    print('female')"
   ]
  },
  {
   "cell_type": "markdown",
   "id": "2615052c-d45d-45f4-9e12-7eb8cf016877",
   "metadata": {},
   "source": [
    "### 문제 5"
   ]
  },
  {
   "cell_type": "code",
   "execution_count": 10,
   "id": "a429e66d-be8b-4253-968f-2c3b65daf0a2",
   "metadata": {},
   "outputs": [
    {
     "name": "stdout",
     "output_type": "stream",
     "text": [
      "<class 'str'>\n"
     ]
    }
   ],
   "source": [
    "a = \"a:b:c:d\"\n",
    "\n",
    "print(type(a))"
   ]
  },
  {
   "cell_type": "code",
   "execution_count": 13,
   "id": "cffa9bbb-abfb-4f67-a0ee-b648ec2c0c98",
   "metadata": {},
   "outputs": [
    {
     "name": "stdout",
     "output_type": "stream",
     "text": [
      "a#b#c#d\n"
     ]
    }
   ],
   "source": [
    "b = a.replace(':','#')\n",
    "\n",
    "print(b)"
   ]
  },
  {
   "cell_type": "markdown",
   "id": "9fb3b98b-2e11-4f80-a7fa-52e3fa8fe998",
   "metadata": {},
   "source": [
    "### 문제 6"
   ]
  },
  {
   "cell_type": "code",
   "execution_count": 3,
   "id": "fdcb449f-24c0-4fac-ac3e-60a5c290f60c",
   "metadata": {},
   "outputs": [
    {
     "name": "stdout",
     "output_type": "stream",
     "text": [
      "[2, 4, 5, 3, 1]\n",
      "[1, 2, 3, 4, 5]\n",
      "[5, 4, 3, 2, 1]\n"
     ]
    }
   ],
   "source": [
    "a = [1,3,5,4,2]\n",
    "\n",
    "a.reverse()\n",
    "\n",
    "print(a)\n",
    "\n",
    "a.sort() ##a가 변한다...\n",
    "\n",
    "print(a)\n",
    "\n",
    "a.reverse() ## 혼돈하지말라.... 순서를 바꾸는 거다...\n",
    "\n",
    "print(a)"
   ]
  },
  {
   "cell_type": "markdown",
   "id": "4681c203-27b1-4d32-bab2-45fe1dc8d1f1",
   "metadata": {},
   "source": [
    "### 문제 7"
   ]
  },
  {
   "cell_type": "code",
   "execution_count": 5,
   "id": "186cef0a-0fc6-4ad7-8f57-ddbe816485ba",
   "metadata": {},
   "outputs": [
    {
     "name": "stdout",
     "output_type": "stream",
     "text": [
      "Youth is too short\n"
     ]
    }
   ],
   "source": [
    "a = ['Youth','is','too','short']\n",
    "s = \" \".join(a)\n",
    "\n",
    "print(s)\n"
   ]
  },
  {
   "cell_type": "markdown",
   "id": "986f9905-961c-4ffa-b452-12bec57dceea",
   "metadata": {},
   "source": [
    "### 문제 8"
   ]
  },
  {
   "cell_type": "code",
   "execution_count": 8,
   "id": "061c48b3-fb5a-499e-9d99-7cd7815ab576",
   "metadata": {},
   "outputs": [
    {
     "name": "stdout",
     "output_type": "stream",
     "text": [
      "(1, 2, 3, 4)\n"
     ]
    }
   ],
   "source": [
    "a = (1,2,3)\n",
    "\n",
    "b = a + (4,)   ### a를 새로 만들어서 대입시킬수 있다...?    있다...\n",
    "\n",
    "print(b)"
   ]
  },
  {
   "cell_type": "markdown",
   "id": "890d24f7-de67-4794-8374-50bf97a587da",
   "metadata": {},
   "source": [
    "### 문제 9"
   ]
  },
  {
   "cell_type": "code",
   "execution_count": 11,
   "id": "351db377-64c0-40fe-a0ad-6ee3a252005a",
   "metadata": {},
   "outputs": [
    {
     "name": "stdout",
     "output_type": "stream",
     "text": [
      "{}\n"
     ]
    }
   ],
   "source": [
    "a = {} ## dict()\n",
    "\n",
    "print(a)"
   ]
  },
  {
   "cell_type": "code",
   "execution_count": 13,
   "id": "461ab6e4-92a4-4f63-855d-062ddef41784",
   "metadata": {},
   "outputs": [
    {
     "name": "stdout",
     "output_type": "stream",
     "text": [
      "{'name': 'python'}\n"
     ]
    }
   ],
   "source": [
    "a['name'] = 'python'\n",
    "print(a)"
   ]
  },
  {
   "cell_type": "code",
   "execution_count": 14,
   "id": "6214704d-c77d-469e-8bb0-21477d073c3d",
   "metadata": {},
   "outputs": [
    {
     "name": "stdout",
     "output_type": "stream",
     "text": [
      "{'name': 'python', 'a': 'python'}\n"
     ]
    }
   ],
   "source": [
    "a[('a')] = 'python'\n",
    "print(a)"
   ]
  },
  {
   "cell_type": "code",
   "execution_count": 15,
   "id": "ee5a289f-1448-49c0-a5c4-c583b56c3617",
   "metadata": {},
   "outputs": [
    {
     "ename": "TypeError",
     "evalue": "unhashable type: 'list'",
     "output_type": "error",
     "traceback": [
      "\u001b[1;31m---------------------------------------------------------------------------\u001b[0m",
      "\u001b[1;31mTypeError\u001b[0m                                 Traceback (most recent call last)",
      "\u001b[1;32m~\\AppData\\Local\\Temp\\ipykernel_16972\\2081131516.py\u001b[0m in \u001b[0;36m<module>\u001b[1;34m\u001b[0m\n\u001b[1;32m----> 1\u001b[1;33m \u001b[0ma\u001b[0m\u001b[1;33m[\u001b[0m\u001b[1;33m[\u001b[0m\u001b[1;36m1\u001b[0m\u001b[1;33m]\u001b[0m\u001b[1;33m]\u001b[0m \u001b[1;33m=\u001b[0m \u001b[1;34m'python'\u001b[0m\u001b[1;33m\u001b[0m\u001b[1;33m\u001b[0m\u001b[0m\n\u001b[0m\u001b[0;32m      2\u001b[0m \u001b[0mprint\u001b[0m\u001b[1;33m(\u001b[0m\u001b[0ma\u001b[0m\u001b[1;33m)\u001b[0m\u001b[1;33m\u001b[0m\u001b[1;33m\u001b[0m\u001b[0m\n",
      "\u001b[1;31mTypeError\u001b[0m: unhashable type: 'list'"
     ]
    }
   ],
   "source": [
    "a[[1]] = 'python'  ### 딕셔너리의 키로 리스트를 사용하면 안되요...\n",
    "print(a)"
   ]
  },
  {
   "cell_type": "code",
   "execution_count": 16,
   "id": "c3be3b6f-28b4-4f5e-87f6-a8d74384e9c2",
   "metadata": {},
   "outputs": [
    {
     "name": "stdout",
     "output_type": "stream",
     "text": [
      "{'name': 'python', 'a': 'python', 250: 'python'}\n"
     ]
    }
   ],
   "source": [
    "a[250] = 'python'\n",
    "print(a)"
   ]
  },
  {
   "cell_type": "markdown",
   "id": "7cc70cb6-f166-42f1-aa28-8f0363d61cdd",
   "metadata": {},
   "source": [
    "### 문제 10"
   ]
  },
  {
   "cell_type": "code",
   "execution_count": 18,
   "id": "275d2eea-6ed9-43bf-b06c-725a30a58e94",
   "metadata": {},
   "outputs": [
    {
     "name": "stdout",
     "output_type": "stream",
     "text": [
      "{'A': 90, 'C': 70}\n",
      "80\n"
     ]
    }
   ],
   "source": [
    "a = {'A':90,'B':80,'C':70}\n",
    "\n",
    "result = a.pop('B') # a['B']\n",
    "\n",
    "print(a)\n",
    "print(result)"
   ]
  },
  {
   "cell_type": "markdown",
   "id": "def44bb5-8ad8-443e-86ce-ace85df38de2",
   "metadata": {},
   "source": [
    "### 문제 11"
   ]
  },
  {
   "cell_type": "code",
   "execution_count": 21,
   "id": "4e234826-37af-48f0-b922-fd6ad4075860",
   "metadata": {},
   "outputs": [
    {
     "name": "stdout",
     "output_type": "stream",
     "text": [
      "{1, 2, 3, 4, 5}\n",
      "[1, 2, 3, 4, 5]\n"
     ]
    }
   ],
   "source": [
    "a = [1,1,1,2,2,4,5,4,3,5,5]\n",
    "\n",
    "aSet = set(a)\n",
    "\n",
    "print(aSet)\n",
    "\n",
    "a = list(aSet)\n",
    "\n",
    "print(a)"
   ]
  },
  {
   "cell_type": "markdown",
   "id": "1fc0a475-89f4-43e9-813e-da4e9e5a36b2",
   "metadata": {},
   "source": [
    "### 문제 12"
   ]
  },
  {
   "cell_type": "code",
   "execution_count": 25,
   "id": "4ee48909-4d42-4ddd-9aab-a69d401466a0",
   "metadata": {},
   "outputs": [
    {
     "name": "stdout",
     "output_type": "stream",
     "text": [
      "[1, 2, 3]\n",
      "[1, 2, 3]\n",
      "same\n",
      "[1, 4, 3]\n",
      "[1, 4, 3]\n"
     ]
    }
   ],
   "source": [
    "a = b = [1,2,3]\n",
    "\n",
    "print(a)\n",
    "print(b)\n",
    "\n",
    "if a is b:\n",
    "    print('same')\n",
    "    \n",
    "a[1] = 4\n",
    "\n",
    "print(a)\n",
    "print(b)"
   ]
  },
  {
   "cell_type": "markdown",
   "id": "7894ca7f-fec0-4e2f-a426-d505a2bdd81f",
   "metadata": {},
   "source": []
  }
 ],
 "metadata": {
  "kernelspec": {
   "display_name": "Python 3 (ipykernel)",
   "language": "python",
   "name": "python3"
  },
  "language_info": {
   "codemirror_mode": {
    "name": "ipython",
    "version": 3
   },
   "file_extension": ".py",
   "mimetype": "text/x-python",
   "name": "python",
   "nbconvert_exporter": "python",
   "pygments_lexer": "ipython3",
   "version": "3.9.13"
  }
 },
 "nbformat": 4,
 "nbformat_minor": 5
}
