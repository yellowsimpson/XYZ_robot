{
 "cells": [
  {
   "cell_type": "markdown",
   "id": "ca1b3d6a-b1fb-4771-b4af-6feec42c2209",
   "metadata": {},
   "source": [
    "## 10.2 집합(SET)"
   ]
  },
  {
   "cell_type": "markdown",
   "id": "bcf4a4fd-ab2b-4db5-84f2-b62e5103e062",
   "metadata": {},
   "source": [
    "### 10.2.1 집합 시작하기"
   ]
  },
  {
   "cell_type": "markdown",
   "id": "297a9394-858c-40be-8738-e817d8032ebb",
   "metadata": {},
   "source": [
    "중복 항목은 허용되지 않습니다. 항목이 여러 번 나타나는 경우 세트에서 하나만 인식됩니다.\n",
    "\n",
    "세트의 항목은 순서가 없습니다. 세트의 순서는 사용할 때마다 바뀝니다.\n",
    "\n",
    "세트가 생성되면 세트의 항목 값을 수정/변경할 수 없습니다."
   ]
  },
  {
   "cell_type": "code",
   "execution_count": 12,
   "id": "a063fda7-d90e-4274-bb70-9b51bd70a179",
   "metadata": {
    "tags": []
   },
   "outputs": [
    {
     "name": "stdout",
     "output_type": "stream",
     "text": [
      "<class 'set'>\n"
     ]
    }
   ],
   "source": [
    "#집합의 선언\n",
    "\n",
    "sets = set()\n",
    "\n",
    "print(type(sets))"
   ]
  },
  {
   "cell_type": "markdown",
   "id": "bd0003e4-4080-4f30-96bb-d72f0a282b47",
   "metadata": {
    "tags": []
   },
   "source": [
    "### 26.3.1  세트에 요소 추가하기\n",
    "add(요소)는 세트에 요소를 추가합니다.\n",
    "\n",
    "a = {1, 2, 3, 4}\n",
    "\n",
    "a.add(5)\n",
    "\n",
    "{1, 2, 3, 4, 5}\n"
   ]
  },
  {
   "cell_type": "code",
   "execution_count": 3,
   "id": "0be915a5-3b36-4bc6-9c45-69575bae3786",
   "metadata": {
    "tags": []
   },
   "outputs": [
    {
     "name": "stdout",
     "output_type": "stream",
     "text": [
      "{1, 2, 3, 4}\n"
     ]
    }
   ],
   "source": [
    "a = {1, 2, 3, 4}\n",
    "a.add(1)\n",
    "print(a)"
   ]
  },
  {
   "cell_type": "markdown",
   "id": "1007317b-ab6a-4ba2-aa07-6c67a246ddc1",
   "metadata": {},
   "source": [
    "### 세트에서 특정 요소를 삭제하기\n",
    "remove(요소)는 세트에서 특정 요소를 삭제하고 요소가 없으면 에러를 발생시킵니다.\n",
    "\n",
    "a.remove(3)\n",
    "\n",
    "{1, 2, 4, 5}\n",
    "\n",
    "discard(요소)는 세트에서 특정 요소를 삭제하고 요소가 없으면 그냥 넘어갑니다. \n",
    "다음은 세트 a에 2가 있으므로 2를 삭제하고, 3은 없으므로 그냥 넘어갑니다.\n",
    "\n",
    "a.discard(2)\n",
    "\n",
    "{1, 4, 5}\n",
    "a.discard(3)\n",
    "a\n",
    "{1, 4, 5}\n"
   ]
  },
  {
   "cell_type": "markdown",
   "id": "6bb332e7-1a7d-4ba0-bada-51816b93e53e",
   "metadata": {
    "tags": []
   },
   "source": [
    "### 세트에서 임의의 요소 삭제하기\n",
    "pop()은 세트에서 임의의 요소를 삭제하고 해당 요소를 반환합니다. 만약 요소가 없으면 에러를 발생시킵니다.\n",
    "\n",
    "a = {1, 2, 3, 4}\n",
    "\n",
    "a.pop()\n",
    "\n",
    "1\n",
    "\n",
    "a\n",
    "\n",
    "{2, 3, 4}\n",
    "\n",
    "\n"
   ]
  },
  {
   "cell_type": "markdown",
   "id": "e7ce8aed-bb83-4c6a-ba69-464d89ef74fb",
   "metadata": {
    "tags": []
   },
   "source": [
    "### 세트의 모든 요소를 삭제하기\n",
    "clear()는 세트에서 모든 요소를 삭제합니다.\n",
    "\n",
    "a.clear()\n"
   ]
  },
  {
   "cell_type": "markdown",
   "id": "1fd006b3-d833-45e4-854d-d296f7c5d865",
   "metadata": {},
   "source": [
    "### 세트의 요소 개수 구하기\n",
    "지금까지 리스트, 튜플, 문자열, range, 딕셔너리의 요소 개수를 구할 때 len 함수를 사용했죠?\n",
    "\n",
    "마찬가지로 len(세트)는 세트의 요소 개수(길이)를 구합니다.\n",
    "\n",
    ">>> a = {1, 2, 3, 4}\n",
    ">>> len(a)\n",
    "4"
   ]
  },
  {
   "cell_type": "markdown",
   "id": "037056b9-90c1-4b57-8843-7797f3342665",
   "metadata": {},
   "source": [
    "### Python에서 집합의 항목에 액세스하는 방법"
   ]
  },
  {
   "cell_type": "code",
   "execution_count": 2,
   "id": "bf6459bb-f475-4070-b7a2-ba362e99f8fb",
   "metadata": {},
   "outputs": [
    {
     "name": "stdout",
     "output_type": "stream",
     "text": [
      "Doe\n",
      "Jane\n",
      "John\n"
     ]
    }
   ],
   "source": [
    "nameSet = {\"John\", \"Jane\", \"Doe\"}\n",
    "\n",
    "for names in nameSet:\n",
    "    print(names)"
   ]
  },
  {
   "cell_type": "code",
   "execution_count": 10,
   "id": "ebf6e9c5-0160-473d-a314-837a6abe30a1",
   "metadata": {
    "tags": []
   },
   "outputs": [
    {
     "name": "stdout",
     "output_type": "stream",
     "text": [
      "{'나', '너'}\n"
     ]
    }
   ],
   "source": [
    "anthem = \"\"\"나 나 너 너 너\"\"\"\n",
    "words = anthem.split()\n",
    "new_word = set()\n",
    "for w in words:\n",
    "    new_word.add(w)\n",
    "print(new_word)"
   ]
  },
  {
   "cell_type": "code",
   "execution_count": 25,
   "id": "fff0bf9a-2ca3-496e-9b60-415bc07e587c",
   "metadata": {
    "tags": []
   },
   "outputs": [
    {
     "name": "stdout",
     "output_type": "stream",
     "text": [
      "['나', '나', '너', '너', '너']\n",
      "{'나', '너'}\n"
     ]
    }
   ],
   "source": [
    "anthem = \"\"\"나 나 너 너 너\"\"\"\n",
    "words = anthem.split()\n",
    "new_word = list() # []\n",
    "for w in words:\n",
    "    new_word.append(w)\n",
    "print(new_word)\n",
    "\n",
    "new_set = set(new_word)\n",
    "print(new_set)"
   ]
  },
  {
   "cell_type": "code",
   "execution_count": 26,
   "id": "adf1b212-95ab-453e-b47a-05473efe97ff",
   "metadata": {
    "tags": []
   },
   "outputs": [
    {
     "name": "stdout",
     "output_type": "stream",
     "text": [
      "{'나', '너'}\n"
     ]
    }
   ],
   "source": [
    "anthem = \"\"\"나 나 너 너 너\"\"\"\n",
    "words = anthem.split()\n",
    "word = set(words)\n",
    "print(word)"
   ]
  },
  {
   "cell_type": "markdown",
   "id": "b4d36335-fa27-4131-8568-9d3a56bb691b",
   "metadata": {},
   "source": [
    "### 10.2.2 집합 만들기"
   ]
  },
  {
   "cell_type": "markdown",
   "id": "93f2947d-6126-4c5f-a55c-5458c67f2b63",
   "metadata": {},
   "source": [
    "세트는 단일 변수에 여러 항목을 저장하는 데 사용됩니다.\n",
    "\n",
    "Set은 데이터 모음을 저장하는 데 사용되는 Python의 4가지 기본 제공 데이터 유형 중 하나이며 집합은 정렬되지 않은 , 변경 불가능한 색인화되지 않은 모음입니다 ."
   ]
  },
  {
   "cell_type": "code",
   "execution_count": 2,
   "id": "bfd3fa29-2acd-417a-907d-2c2d78a61c03",
   "metadata": {},
   "outputs": [
    {
     "name": "stdout",
     "output_type": "stream",
     "text": [
      "{'데이터', '모음', '저장'}\n"
     ]
    }
   ],
   "source": [
    "thisset = {\"데이터\", \"모음\", \"저장\",\"저장\"}\n",
    "print(thisset)"
   ]
  },
  {
   "cell_type": "code",
   "execution_count": 27,
   "id": "8ccaa0c0-6bb4-4533-93df-07a45f389a41",
   "metadata": {
    "tags": []
   },
   "outputs": [
    {
     "name": "stdout",
     "output_type": "stream",
     "text": [
      "{1, 2, 3, 4, 5, 6}\n"
     ]
    }
   ],
   "source": [
    "s1 = set([1,2,2,2,3,4,5,5,6])\n",
    "print(s1)"
   ]
  },
  {
   "cell_type": "code",
   "execution_count": 4,
   "id": "5eacd001-5e9b-48d5-976a-ec72734a9f1c",
   "metadata": {},
   "outputs": [
    {
     "name": "stdout",
     "output_type": "stream",
     "text": [
      "{'세트', '동일한', '중복'}\n"
     ]
    }
   ],
   "source": [
    "# 주의 할점은 세트 항목은 순서가 지정되지 않고 변경할 수 없으며 중복 값을 허용하지 않습니다.\n",
    "# 정렬되지 않음은 세트의 항목에 정의된 순서가 없음을 의미합니다.\n",
    "# 세트 아이템은 사용할 때마다 다른 순서로 나타날 수 있으며 인덱스나 키로 참조할 수 없습니다.\n",
    "# 세트 아이템은 변경할 수 없습니다. 즉, 세트가 생성된 후에는 아이템을 변경할 수 없습니다.\n",
    "# 중복 불가며 세트는 동일한 값을 가진 두 개의 항목을 가질 수 없습니다.\n",
    "\n",
    "thisset = {\"중복\", \"세트\", \"동일한\", \"동일한\"}\n",
    "\n",
    "print(thisset)"
   ]
  },
  {
   "cell_type": "markdown",
   "id": "7ef9eb73-50dc-431f-8dab-835fb8d404ab",
   "metadata": {},
   "source": [
    "### 10.2.3 합집합"
   ]
  },
  {
   "cell_type": "code",
   "execution_count": 5,
   "id": "7d7c8a20-c868-48bd-9f3b-6e4d5149c2d7",
   "metadata": {},
   "outputs": [
    {
     "name": "stdout",
     "output_type": "stream",
     "text": [
      "{1, 2, 3, 4, 5, 6, 8, 9}\n",
      "{1, 2, 3, 4, 5, 6, 8, 9}\n"
     ]
    }
   ],
   "source": [
    "set1 = set([1,2,3,4,5,6])\n",
    "set2 = set([3,4,5,6,8,9])\n",
    "\n",
    "\n",
    "print(set1 | set2)\n",
    "print(set1.union(set2))"
   ]
  },
  {
   "cell_type": "markdown",
   "id": "74fc4130-7366-44e7-bddc-8b9cab23a3cc",
   "metadata": {},
   "source": [
    "### 10.2.4 교집합"
   ]
  },
  {
   "cell_type": "code",
   "execution_count": 6,
   "id": "8739e0aa-6074-4a32-a9b0-aefdc8fff3c6",
   "metadata": {},
   "outputs": [
    {
     "name": "stdout",
     "output_type": "stream",
     "text": [
      "{3, 4, 5, 6}\n",
      "{3, 4, 5, 6}\n"
     ]
    },
    {
     "data": {
      "text/plain": [
       "{3, 4, 5, 6}"
      ]
     },
     "execution_count": 6,
     "metadata": {},
     "output_type": "execute_result"
    }
   ],
   "source": [
    "set1 = set([1,2,3,4,5,6])\n",
    "set2 = set([3,4,5,6,8,9])\n",
    "\n",
    "print(set1 & set2)\n",
    "print(set1.intersection(set2))\n",
    "\n",
    "{3, 4, 5, 6}\n",
    "{3, 4, 5, 6}"
   ]
  },
  {
   "cell_type": "markdown",
   "id": "211148e6-e12d-435e-a526-cab2e5bcc3be",
   "metadata": {},
   "source": [
    "### 10.2.5 차집합"
   ]
  },
  {
   "cell_type": "code",
   "execution_count": 7,
   "id": "38f8fa22-6e8e-41fb-a2d5-70f3e3be4dad",
   "metadata": {},
   "outputs": [
    {
     "name": "stdout",
     "output_type": "stream",
     "text": [
      "{1, 2}\n",
      "{1, 2}\n"
     ]
    }
   ],
   "source": [
    "set1 = set([1,2,3,4,5,6])\n",
    "set2 = set([3,4,5,6,8,9])\n",
    "\n",
    "\n",
    "print(set1 - set2)\n",
    "print(set1.difference(set2))"
   ]
  },
  {
   "cell_type": "markdown",
   "id": "6ed65ea1-6173-49b3-b5b5-5751a46435cb",
   "metadata": {},
   "source": [
    "### 10.2.6 집합 추가와 제거"
   ]
  },
  {
   "cell_type": "code",
   "execution_count": 8,
   "id": "f922fe7c-2a5d-474f-9087-acb5985ad751",
   "metadata": {},
   "outputs": [
    {
     "name": "stdout",
     "output_type": "stream",
     "text": [
      "{1, 2, 3, 4, 5, 6, 7, 8, 9}\n",
      "{1, 2, 3, 4, 5, 6, 7, 8}\n"
     ]
    }
   ],
   "source": [
    "set1 = set([1,2,3,4,5,6])\n",
    "set1.update([7,8,9])         # update\n",
    "print(set1)\n",
    "\n",
    "set1.remove(9)               # remove\n",
    "\n",
    "print(set1)"
   ]
  },
  {
   "cell_type": "code",
   "execution_count": 4,
   "id": "a7f697d8-6a30-4b33-b30a-ea56fa8b7bfe",
   "metadata": {},
   "outputs": [
    {
     "name": "stdout",
     "output_type": "stream",
     "text": [
      "set()\n"
     ]
    }
   ],
   "source": [
    "#집합 비우기\n",
    "nameSet = {\"John\", \"Jane\", \"Doe\"}\n",
    "\n",
    "nameSet.clear()\n",
    "\n",
    "print(nameSet)"
   ]
  },
  {
   "cell_type": "code",
   "execution_count": 1,
   "id": "8c2a15e4-071a-46f6-b82e-0fe6a562aaf9",
   "metadata": {},
   "outputs": [
    {
     "name": "stdout",
     "output_type": "stream",
     "text": [
      "[1, 2, 'h', [1, 2], True]\n"
     ]
    }
   ],
   "source": [
    "# 리스트\n",
    "ll = [1,2,'h',[1,2],True]\n",
    "print(ll)"
   ]
  },
  {
   "cell_type": "code",
   "execution_count": 2,
   "id": "5b92b3b2-2a66-4433-8c86-420ed2082d72",
   "metadata": {},
   "outputs": [
    {
     "name": "stdout",
     "output_type": "stream",
     "text": [
      "(1, 2, 'h', [1, 2], True)\n"
     ]
    }
   ],
   "source": [
    "# 튜플\n",
    "ll = (1,2,'h',[1,2],True)\n",
    "print(ll)"
   ]
  },
  {
   "cell_type": "code",
   "execution_count": null,
   "id": "a5d8305d-df50-4ad3-8f8d-7963dd1ac26a",
   "metadata": {},
   "outputs": [],
   "source": [
    "#딕셔너리\n",
    "di = {'name':'홍길동','age':24,'address':('청양군','123번지')}"
   ]
  },
  {
   "cell_type": "code",
   "execution_count": 4,
   "id": "4f93ef30-58fe-4875-8119-b21cc4432947",
   "metadata": {},
   "outputs": [
    {
     "name": "stdout",
     "output_type": "stream",
     "text": [
      "{'이순신', '김좌진', '홍길동', '춘향이'}\n"
     ]
    }
   ],
   "source": [
    "#집합(SET)\n",
    "\n",
    "s1 = {\"홍길동\",\"춘향이\"}\n",
    "s2 = {\"이순신\",\"김좌진\"}\n",
    "\n",
    "print(s1 | s2)"
   ]
  },
  {
   "cell_type": "code",
   "execution_count": 1,
   "id": "6d7b35d0-134c-4c19-8f2f-9217a98861e6",
   "metadata": {},
   "outputs": [
    {
     "name": "stdout",
     "output_type": "stream",
     "text": [
      "(1, 'A')\n",
      "(2, 'B')\n",
      "(3, 'C')\n"
     ]
    }
   ],
   "source": [
    "numbers = [1, 2, 3] \n",
    "letters = [\"A\", \"B\", \"C\"] \n",
    "\n",
    "for pair in zip(numbers, letters): \n",
    "    print(pair)\n",
    "\n",
    "    "
   ]
  },
  {
   "cell_type": "code",
   "execution_count": 3,
   "id": "fbe16a93-40b7-426f-83bb-72ab206eb207",
   "metadata": {},
   "outputs": [
    {
     "name": "stdout",
     "output_type": "stream",
     "text": [
      "a is equal b\n"
     ]
    }
   ],
   "source": [
    "a=1\n",
    "b=1\n",
    "\n",
    "if a == b:\n",
    "    print('a is equal b')"
   ]
  },
  {
   "cell_type": "code",
   "execution_count": 4,
   "id": "b4dc44d0-f018-4195-b580-58d6d9efdc10",
   "metadata": {},
   "outputs": [
    {
     "name": "stdout",
     "output_type": "stream",
     "text": [
      "a is equal b\n"
     ]
    }
   ],
   "source": [
    "a=1\n",
    "b=1\n",
    "\n",
    "if a is b:\n",
    "    print('a is equal b')"
   ]
  },
  {
   "cell_type": "code",
   "execution_count": 6,
   "id": "8bcfbc8b-1741-44e4-89a1-74bbc89c797c",
   "metadata": {},
   "outputs": [
    {
     "name": "stdout",
     "output_type": "stream",
     "text": [
      "a is equal b\n"
     ]
    }
   ],
   "source": [
    "s1 = 'To be or not to be'\n",
    "s2 = s1\n",
    "if s1 is s2:\n",
    "    print('a is equal b')"
   ]
  },
  {
   "cell_type": "code",
   "execution_count": 9,
   "id": "6a5043dd-daea-4bc7-a3d7-8952b1ca22dd",
   "metadata": {},
   "outputs": [
    {
     "name": "stdout",
     "output_type": "stream",
     "text": [
      "To be or not to be\n",
      "False\n"
     ]
    }
   ],
   "source": [
    "s3 = 'To be or not'\n",
    "s3 = s3 + ' to be'\n",
    "print(s3)\n",
    "print(s1 is s3) "
   ]
  },
  {
   "cell_type": "code",
   "execution_count": 14,
   "id": "378b8822-6e0a-4b81-8b7e-326ec7d9e7b0",
   "metadata": {
    "tags": []
   },
   "outputs": [
    {
     "name": "stdout",
     "output_type": "stream",
     "text": [
      "<class 'list'>\n",
      "<class 'tuple'>\n",
      "<class 'dict'>\n",
      "<class 'set'>\n"
     ]
    }
   ],
   "source": [
    "### 선언\n",
    "l = list()\n",
    "print(type(l))\n",
    "t = tuple()\n",
    "print(type(t))\n",
    "d = dict()\n",
    "print(type(d))\n",
    "s = set()\n",
    "print(type(s))"
   ]
  },
  {
   "cell_type": "code",
   "execution_count": 23,
   "id": "7a5735db-4a5d-415a-970e-61cce96267b1",
   "metadata": {
    "tags": []
   },
   "outputs": [
    {
     "name": "stdout",
     "output_type": "stream",
     "text": [
      "<class 'list'> [0, 1, 2, 3, 4, 5, 6, 7, 8, 9]\n",
      "<class 'tuple'> (1, 2, 3)\n",
      "<class 'dict'> {'name': 'hong', 'age': 23}\n",
      "<class 'set'> {1, 2, 3}\n"
     ]
    }
   ],
   "source": [
    "### 초기화\n",
    "\n",
    "l = list(range(10))\n",
    "print(type(l),l)\n",
    "\n",
    "t = tuple([1,2,3])\n",
    "print(type(t),t)\n",
    "\n",
    "d = dict(name='hong',age=23)\n",
    "print(type(d),d)\n",
    "\n",
    "s = set([1,2,3])\n",
    "print(type(s),s)"
   ]
  },
  {
   "cell_type": "code",
   "execution_count": null,
   "id": "5e76c572-b301-4f25-9d88-5d25108a890c",
   "metadata": {},
   "outputs": [],
   "source": [
    "l = []\n",
    "t = ()\n",
    "d = {}\n",
    "s = set()"
   ]
  },
  {
   "cell_type": "markdown",
   "id": "3fdaf6b6-e7dc-4060-84d0-4010cbe78a3b",
   "metadata": {},
   "source": [
    "### 3사람의 주민번호를 키로, 이름을 값으로 정보를 저장하되 딕셔너리 콜랙션 구조를 사용하세요."
   ]
  },
  {
   "cell_type": "code",
   "execution_count": 31,
   "id": "af4e0d04-8260-4c20-a8b0-5b59526041b5",
   "metadata": {
    "tags": []
   },
   "outputs": [
    {
     "name": "stdin",
     "output_type": "stream",
     "text": [
      "주민번호: 1\n",
      "이름: 11\n",
      "주민번호: 2\n",
      "이름: 22\n",
      "주민번호: 3\n",
      "이름: 33\n"
     ]
    },
    {
     "name": "stdout",
     "output_type": "stream",
     "text": [
      "1 11\n",
      "2 22\n",
      "3 33\n"
     ]
    }
   ],
   "source": [
    "person = {}\n",
    "\n",
    "for i in range(3):\n",
    "    ssn = input('주민번호:')\n",
    "    name = input('이름:')\n",
    "    \n",
    "    person[ssn] = name\n",
    "    \n",
    "for k in person.keys():\n",
    "    print(k,person[k])"
   ]
  },
  {
   "cell_type": "code",
   "execution_count": 39,
   "id": "250a4981-4b32-4cec-a788-35be86364ca2",
   "metadata": {
    "tags": []
   },
   "outputs": [
    {
     "name": "stdout",
     "output_type": "stream",
     "text": [
      "본인이름\n",
      "본인이름\n",
      "본인이름\n",
      "본인이름\n",
      "본인이름\n",
      "본인이름\n"
     ]
    }
   ],
   "source": [
    "i = 0\n",
    "while (i < 3) :\n",
    "    print('본인이름')\n",
    "    i += 1\n",
    "    \n",
    "for i in range(3):\n",
    "    print('본인이름')"
   ]
  },
  {
   "cell_type": "code",
   "execution_count": 35,
   "id": "c9aa9bca-4917-4ca6-93d4-82bcd8d813a6",
   "metadata": {
    "tags": []
   },
   "outputs": [
    {
     "name": "stdout",
     "output_type": "stream",
     "text": [
      "2 x 2 = 4\n",
      "2 x 3 = 6\n",
      "2 x 4 = 8\n",
      "2 x 5 = 10\n",
      "2 x 6 = 12\n",
      "2 x 7 = 14\n",
      "2 x 8 = 16\n",
      "2 x 9 = 18\n",
      "\n",
      "3 x 2 = 6\n",
      "3 x 3 = 9\n",
      "3 x 4 = 12\n",
      "3 x 5 = 15\n",
      "3 x 6 = 18\n",
      "3 x 7 = 21\n",
      "3 x 8 = 24\n",
      "3 x 9 = 27\n",
      "\n",
      "4 x 2 = 8\n",
      "4 x 3 = 12\n",
      "4 x 4 = 16\n",
      "4 x 5 = 20\n",
      "4 x 6 = 24\n",
      "4 x 7 = 28\n",
      "4 x 8 = 32\n",
      "4 x 9 = 36\n",
      "\n",
      "5 x 2 = 10\n",
      "5 x 3 = 15\n",
      "5 x 4 = 20\n",
      "5 x 5 = 25\n",
      "5 x 6 = 30\n",
      "5 x 7 = 35\n",
      "5 x 8 = 40\n",
      "5 x 9 = 45\n",
      "\n",
      "6 x 2 = 12\n",
      "6 x 3 = 18\n",
      "6 x 4 = 24\n",
      "6 x 5 = 30\n",
      "6 x 6 = 36\n",
      "6 x 7 = 42\n",
      "6 x 8 = 48\n",
      "6 x 9 = 54\n",
      "\n",
      "7 x 2 = 14\n",
      "7 x 3 = 21\n",
      "7 x 4 = 28\n",
      "7 x 5 = 35\n",
      "7 x 6 = 42\n",
      "7 x 7 = 49\n",
      "7 x 8 = 56\n",
      "7 x 9 = 63\n",
      "\n",
      "8 x 2 = 16\n",
      "8 x 3 = 24\n",
      "8 x 4 = 32\n",
      "8 x 5 = 40\n",
      "8 x 6 = 48\n",
      "8 x 7 = 56\n",
      "8 x 8 = 64\n",
      "8 x 9 = 72\n",
      "\n",
      "9 x 2 = 18\n",
      "9 x 3 = 27\n",
      "9 x 4 = 36\n",
      "9 x 5 = 45\n",
      "9 x 6 = 54\n",
      "9 x 7 = 63\n",
      "9 x 8 = 72\n",
      "9 x 9 = 81\n",
      "\n"
     ]
    }
   ],
   "source": [
    "for x in range(2,10):\n",
    "    for y in range(2,10):\n",
    "        print(x,'x',y,'=',x*y,end='\\n')\n",
    "    print('')"
   ]
  },
  {
   "cell_type": "code",
   "execution_count": 44,
   "id": "f9b32a53-ae2c-4d73-b0d4-2ca738abe8d8",
   "metadata": {
    "tags": []
   },
   "outputs": [
    {
     "name": "stdout",
     "output_type": "stream",
     "text": [
      "0\n",
      "1\n",
      "4\n",
      "7\n",
      "4\n",
      "5\n"
     ]
    }
   ],
   "source": [
    "l = [0,1,4,7,4,5,6,9,8,9]\n",
    "for x in l:\n",
    "    print(x)\n",
    "    if x == 5:\n",
    "        break\n",
    "    "
   ]
  },
  {
   "cell_type": "code",
   "execution_count": null,
   "id": "d4c17c85-921c-4d55-804f-f37cd4bf8a71",
   "metadata": {},
   "outputs": [],
   "source": []
  },
  {
   "cell_type": "code",
   "execution_count": 41,
   "id": "d0872e99-4dbf-4972-885e-2c1c70f8ebc4",
   "metadata": {
    "tags": []
   },
   "outputs": [
    {
     "name": "stdout",
     "output_type": "stream",
     "text": [
      "[0, 1, 2, 3, 4, 5, 6, 7, 8, 9]\n"
     ]
    }
   ],
   "source": [
    "l = list(range(10))\n",
    "print(l)"
   ]
  },
  {
   "cell_type": "code",
   "execution_count": 54,
   "id": "f029343d-a895-4b54-afd1-342a4dc66b41",
   "metadata": {
    "tags": []
   },
   "outputs": [
    {
     "name": "stdout",
     "output_type": "stream",
     "text": [
      "0\n",
      "2\n",
      "4\n",
      "6\n",
      "8\n",
      "end\n"
     ]
    }
   ],
   "source": [
    "l = list(range(10))\n",
    "#print(l)\n",
    "\n",
    "for x in l:\n",
    "    if (x % 2)==1:\n",
    "        continue\n",
    "        \n",
    "    print(x)\n",
    "  "
   ]
  },
  {
   "cell_type": "code",
   "execution_count": 60,
   "id": "6fe8fc7a-e152-41fa-ab37-88565a15dc0b",
   "metadata": {
    "tags": []
   },
   "outputs": [
    {
     "name": "stdin",
     "output_type": "stream",
     "text": [
      "phone number: 010-111\n"
     ]
    },
    {
     "name": "stdout",
     "output_type": "stream",
     "text": [
      "{'010-222': 'Park', '010-333': 'Kim'}\n"
     ]
    }
   ],
   "source": [
    "person = {'010-111':'Hong','010-222':'Park','010-333':'Kim'}\n",
    "\n",
    "phone = input('phone number:')\n",
    "\n",
    "def check_person(phone):\n",
    "    for p in person.keys():\n",
    "        if phone == p:\n",
    "            return True\n",
    "        else:\n",
    "            return False\n",
    "        \n",
    "if check_person(phone):\n",
    "    del person[phone]\n",
    "else:\n",
    "    person[phone] = input('new name:')\n",
    "    \n",
    "print(person)\n",
    "    "
   ]
  },
  {
   "cell_type": "code",
   "execution_count": 62,
   "id": "5a330e36-6827-47a4-9675-fdcaa479b253",
   "metadata": {
    "tags": []
   },
   "outputs": [
    {
     "name": "stdout",
     "output_type": "stream",
     "text": [
      "[1, 2, 3, 1, 2, 3]\n",
      "{1, 2, 3}\n",
      "[1, 2, 3]\n"
     ]
    }
   ],
   "source": [
    "l = [1,2,3,1,2,3]\n",
    "print(l)\n",
    "s = set(l)\n",
    "print(s)\n",
    "x = list(s)\n",
    "print(x)"
   ]
  }
 ],
 "metadata": {
  "kernelspec": {
   "display_name": "Python 3 (ipykernel)",
   "language": "python",
   "name": "python3"
  },
  "language_info": {
   "codemirror_mode": {
    "name": "ipython",
    "version": 3
   },
   "file_extension": ".py",
   "mimetype": "text/x-python",
   "name": "python",
   "nbconvert_exporter": "python",
   "pygments_lexer": "ipython3",
   "version": "3.11.5"
  }
 },
 "nbformat": 4,
 "nbformat_minor": 5
}
