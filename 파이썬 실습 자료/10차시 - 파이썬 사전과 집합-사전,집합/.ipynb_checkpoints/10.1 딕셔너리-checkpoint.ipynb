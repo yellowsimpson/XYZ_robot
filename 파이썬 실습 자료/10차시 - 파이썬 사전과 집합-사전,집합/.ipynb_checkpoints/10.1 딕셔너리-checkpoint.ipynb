{
 "cells": [
  {
   "cell_type": "markdown",
   "id": "8311c6d0-c0a1-432a-b38b-0e769453b464",
   "metadata": {},
   "source": [
    "## 10.1 딕셔너리"
   ]
  },
  {
   "cell_type": "markdown",
   "id": "b9d82af2-5a58-443a-b452-e89eea9b4b04",
   "metadata": {},
   "source": [
    "## 10.1.1 딕셔너리 시작하기"
   ]
  },
  {
   "cell_type": "markdown",
   "id": "895cd961-9058-4678-941e-013e3a1c8988",
   "metadata": {},
   "source": [
    "리스트와 튜플은 각 요소를 인덱스를 사용하여 접근할 수 있었습니다. 물론 0부터 시작합니다.\n",
    "\n",
    "이번에 얘기할 딕셔너리 즉 사전이라는 구조는 인덱스가 아닌 키를 사용하여 접근합니다.\n",
    "\n",
    "딕셔너리는 리스트나 튜플처럼 순차적으로(sequential) 해당 요솟값을 구하지 않고 Key를 통해 Value를 얻는다.\n",
    "\n",
    "따라서 순서가 따로 정의되지 않습니다. 이러한 키,벨류의 형태는 빅데이터에서 많이 데이터를 처리하는 방식입니다."
   ]
  },
  {
   "cell_type": "code",
   "execution_count": 1,
   "id": "b32cd93d-33b6-444b-9ccc-0df2688358ac",
   "metadata": {
    "tags": []
   },
   "outputs": [
    {
     "name": "stdin",
     "output_type": "stream",
     "text": [
      "name: name\n",
      "age: 23\n"
     ]
    },
    {
     "name": "stdout",
     "output_type": "stream",
     "text": [
      "{'name': 'name', 'age': '23'}\n"
     ]
    }
   ],
   "source": [
    "person = {}\n",
    "person['name'] = input('name:')\n",
    "person['age'] = input('age:')\n",
    "print(person)"
   ]
  },
  {
   "cell_type": "code",
   "execution_count": null,
   "id": "35a65a70-77eb-40cc-a9bd-06d3e1988920",
   "metadata": {},
   "outputs": [],
   "source": []
  },
  {
   "cell_type": "code",
   "execution_count": 5,
   "id": "1d803584-2654-4a34-9d2b-e4f4cfa50c6d",
   "metadata": {},
   "outputs": [
    {
     "name": "stdout",
     "output_type": "stream",
     "text": [
      "{'name': 'John', 'age': 36, 'country': 'Norway'}\n",
      "<class 'str'>\n",
      "John\n",
      "36\n",
      "Norway\n"
     ]
    }
   ],
   "source": [
    "thisdict = dict(name = \"John\", age = 36, country = \"Norway\")\n",
    "print(thisdict)\n",
    "print(type(thisdict['name']))\n",
    "\n",
    "for k in thisdict.keys(): \n",
    "          print(thisdict[k]) \n",
    "        "
   ]
  },
  {
   "cell_type": "code",
   "execution_count": 2,
   "id": "78a477c6-f249-49f2-a847-2f9ac8eb4e7c",
   "metadata": {},
   "outputs": [
    {
     "name": "stdout",
     "output_type": "stream",
     "text": [
      "John\n",
      "36\n",
      "Norway\n"
     ]
    }
   ],
   "source": [
    "thisdict = {\"name\":\"John\",\"age\":36,\"country\":\"Norway\"}\n",
    "#print(thisdict)\n",
    "\n",
    "for k in thisdict.keys(): \n",
    "          print(thisdict[k]) "
   ]
  },
  {
   "attachments": {
    "08d5a9a7-72de-4c41-bc7c-da9b1c343f68.png": {
     "image/png": "[encoded data removed]"
    }
   },
   "cell_type": "markdown",
   "id": "86da7f00-10b9-4c5b-ac6d-bd9123c8f320",
   "metadata": {},
   "source": [
    "### 돌발 문제\n",
    "![image.png](attachment:08d5a9a7-72de-4c41-bc7c-da9b1c343f68.png)\n",
    "\n",
    "이 아이스크림 정보를 딕셔너리 자료로 저장해보세요..inventory = {'메로나': [300, 20], '비비빅': [400, 3], '죠스바': [250, 100]}"
   ]
  },
  {
   "cell_type": "code",
   "execution_count": null,
   "id": "2eed24fd-7479-4293-b657-083eb8a8c022",
   "metadata": {},
   "outputs": [],
   "source": [
    "inventory = { '메로나': [300, 20], '비비빅': [400, 3], '죠스바': [250, 100]  }"
   ]
  },
  {
   "cell_type": "code",
   "execution_count": null,
   "id": "55e1c68b-a4ab-4d30-867e-0973d5082e2a",
   "metadata": {},
   "outputs": [],
   "source": [
    "icecream_dict = {\n",
    "    '메로나': {'가격': 300, '재고': 20},\n",
    "    '비비빅': {'가격': 400, '재고': 3},\n",
    "    '죠스바': {'가격': 250, '재고': 100}\n",
    "}"
   ]
  },
  {
   "cell_type": "markdown",
   "id": "64d1f0b4-619a-4032-a5aa-583f6c3562f3",
   "metadata": {},
   "source": [
    "## 모든 아이스크림 재고량과 금액으로 환산한 값을 프린트하세요.\n",
    "\n",
    "### 아이스크림: 50개\n",
    "### 가치: 4000원"
   ]
  },
  {
   "cell_type": "code",
   "execution_count": 9,
   "id": "99761cde-2f26-4ab1-913c-e29f2c285029",
   "metadata": {},
   "outputs": [
    {
     "name": "stdout",
     "output_type": "stream",
     "text": [
      "John\n"
     ]
    }
   ],
   "source": [
    "li = ['John',36,'Norway']\n",
    "\n",
    "print(li[0])\n"
   ]
  },
  {
   "cell_type": "code",
   "execution_count": 8,
   "id": "f9515a5f-5afd-4a6b-8957-c415d6abf757",
   "metadata": {},
   "outputs": [
    {
     "name": "stdout",
     "output_type": "stream",
     "text": [
      "36\n"
     ]
    }
   ],
   "source": [
    "thisdict = {\"name\":\"John\",\"age\":36,\"country\":\"Norway\"}\n",
    "\n",
    "print(thisdict[\"age\"])"
   ]
  },
  {
   "cell_type": "markdown",
   "id": "2b75f688-9d8c-44da-ace5-92823a42f639",
   "metadata": {},
   "source": [
    "{Key1:Value1, Key2:Value2, Key3:Value3, ...} \n",
    "\n",
    "Key와 Value의 쌍 여러 개가 { }로 둘러싸여 있다. \n",
    "\n",
    "각각의 요소는 Key:Value 형태로 이루어져 있고 쉼표(,)로 구분되어 있다.\n",
    "\n",
    "Key에는 변하지 않는 값을 사용하고, Value에는 변하는 값과 변하지 않는 값 모두 사용할 수 있습니다."
   ]
  },
  {
   "cell_type": "code",
   "execution_count": 1,
   "id": "49dbb9cf-3d16-4ec0-a915-b67878413938",
   "metadata": {},
   "outputs": [
    {
     "data": {
      "text/plain": [
       "{1: 'hello', 2: ['list']}"
      ]
     },
     "execution_count": 1,
     "metadata": {},
     "output_type": "execute_result"
    }
   ],
   "source": [
    "# 또한 다음 예처럼 Value에 리스트도 넣을 수 있다.\n",
    "\n",
    "a = { 'a': [1,2,3,4], 1:1, 2:'hello'} \n",
    "# 딕셔너리 쌍 추가하기\n",
    "a = {1: 'hello'} \n",
    "a[2] = ['list'] \n",
    "a"
   ]
  },
  {
   "cell_type": "markdown",
   "id": "d1b4dd41-683d-4dd1-83fe-555854d32ef7",
   "metadata": {},
   "source": [
    "### 10.1.2 정보 추출하기`"
   ]
  },
  {
   "cell_type": "code",
   "execution_count": 5,
   "id": "7835144c-c4b4-4094-8fd9-7e03d30b27b3",
   "metadata": {},
   "outputs": [
    {
     "data": {
      "text/plain": [
       "dict_items([(1, 'hello'), (2, ['list'])])"
      ]
     },
     "execution_count": 5,
     "metadata": {},
     "output_type": "execute_result"
    }
   ],
   "source": [
    "#Key, Value 쌍 얻기(items)\n",
    "a.items() "
   ]
  },
  {
   "cell_type": "code",
   "execution_count": 18,
   "id": "fb510b41-98d1-4738-b056-4ca17ce8f31b",
   "metadata": {},
   "outputs": [
    {
     "name": "stdout",
     "output_type": "stream",
     "text": [
      "dict_items([('name', 'John'), ('age', 36), ('country', 'Norway')])\n",
      "<class 'dict_items'>\n",
      "('name', 'John')\n"
     ]
    }
   ],
   "source": [
    "thisdict = {\"name\":\"John\",\"age\":36,\"country\":\"Norway\"}\n",
    "\n",
    "items = thisdict.items()\n",
    "print(items)\n",
    "print(type(items))\n",
    "\n",
    "li = list(items)\n",
    "\n",
    "print(li[0])"
   ]
  },
  {
   "cell_type": "code",
   "execution_count": 6,
   "id": "544d064a-2f36-42fe-aa50-eb48bcf1a0aa",
   "metadata": {},
   "outputs": [
    {
     "name": "stdout",
     "output_type": "stream",
     "text": [
      "1\n",
      "2\n"
     ]
    }
   ],
   "source": [
    "# 키 값만 추출할 수 있습니다.\n",
    "for k in a.keys(): \n",
    "          print(k) "
   ]
  },
  {
   "cell_type": "code",
   "execution_count": 2,
   "id": "d9aad57e-6dea-4674-8321-b5712dd4e566",
   "metadata": {},
   "outputs": [
    {
     "name": "stdout",
     "output_type": "stream",
     "text": [
      "hello\n",
      "['list']\n"
     ]
    }
   ],
   "source": [
    "#이 키를 이용하여 값을 추출할 수 있습니다.\n",
    "\n",
    "for k in a.keys(): \n",
    "          print(a[k]) \n",
    "        "
   ]
  },
  {
   "cell_type": "markdown",
   "id": "ea5cc825-c871-4a64-b4dd-9f7075c0b51a",
   "metadata": {},
   "source": [
    "### 10.1.3 복사하기"
   ]
  },
  {
   "cell_type": "markdown",
   "id": "2dbee540-3e3e-47ec-a7b9-dc8f8298540c",
   "metadata": {},
   "source": [
    " 단순히 를 입력하는 것만으로는 사전을 복사할 수 없습니다 \n",
    " \n",
    "왜냐하면 dict2 = dict1 는 dict1 에 대한 참조dict2 일 뿐이고 A에서 변경한 내용은 B에 자동으로 적용되기 때문입니다\n",
    "\n",
    "사본을 만드는 방법이 있는데 한 가지 방법은 내장된 사전 방법을 사용하는 것 copy()입니다."
   ]
  },
  {
   "cell_type": "code",
   "execution_count": 8,
   "id": "52b0a318-8e6e-4889-9124-5b35cadaf5d7",
   "metadata": {},
   "outputs": [
    {
     "data": {
      "text/plain": [
       "{'brand': '현대차', 'model': '제너시스', 'year': 2022}"
      ]
     },
     "execution_count": 8,
     "metadata": {},
     "output_type": "execute_result"
    }
   ],
   "source": [
    "thisdict = {\n",
    "  \"brand\": \"현대차\",\n",
    "  \"model\": \"제너시스\",\n",
    "  \"year\": 2022\n",
    "}\n",
    "\n",
    "thatdict = thisdict\n",
    "\n",
    "thatdict"
   ]
  },
  {
   "cell_type": "code",
   "execution_count": 9,
   "id": "8fb8e26d-e904-45ef-8752-f37abd0503bb",
   "metadata": {},
   "outputs": [
    {
     "data": {
      "text/plain": [
       "2023"
      ]
     },
     "execution_count": 9,
     "metadata": {},
     "output_type": "execute_result"
    }
   ],
   "source": [
    "thisdict['year'] = 2023\n",
    "\n",
    "thatdict['year']"
   ]
  },
  {
   "cell_type": "code",
   "execution_count": 10,
   "id": "22e6a25a-697d-4527-9166-42afa2ea1d88",
   "metadata": {},
   "outputs": [
    {
     "name": "stdout",
     "output_type": "stream",
     "text": [
      "{'brand': '현대차', 'model': '제너시스', 'year': 2023}\n"
     ]
    }
   ],
   "source": [
    "# 딕셔너리의 정보를 다른 메모리상으로 카피하는 것은 copy라고하는 메소드를 사용합니다.\n",
    "mydict = thisdict.copy()\n",
    "print(mydict)"
   ]
  },
  {
   "cell_type": "code",
   "execution_count": 11,
   "id": "0dca6e16-b364-4480-a658-8667196895c7",
   "metadata": {},
   "outputs": [
    {
     "data": {
      "text/plain": [
       "2023"
      ]
     },
     "execution_count": 11,
     "metadata": {},
     "output_type": "execute_result"
    }
   ],
   "source": [
    "thisdict['year'] = 2024\n",
    "\n",
    "mydict['year']"
   ]
  },
  {
   "cell_type": "code",
   "execution_count": 22,
   "id": "1f423070-1049-42bc-a599-6fd5f9d29c18",
   "metadata": {},
   "outputs": [
    {
     "name": "stdout",
     "output_type": "stream",
     "text": [
      "brand Ford\n",
      "model Mustang\n",
      "year 1964\n",
      "{'brand': 'Ford', 'model': 'Mustang', 'year': 1964}\n"
     ]
    }
   ],
   "source": [
    "#또 다른 방법은 내장 함수를 사용합니다.\n",
    "\n",
    "thisdict = {\n",
    "  \"brand\": \"Ford\",\n",
    "  \"model\": \"Mustang\",\n",
    "  \"year\": 1964\n",
    "}\n",
    "mydict = dict(thisdict)\n",
    "\n",
    "for k,v in thisdict.items():\n",
    "    print(k,v)\n",
    "    \n",
    "#for k in thisdict.keys():\n",
    "#    print(k,\":\",thisdict[k])\n",
    "    \n",
    "print(mydict)\n"
   ]
  },
  {
   "cell_type": "markdown",
   "id": "4a2903ca-c7b7-4281-90bf-b7a8ec6f16cb",
   "metadata": {},
   "source": [
    "### 10.1.4 반복문"
   ]
  },
  {
   "cell_type": "code",
   "execution_count": 13,
   "id": "0f698211-8ab4-4d23-abdf-31dceb67c70e",
   "metadata": {},
   "outputs": [
    {
     "name": "stdout",
     "output_type": "stream",
     "text": [
      "[['banana', 'banana', 'banana'], ['apple', 'apple'], ['mango'], ['kiwi', 'kiwi', 'kiwi', 'kiwi', 'kiwi']]\n"
     ]
    }
   ],
   "source": [
    "# Initialize the dictionary\n",
    "fruits = {'banana':3,'apple':2, 'mango':1, 'kiwi':5}\n",
    "\n",
    "# Create blank list to append to\n",
    "fruits_list = []\n",
    "\n",
    "# Create the for loop\n",
    "for fruit, quantity in fruits.items():\n",
    "    # Append the list to the main list\n",
    "    fruits_list.append([fruit]*quantity)\n",
    "\n",
    "# Print out the final list\n",
    "print(fruits_list)"
   ]
  },
  {
   "cell_type": "markdown",
   "id": "9b88f25a-cd6c-4434-9ac0-a51ef9a85cf6",
   "metadata": {},
   "source": [
    "### 돌발문제\n",
    "\n",
    "1. 리스트로 단어 외우기 프로그램했죠?\n",
    "\n",
    "2. 딕셔너리로 바꾸서 프로그램 하라..."
   ]
  },
  {
   "cell_type": "code",
   "execution_count": 1,
   "id": "8c44841d-43da-4464-b867-2fed6d1b085a",
   "metadata": {},
   "outputs": [
    {
     "name": "stdout",
     "output_type": "stream",
     "text": [
      "school\n",
      "teacher\n",
      "student\n"
     ]
    }
   ],
   "source": [
    "dic = {'school':'학교','teacher':'선생님','student':\"학생\"}\n",
    "\n",
    "for key in dic.keys():\n",
    "    print(key)"
   ]
  },
  {
   "cell_type": "code",
   "execution_count": 2,
   "id": "e6a9de0d-0334-49b8-9676-75b82fb03176",
   "metadata": {},
   "outputs": [
    {
     "name": "stdin",
     "output_type": "stream",
     "text": [
      "Enter a word:  a\n",
      "Enter a word:  b\n",
      "Enter a word:  c\n",
      "Enter a word:  d\n",
      "Enter a word:  e\n"
     ]
    },
    {
     "name": "stdout",
     "output_type": "stream",
     "text": [
      "Sleep 5 seconds from now on...\n",
      "wake up!\n"
     ]
    },
    {
     "name": "stdin",
     "output_type": "stream",
     "text": [
      "Word 1:  a\n",
      "Word 2:  b\n",
      "Word 3:  c\n",
      "Word 4:  t\n",
      "Word 5:  y\n"
     ]
    },
    {
     "name": "stdout",
     "output_type": "stream",
     "text": [
      "you remembered 3 words\n"
     ]
    }
   ],
   "source": [
    "# initialize an empty dictionary,list\n",
    "my_dict = {}\n",
    "answers = []\n",
    "# get user input for word and meaning\n",
    "for i in range(5):\n",
    "    word = input(\"Enter a word: \")\n",
    "    meaning = ''; #input(\"Enter its meaning: \")\n",
    "    # add the word and meaning to the dictionary\n",
    "    my_dict[word] = meaning\n",
    "    \n",
    "import time    \n",
    "print (\"Sleep 5 seconds from now on...\")\n",
    "\n",
    "time.sleep(5)\n",
    "\n",
    "print(\"wake up!\")\n",
    "\n",
    "\n",
    "# loop through and collect input from user\n",
    "for i in range(5):\n",
    "    answer = input(f\"Word {i+1}: \")\n",
    "    answers.append(answer)\n",
    "    \n",
    "    \n",
    "count = 0    \n",
    "  \n",
    "for answer in answers:\n",
    "    if answer in my_dict:\n",
    "        count += 1\n",
    "\n",
    "\n",
    "print(f'you remembered {count} words')  "
   ]
  },
  {
   "cell_type": "code",
   "execution_count": null,
   "id": "566d95b1-77fb-4696-8907-f5f4da3037ae",
   "metadata": {},
   "outputs": [],
   "source": [
    "#import random\n",
    "#rand = random.radint(0, n)\n",
    "\n",
    "n = int(input(\"암기하려는 단어 갯수를 입력하세요 : \"))\n",
    "# lis = []  # 암기장, 인덱스\n",
    "dic = {}  # 의미, 뜻\n",
    "cnt = 0   # 반복문 종료를 위한 카운트\n",
    "cnt_succ = 0  # 정답 수\n",
    "cnt_fail = 0  # 오답 수\n",
    "\n",
    "for i in range(n):\n",
    "    word, mean = input(\"단어 의미를 공백으로 구분지어 입력하세요 : \").split()\n",
    "    dic[word] = mean\n",
    "    \n",
    "print()\n",
    "print(\"\"\" 암기하려는 단어를 모두 입력받았습니다\n",
    "          지금부터 암기게임을 시작합니다 \"\"\")\n",
    "print()\n",
    "\n",
    "\n",
    "while cnt < len(dic):\n",
    "    \n",
    "    for word in dic.keys():\n",
    "        blank = input(f\"{word}의 뜻은? : \")\n",
    "        \n",
    "        if dic[word] == blank:\n",
    "            print(\"정답입니다\")\n",
    "            print()\n",
    "            cnt_succ += 1\n",
    "        else:\n",
    "            print(\"틀렸습니다\")\n",
    "            print()\n",
    "            cnt_fail += 1\n",
    "        cnt += 1\n",
    "            \n",
    "\n",
    "\n",
    "print(f\"정답 수 : {cnt_succ}\")\n",
    "print(f\"틀린 수 : {cnt_fail}\")"
   ]
  },
  {
   "cell_type": "code",
   "execution_count": 16,
   "id": "404ee7e4-3153-4ec4-8f29-ab08422f565a",
   "metadata": {
    "tags": []
   },
   "outputs": [
    {
     "name": "stdout",
     "output_type": "stream",
     "text": [
      "['나', '나', '너', '너', '너']\n",
      "not found 나\n",
      "found 나 1\n",
      "not found 너\n",
      "found 너 1\n",
      "found 너 2\n",
      "{'나': 2, '너': 3}\n"
     ]
    }
   ],
   "source": [
    "anthem = \"\"\"동해물과 백두산이 마르고 닳도록\n",
    "하느님이 보우하사 우리나라 만세\n",
    "무궁화 삼천리 화려 강산\n",
    "대한 사람 대한으로 길이 보전하세\n",
    "\n",
    "남산 위에 저 소나무 철갑을 두른 듯\n",
    "바람 서리 불변함은 우리 기상일세\n",
    "무궁화 삼천리 화려 강산\n",
    "대한 사람 대한으로 길이 보전하세\n",
    "\n",
    "가을 하늘 공활한데 높고 구름 없이\n",
    "밝은 달은 우리 가슴 일편단심일세\n",
    "무궁화 삼천리 화려 강산\n",
    "대한 사람 대한으로 길이 보전하세\n",
    "\n",
    "이 기상과 이 맘으로 충성을 다하여\n",
    "괴로우나 즐거우나 나라 사랑하세\n",
    "무궁화 삼천리 화려 강산\n",
    "대한 사람 대한으로 길이 보전하세\"\"\"\n",
    "\n",
    "anthem = \"\"\"나 나 너 너 너\"\"\"\n",
    "word_count = dict()\n",
    "\n",
    "words = anthem.split()\n",
    "\n",
    "#print(type(words))\n",
    "print(words)\n",
    "\n",
    "for w in words: \n",
    "    if w in word_count.keys():\n",
    "        print('found',w,word_count[w])\n",
    "        word_count[w] += 1\n",
    "    else:\n",
    "        print('not found',w)\n",
    "        word_count[w] = 1\n",
    "\n",
    "print(word_count)    "
   ]
  },
  {
   "cell_type": "code",
   "execution_count": 13,
   "id": "f4079b0e-dc43-4de1-861e-0fe99108c75f",
   "metadata": {
    "tags": []
   },
   "outputs": [
    {
     "name": "stdout",
     "output_type": "stream",
     "text": [
      "{'나는': 1, '너': 1}\n"
     ]
    }
   ],
   "source": [
    "\n",
    "anthem = \"\"\"나는 나는 너 너 너\"\"\"\n",
    "\n",
    "word_count = {}\n",
    "words = anthem.split()\n",
    "\n",
    "type(words)\n",
    "for w in words:\n",
    "    word_count[w]=1\n",
    "    \n",
    "print(word_count)     "
   ]
  },
  {
   "cell_type": "code",
   "execution_count": 23,
   "id": "36f15f44-23b5-4cfd-998d-4d7c8d2e22b0",
   "metadata": {
    "tags": []
   },
   "outputs": [
    {
     "name": "stdin",
     "output_type": "stream",
     "text": [
      "커피 종류를 번호로 입력하세요 (밀크: 1, 코코아: 2, 블랙커피: 3, 종료: 4):  4\n"
     ]
    },
    {
     "name": "stdout",
     "output_type": "stream",
     "text": [
      "취소 하였습니다.\n"
     ]
    },
    {
     "name": "stdin",
     "output_type": "stream",
     "text": [
      "커피 종류를 번호로 입력하세요 (밀크: 1, 코코아: 2, 블랙커피: 3, 종료: 4):  9\n"
     ]
    },
    {
     "name": "stdout",
     "output_type": "stream",
     "text": [
      "프로그램 종료 하였습니다.\n"
     ]
    }
   ],
   "source": [
    "# 커피 자동판매기 딕셔너리 정의\n",
    "coffee_info = {\n",
    "   1 : {'종류':'밀크','가격': 1500, '용량': 200},\n",
    "   2 : {'종류':'코코아','가격': 1800, '용량': 150},\n",
    "   3 : {'종류':'블랙커피','가격': 1200, '용량': 250}\n",
    "}\n",
    "\n",
    "# 커피 자동판매기 함수 정의\n",
    "def make_coffee(coffee_type, quantity, money):\n",
    "    if coffee_type not in coffee_info:\n",
    "        print(\"올바르지 않은 커피 종류 입력입니다.\")\n",
    "        return\n",
    "\n",
    "    if quantity <= 0:\n",
    "        print(\"올바르지 않은 커피 수량 입력입니다.\")\n",
    "        return\n",
    "    \n",
    "    if money < 0:\n",
    "        print(\"올바르지 않은 돈 입력입니다.\")\n",
    "        return\n",
    "    \n",
    "    \n",
    "    price_per_cup = coffee_info[coffee_type]['가격']\n",
    "    total_price = price_per_cup * quantity\n",
    "    capacity = coffee_info[coffee_type]['용량']\n",
    "\n",
    "    if money >= total_price and quantity <= capacity:\n",
    "        coffee_info[coffee_type]['용량'] -= quantity\n",
    "        change = money - total_price\n",
    "        print(f\"{coffee_type} {quantity}잔이 나왔습니다. 거스름돈은 {change}원 입니다.\")\n",
    "    elif quantity > capacity:\n",
    "        print(f\"죄송합니다. {coffee_type} 커피의 재고가 부족합니다.\")\n",
    "    else:\n",
    "        print(\"돈이 부족합니다. 금액을 확인해주세요.\")\n",
    "\n",
    "while True:\n",
    "    # 사용자 입력 받기\n",
    "    user_coffee_type = int(input(\"커피 종류를 번호로 입력하세요 (밀크: 1, 코코아: 2, 블랙커피: 3, 종료: 4): \"))\n",
    "    \n",
    "    if user_coffee_type == 9:\n",
    "        print('프로그램 종료 하였습니다.')\n",
    "        break\n",
    "    elif user_coffee_type == 4:\n",
    "        print('주문을 취소 하였습니다.')\n",
    "        continue\n",
    "    \n",
    "    user_quantity = int(input(\"뽑고 싶은 커피 잔 수를 입력하세요: \"))\n",
    "    user_money = int(input(\"돈을 입력하세요: \"))\n",
    "\n",
    "    # 커피 뽑기 시도\n",
    "\n",
    "    make_coffee(user_coffee_type, user_quantity, user_money)\n",
    "\n",
    "    print('감사합니다.')\n"
   ]
  },
  {
   "cell_type": "code",
   "execution_count": 48,
   "id": "2307dad0-d13e-4cd2-bc15-b13ee253a32b",
   "metadata": {
    "tags": []
   },
   "outputs": [
    {
     "name": "stdout",
     "output_type": "stream",
     "text": [
      "번호: 종류 : 가격 : 가능 수량\n",
      "1 : ['종류'] : 1500 : 200\n",
      "2 : ['종류'] : 1800 : 150\n",
      "3 : ['종류'] : 1200 : 250\n",
      "취소: 9\n"
     ]
    },
    {
     "name": "stdin",
     "output_type": "stream",
     "text": [
      "위 메뉴를 보고 원하는 종류를 번호로 선택하세요: 1\n",
      "뽑고 싶은 커피 잔 수를 입력하세요:  1\n",
      "돈을 입력하세요:  10000\n"
     ]
    },
    {
     "ename": "KeyError",
     "evalue": "'용량'",
     "output_type": "error",
     "traceback": [
      "\u001b[1;31m---------------------------------------------------------------------------\u001b[0m",
      "\u001b[1;31mKeyError\u001b[0m                                  Traceback (most recent call last)",
      "Cell \u001b[1;32mIn[48], line 66\u001b[0m\n\u001b[0;32m     63\u001b[0m user_quantity \u001b[38;5;241m=\u001b[39m \u001b[38;5;28mint\u001b[39m(\u001b[38;5;28minput\u001b[39m(\u001b[38;5;124m\"\u001b[39m\u001b[38;5;124m뽑고 싶은 커피 잔 수를 입력하세요: \u001b[39m\u001b[38;5;124m\"\u001b[39m))\n\u001b[0;32m     64\u001b[0m user_money \u001b[38;5;241m=\u001b[39m \u001b[38;5;28mint\u001b[39m(\u001b[38;5;28minput\u001b[39m(\u001b[38;5;124m\"\u001b[39m\u001b[38;5;124m돈을 입력하세요: \u001b[39m\u001b[38;5;124m\"\u001b[39m))\n\u001b[1;32m---> 66\u001b[0m make_coffee(user_coffee_type, user_quantity, user_money)\n\u001b[0;32m     68\u001b[0m \u001b[38;5;28mprint\u001b[39m(\u001b[38;5;124m'\u001b[39m\u001b[38;5;124m감사합니다.\u001b[39m\u001b[38;5;124m'\u001b[39m)\n",
      "Cell \u001b[1;32mIn[48], line 40\u001b[0m, in \u001b[0;36mmake_coffee\u001b[1;34m(coffee_type, quantity, money)\u001b[0m\n\u001b[0;32m     38\u001b[0m price_per_cup \u001b[38;5;241m=\u001b[39m coffee_info[coffee_type][\u001b[38;5;124m'\u001b[39m\u001b[38;5;124m가격\u001b[39m\u001b[38;5;124m'\u001b[39m]\n\u001b[0;32m     39\u001b[0m total_price \u001b[38;5;241m=\u001b[39m price_per_cup \u001b[38;5;241m*\u001b[39m quantity\n\u001b[1;32m---> 40\u001b[0m capacity \u001b[38;5;241m=\u001b[39m coffee_info[coffee_type][\u001b[38;5;124m'\u001b[39m\u001b[38;5;124m용량\u001b[39m\u001b[38;5;124m'\u001b[39m]\n\u001b[0;32m     42\u001b[0m \u001b[38;5;28;01mif\u001b[39;00m money \u001b[38;5;241m>\u001b[39m\u001b[38;5;241m=\u001b[39m total_price \u001b[38;5;129;01mand\u001b[39;00m quantity \u001b[38;5;241m<\u001b[39m\u001b[38;5;241m=\u001b[39m capacity:\n\u001b[0;32m     43\u001b[0m     coffee_info[coffee_type][\u001b[38;5;124m'\u001b[39m\u001b[38;5;124m용량\u001b[39m\u001b[38;5;124m'\u001b[39m] \u001b[38;5;241m-\u001b[39m\u001b[38;5;241m=\u001b[39m quantity\n",
      "\u001b[1;31mKeyError\u001b[0m: '용량'"
     ]
    }
   ],
   "source": [
    "# 커피 자동판매기 딕셔너리 정의\n",
    "coffee_info = {\n",
    "   1 : {'종류':'밀크','가격': 1500, '수량': 200},\n",
    "   2 : {'종류':'코코아','가격': 1800, '수량': 150},\n",
    "   3 : {'종류':'블랙커피','가격': 1200, '수량': 250}\n",
    "}\n",
    "\n",
    "user_quantity = 0\n",
    "user_money =0 \n",
    "\n",
    "def print_menu():\n",
    "    print('번호: 종류 : 가격 : 가능 수량')\n",
    "     \n",
    "    for coffee in coffee_info.items():\n",
    "        print(coffee[0],':',['종류'],':',coffee[1]['가격'],':',coffee[1]['수량'])\n",
    "        \n",
    "    print('취소: 9')\n",
    "\n",
    "def select_menu():\n",
    "    coffee_type = int(input('위 메뉴를 보고 원하는 종류를 번호로 선택하세요:'))   \n",
    "    \n",
    "    if coffee_type==9:\n",
    "        return coffee_type\n",
    "    if coffee_type not in coffee_info:\n",
    "        print(\"올바르지 않은 커피 종류 입력입니다.\")\n",
    "\n",
    "    return coffee_type\n",
    "\n",
    "def make_coffee(coffee_type, quantity, money):\n",
    "    if quantity <= 0:\n",
    "        print(\"올바르지 않은 커피 수량 입력입니다.\")\n",
    "        return False\n",
    "    \n",
    "    if money < 0:\n",
    "        print(\"올바르지 않은 돈 입력입니다.\")\n",
    "        return False\n",
    "    \n",
    "    price_per_cup = coffee_info[coffee_type]['가격']\n",
    "    total_price = price_per_cup * quantity\n",
    "    capacity = coffee_info[coffee_type]['수량']\n",
    "\n",
    "    if money >= total_price and quantity <= capacity:\n",
    "        coffee_info[coffee_type]['수량'] -= quantity\n",
    "        change = money - total_price\n",
    "        print(f\"{coffee_type} {quantity}잔이 나왔습니다. 거스름돈은 {change}원 입니다.\")\n",
    "    elif quantity > capacity:\n",
    "        print(f\"죄송합니다. {coffee_type} 커피의 재고가 부족합니다.\")\n",
    "    else:\n",
    "        print(\"돈이 부족합니다. 금액을 확인해주세요.\")\n",
    "\n",
    " \n",
    "    return True\n",
    "\n",
    "    \n",
    "if __name__ == '__main__':\n",
    "    while True:\n",
    "        print_menu()\n",
    "        coffee_type = select_menu()\n",
    "\n",
    "        if coffee_type == 9:\n",
    "            print('감사합니다.')\n",
    "            break\n",
    "        user_quantity = int(input(\"뽑고 싶은 커피 잔 수를 입력하세요: \"))\n",
    "        user_money = int(input(\"돈을 입력하세요: \"))\n",
    "\n",
    "        make_coffee(user_coffee_type, user_quantity, user_money)\n",
    "\n",
    "        print('감사합니다.')"
   ]
  }
 ],
 "metadata": {
  "kernelspec": {
   "display_name": "Python 3 (ipykernel)",
   "language": "python",
   "name": "python3"
  },
  "language_info": {
   "codemirror_mode": {
    "name": "ipython",
    "version": 3
   },
   "file_extension": ".py",
   "mimetype": "text/x-python",
   "name": "python",
   "nbconvert_exporter": "python",
   "pygments_lexer": "ipython3",
   "version": "3.11.5"
  }
 },
 "nbformat": 4,
 "nbformat_minor": 5
}
