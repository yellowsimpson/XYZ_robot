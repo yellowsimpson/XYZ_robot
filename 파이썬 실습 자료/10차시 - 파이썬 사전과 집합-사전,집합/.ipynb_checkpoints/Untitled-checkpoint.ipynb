{
 "cells": [
  {
   "cell_type": "code",
   "execution_count": 1,
   "id": "888d2817-b296-4d90-a7f8-2ada34ff8f8f",
   "metadata": {},
   "outputs": [
    {
     "name": "stdout",
     "output_type": "stream",
     "text": [
      "[0, 2, 4, 6, 8]\n"
     ]
    }
   ],
   "source": [
    "def is_even(x):\n",
    "    return x % 2 == 0\n",
    "\n",
    "result1=list(filter(is_even,range(10)))\n",
    "print(result1)\n"
   ]
  },
  {
   "cell_type": "markdown",
   "id": "9a3af8f2-37f2-4771-aac9-a593bfeb29b4",
   "metadata": {},
   "source": [
    "람다버전"
   ]
  },
  {
   "cell_type": "code",
   "execution_count": null,
   "id": "dbd5e2d4-31cc-4bcb-87ee-c0814f41f628",
   "metadata": {},
   "outputs": [],
   "source": [
    "result2=list(filter((lambda x:x%2==0),range(10)))\n",
    "print(result2)\n"
   ]
  },
  {
   "cell_type": "markdown",
   "id": "213d85fd-0556-4bba-bb77-0ba61362e17d",
   "metadata": {},
   "source": [
    "### 돌발 문제"
   ]
  },
  {
   "cell_type": "code",
   "execution_count": 19,
   "id": "273de948-3426-40fa-baf8-bd250ed899aa",
   "metadata": {},
   "outputs": [
    {
     "name": "stdout",
     "output_type": "stream",
     "text": [
      "평균은 92.375\n"
     ]
    }
   ],
   "source": [
    "score = [88, 95, 70, 100, 99,88,100,99]\n",
    "total_sum = 0\n",
    "#for no, s in enumerate(score, 1):\n",
    "for s in score:    \n",
    "    #print(f\"{no}번 학생의 성적 : {s}\")\n",
    "    total_sum +=s\n",
    "    \n",
    "avg = total_sum/len(score)\n",
    "\n",
    "print(f'평균은 {avg}')\n",
    "\n"
   ]
  },
  {
   "cell_type": "code",
   "execution_count": 16,
   "id": "16bd81be-69ee-4c78-a72b-6dc1ad8c6f95",
   "metadata": {},
   "outputs": [
    {
     "name": "stdout",
     "output_type": "stream",
     "text": [
      "1번 학생의 성적 : 88\n",
      "2번 학생의 성적 : 95\n",
      "3번 학생의 성적 : 70\n",
      "4번 학생의 성적 : 100\n",
      "5번 학생의 성적 : 99\n",
      "90.4\n",
      "학생의평균 : 90.4\n"
     ]
    }
   ],
   "source": [
    "score = [88, 95, 70, 100, 99]\n",
    "\n",
    "#for no, s in enumerate(score, 1):\n",
    "#    print(f\"{no}번 학생의 성적 : {s}\")\n",
    "    \n",
    "total = sum(score)\n",
    "average = total/len(score)\n",
    "\n",
    "print(\"학생의평균 :\", average)"
   ]
  },
  {
   "cell_type": "markdown",
   "id": "f0e41d79-c869-4196-a041-c6200f2b3426",
   "metadata": {},
   "source": [
    "sum(iterable)\n",
    "\n",
    "인자(parameter): iterable한 자료형을 받으며 numeric 해야합니다. \n",
    "즉, 리스트나 튜플 처럼 인덱스 순환 접근이 가능한 자료형이고 내부에 숫자로만 이루어져 있어야합니다. \n",
    "여기서 숫자는 정수, 실수 둘다 가능입니다\n",
    "\n",
    "반환형(리턴값) : 인자로 들어온 iterable 내부 모든 요소의 합"
   ]
  }
 ],
 "metadata": {
  "kernelspec": {
   "display_name": "Python 3 (ipykernel)",
   "language": "python",
   "name": "python3"
  },
  "language_info": {
   "codemirror_mode": {
    "name": "ipython",
    "version": 3
   },
   "file_extension": ".py",
   "mimetype": "text/x-python",
   "name": "python",
   "nbconvert_exporter": "python",
   "pygments_lexer": "ipython3",
   "version": "3.9.13"
  }
 },
 "nbformat": 4,
 "nbformat_minor": 5
}
